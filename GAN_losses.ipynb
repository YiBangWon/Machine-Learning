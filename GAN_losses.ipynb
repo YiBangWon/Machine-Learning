{
  "nbformat": 4,
  "nbformat_minor": 0,
  "metadata": {
    "colab": {
      "name": "GAN_losses.ipynb",
      "version": "0.3.2",
      "provenance": [],
      "collapsed_sections": [],
      "include_colab_link": true
    },
    "kernelspec": {
      "name": "python3",
      "display_name": "Python 3"
    }
  },
  "cells": [
    {
      "cell_type": "markdown",
      "metadata": {
        "id": "view-in-github",
        "colab_type": "text"
      },
      "source": [
        "<a href=\"https://colab.research.google.com/github/callee2006/MachineLearning/blob/master/GAN_losses.ipynb\" target=\"_parent\"><img src=\"https://colab.research.google.com/assets/colab-badge.svg\" alt=\"Open In Colab\"/></a>"
      ]
    },
    {
      "cell_type": "code",
      "metadata": {
        "id": "7V5WK9jaCvKL",
        "colab_type": "code",
        "colab": {}
      },
      "source": [
        "import numpy as np\n",
        "import matplotlib.pyplot as plt"
      ],
      "execution_count": 0,
      "outputs": []
    },
    {
      "cell_type": "markdown",
      "metadata": {
        "id": "g5efuFGPJRg-",
        "colab_type": "text"
      },
      "source": [
        "# Comparison of original GAN loss, alternative GAN loss, and WGAN loss\n",
        "\n",
        "* $org\\_loss: V(G,D)=E_{x \\sim P_{data}}[log D(x)]+E_{z \\sim P_z}[log (1-D(G(z)))]$\n",
        "\n",
        "* $alternative\\_loss: V(G,D)=E_{x \\sim P_{data}}[log D(x)]-E_{z \\sim P_z}[log D(G(z))]$\n",
        "\n",
        "* $wgan\\_loss: V(G,D)=E_{x \\sim P_{data}}[D(x)]-E_{z \\sim P_z}[D(G(z))]$"
      ]
    },
    {
      "cell_type": "code",
      "metadata": {
        "id": "Plgjq4IuDtLO",
        "colab_type": "code",
        "colab": {}
      },
      "source": [
        "# Consider only the loss for the generator\n",
        "\n",
        "x = np.linspace(0.01, 0.99, 100)     # x corresponds D(G(z))\n",
        "ones = np.ones(x.shape)\n",
        "org_loss = np.log(ones-x)            # original GAN\n",
        "\n",
        "alternative_loss = -np.log(x)        # alternative GAN loss\n",
        "\n",
        "wgan_loss = -x                       # WGAN loss"
      ],
      "execution_count": 0,
      "outputs": []
    },
    {
      "cell_type": "code",
      "metadata": {
        "id": "A_woz9uwDnqO",
        "colab_type": "code",
        "colab": {
          "base_uri": "https://localhost:8080/",
          "height": 287
        },
        "outputId": "fb2e71fc-e916-4f98-8b8e-f3ffd5167e21"
      },
      "source": [
        "plt.plot(x, org_loss)\n",
        "plt.plot(x, alternative_loss)\n",
        "plt.plot(x, wgan_loss)\n",
        "plt.legend([\"orginal gan loss\", \"alternative gan loss\", \"wgan loss\"])"
      ],
      "execution_count": 3,
      "outputs": [
        {
          "output_type": "execute_result",
          "data": {
            "text/plain": [
              "<matplotlib.legend.Legend at 0x7f78f31896a0>"
            ]
          },
          "metadata": {
            "tags": []
          },
          "execution_count": 3
        },
        {
          "output_type": "display_data",
          "data": {
            "image/png": "[encoded data removed]",
            "text/plain": [
              "<Figure size 432x288 with 1 Axes>"
            ]
          },
          "metadata": {
            "tags": []
          }
        }
      ]
    },
    {
      "cell_type": "code",
      "metadata": {
        "id": "ExqkmRRCD4n1",
        "colab_type": "code",
        "colab": {}
      },
      "source": [
        ""
      ],
      "execution_count": 0,
      "outputs": []
    }
  ]
}