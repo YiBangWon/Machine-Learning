{
  "nbformat": 4,
  "nbformat_minor": 0,
  "metadata": {
    "colab": {
      "name": "linear_regression.ipynb",
      "version": "0.3.2",
      "provenance": [],
      "collapsed_sections": [],
      "include_colab_link": true
    },
    "kernelspec": {
      "name": "python3",
      "display_name": "Python 3"
    }
  },
  "cells": [
    {
      "cell_type": "markdown",
      "metadata": {
        "id": "view-in-github",
        "colab_type": "text"
      },
      "source": [
        "<a href=\"https://colab.research.google.com/github/callee2006/MachineLearning/blob/master/linear_regression.ipynb\" target=\"_parent\"><img src=\"https://colab.research.google.com/assets/colab-badge.svg\" alt=\"Open In Colab\"/></a>"
      ]
    },
    {
      "cell_type": "markdown",
      "metadata": {
        "id": "fzHEwOGyzQQb",
        "colab_type": "text"
      },
      "source": [
        "This file contains practice examples of the following topics:\n",
        "\n",
        "* Linear Regression\t\n",
        "  - Linear regression\n",
        "  - Ridge ($L_2$ regularization)\n",
        "  - Lasso ($L_1$ regularization)\n",
        "  - ElasticNet ($L_1$ + $L_2$ regularization)\n",
        "\t\n",
        "* Linear Classification\t\n",
        "  -\tLogistic regression\n",
        "\n",
        "(Most of the contents and code are from \"Introduction to Machine Learning with Python\" by Andreas C. Müller & Sarah Guido)"
      ]
    },
    {
      "cell_type": "code",
      "metadata": {
        "id": "nIn3aQngJ7q8",
        "colab_type": "code",
        "outputId": "c54dab9f-b897-42d2-b6e5-8b65cfc4c9ce",
        "colab": {
          "base_uri": "https://localhost:8080/",
          "height": 400
        }
      },
      "source": [
        "! pip install mglearn\n",
        "\n",
        "import numpy as np\n",
        "import sklearn as sk\n",
        "from sklearn.model_selection import train_test_split\n",
        "\n",
        "import matplotlib.pyplot as plt\n",
        "import mglearn"
      ],
      "execution_count": 2,
      "outputs": [
        {
          "output_type": "stream",
          "text": [
            "Requirement already satisfied: mglearn in /usr/local/lib/python3.6/dist-packages (0.1.7)\n",
            "Requirement already satisfied: numpy in /usr/local/lib/python3.6/dist-packages (from mglearn) (1.16.3)\n",
            "Requirement already satisfied: pandas in /usr/local/lib/python3.6/dist-packages (from mglearn) (0.24.2)\n",
            "Requirement already satisfied: cycler in /usr/local/lib/python3.6/dist-packages (from mglearn) (0.10.0)\n",
            "Requirement already satisfied: matplotlib in /usr/local/lib/python3.6/dist-packages (from mglearn) (3.0.3)\n",
            "Requirement already satisfied: pillow in /usr/local/lib/python3.6/dist-packages (from mglearn) (4.3.0)\n",
            "Requirement already satisfied: scikit-learn in /usr/local/lib/python3.6/dist-packages (from mglearn) (0.21.1)\n",
            "Requirement already satisfied: imageio in /usr/local/lib/python3.6/dist-packages (from mglearn) (2.4.1)\n",
            "Requirement already satisfied: pytz>=2011k in /usr/local/lib/python3.6/dist-packages (from pandas->mglearn) (2018.9)\n",
            "Requirement already satisfied: python-dateutil>=2.5.0 in /usr/local/lib/python3.6/dist-packages (from pandas->mglearn) (2.5.3)\n",
            "Requirement already satisfied: six in /usr/local/lib/python3.6/dist-packages (from cycler->mglearn) (1.12.0)\n",
            "Requirement already satisfied: pyparsing!=2.0.4,!=2.1.2,!=2.1.6,>=2.0.1 in /usr/local/lib/python3.6/dist-packages (from matplotlib->mglearn) (2.4.0)\n",
            "Requirement already satisfied: kiwisolver>=1.0.1 in /usr/local/lib/python3.6/dist-packages (from matplotlib->mglearn) (1.1.0)\n",
            "Requirement already satisfied: olefile in /usr/local/lib/python3.6/dist-packages (from pillow->mglearn) (0.46)\n",
            "Requirement already satisfied: joblib>=0.11 in /usr/local/lib/python3.6/dist-packages (from scikit-learn->mglearn) (0.12.5)\n",
            "Requirement already satisfied: scipy>=0.17.0 in /usr/local/lib/python3.6/dist-packages (from scikit-learn->mglearn) (1.3.0)\n",
            "Requirement already satisfied: setuptools in /usr/local/lib/python3.6/dist-packages (from kiwisolver>=1.0.1->matplotlib->mglearn) (41.0.1)\n"
          ],
          "name": "stdout"
        },
        {
          "output_type": "stream",
          "text": [
            "/usr/local/lib/python3.6/dist-packages/sklearn/externals/six.py:31: DeprecationWarning: The module is deprecated in version 0.21 and will be removed in version 0.23 since we've dropped support for Python 2.7. Please rely on the official version of six (https://pypi.org/project/six/).\n",
            "  \"(https://pypi.org/project/six/).\", DeprecationWarning)\n",
            "/usr/local/lib/python3.6/dist-packages/sklearn/externals/joblib/__init__.py:15: DeprecationWarning: sklearn.externals.joblib is deprecated in 0.21 and will be removed in 0.23. Please import this functionality directly from joblib, which can be installed with: pip install joblib. If this warning is raised when loading pickled models, you may need to re-serialize those models with scikit-learn 0.21+.\n",
            "  warnings.warn(msg, category=DeprecationWarning)\n"
          ],
          "name": "stderr"
        }
      ]
    },
    {
      "cell_type": "markdown",
      "metadata": {
        "colab_type": "text",
        "id": "b8Tof_xy9ryB"
      },
      "source": [
        "# Linear regression\n",
        "\n",
        ">$\\hat{y}=wx + b$\n",
        "\n",
        ">$\\hat{y}=w_1x_1+ w_2x_2+ ...+ b$\n",
        "\n",
        ">$Loss_{linear} = \\frac{1}{2N} \\sum_i{(\\hat{y}-y)^2}$\n",
        "(least square)\n",
        "\n",
        "See https://scikit-learn.org/stable/modules/generated/sklearn.linear_model.LinearRegression.html"
      ]
    },
    {
      "cell_type": "markdown",
      "metadata": {
        "id": "va04ZHqD-yDw",
        "colab_type": "text"
      },
      "source": [
        "## Linear regression on wave dataset"
      ]
    },
    {
      "cell_type": "code",
      "metadata": {
        "id": "L-PFWfbD9u2p",
        "colab_type": "code",
        "outputId": "e5cefda3-477c-41fe-9148-b5559bba620b",
        "colab": {
          "base_uri": "https://localhost:8080/",
          "height": 465
        }
      },
      "source": [
        "mglearn.plots.plot_linear_regression_wave()"
      ],
      "execution_count": 2,
      "outputs": [
        {
          "output_type": "stream",
          "text": [
            "w[0]: 0.393906  b: -0.031804\n"
          ],
          "name": "stdout"
        },
        {
          "output_type": "display_data",
          "data": {
            "image/png": "[encoded data removed]",
            "text/plain": [
              "<Figure size 576x576 with 1 Axes>"
            ]
          },
          "metadata": {
            "tags": []
          }
        }
      ]
    },
    {
      "cell_type": "code",
      "metadata": {
        "id": "65N_tdUc92Q2",
        "colab_type": "code",
        "colab": {}
      },
      "source": [
        "from sklearn.linear_model import LinearRegression\n",
        "\n",
        "# creates wave data\n",
        "X, y = mglearn.datasets.make_wave(n_samples=60)\n",
        "\n",
        "# split into training set and test set\n",
        "X_train, X_test, y_train, y_test = train_test_split(X, y, random_state=42)"
      ],
      "execution_count": 0,
      "outputs": []
    },
    {
      "cell_type": "code",
      "metadata": {
        "id": "wumW0e_4-BVS",
        "colab_type": "code",
        "outputId": "44431694-c2d9-4d1b-b590-7efc313a83ab",
        "colab": {
          "base_uri": "https://localhost:8080/",
          "height": 52
        }
      },
      "source": [
        "# regression (parameter estimation)\n",
        "lr = LinearRegression().fit(X_train, y_train)\n",
        "\n",
        "# check coefficients and intercept\n",
        "print(\"lr.coef_: \", lr.coef_)               # W\n",
        "print(\"lr.intercept_:\", lr.intercept_)      # b"
      ],
      "execution_count": 4,
      "outputs": [
        {
          "output_type": "stream",
          "text": [
            "lr.coef_:  [0.39390555]\n",
            "lr.intercept_: -0.031804343026759746\n"
          ],
          "name": "stdout"
        }
      ]
    },
    {
      "cell_type": "markdown",
      "metadata": {
        "id": "KuMJWnPt4Kqd",
        "colab_type": "text"
      },
      "source": [
        "score() Returns the coefficient of determination $R^2$ of the prediction $(1-u/v)$\n",
        " \n",
        " $u=\\sum(\\hat{y}-y)^2$ and $v=\\sum(y-\\bar{y})$, where $\\bar{y}$ is the mean of $y$ "
      ]
    },
    {
      "cell_type": "code",
      "metadata": {
        "id": "Z_iqvTiT-DHM",
        "colab_type": "code",
        "outputId": "e7459667-f27a-47fd-f941-3f5e9e8e6f63",
        "colab": {
          "base_uri": "https://localhost:8080/",
          "height": 52
        }
      },
      "source": [
        "# evaluation\n",
        "print(\"Training set score: {:.2f}\".format(lr.score(X_train, y_train)))\n",
        "print(\"Test set score: {:.2f}\".format(lr.score(X_test, y_test)))"
      ],
      "execution_count": 5,
      "outputs": [
        {
          "output_type": "stream",
          "text": [
            "Training set score: 0.67\n",
            "Test set score: 0.66\n"
          ],
          "name": "stdout"
        }
      ]
    },
    {
      "cell_type": "markdown",
      "metadata": {
        "id": "Y4AVYd7pIgKF",
        "colab_type": "text"
      },
      "source": [
        "# Exercises\n",
        "\n",
        "Apply linear regression to sigmoid function\n",
        "\n",
        ">$sigmoid(x) = \\frac{1}{1+exp(-x)}$\n",
        "\n",
        "\n",
        "## Data generation\n",
        "\n",
        "1. generate X as an array\n",
        "```\n",
        "    X = np.arange(-10., 10., 0.2)\n",
        "    X = np.expand_dims(X, axis = 1)\n",
        "    \n",
        "```\n",
        "\n",
        "2. generate y as using sigmoid() and np.random.normal() functions\n",
        "\n",
        "```   \n",
        ">>  y = sigmoid(X[:, 0]) + np.random.normal(0, 0.1, size = [len(X)])\n",
        "```\n",
        "\n",
        "\n",
        "* Check shape of X and y\n",
        "\n",
        "\n",
        "\n",
        "## Linear regression\n",
        "\n",
        "1. Split data into training set and test set\n",
        "\n",
        "2. import LinearRegression\n",
        "\n",
        "3. Create a LinearRegression object\n",
        "\n",
        "4. Train  (call fit() function )\n",
        "\n",
        "5. Apply linear regression (call predict() function)"
      ]
    },
    {
      "cell_type": "code",
      "metadata": {
        "id": "Z66yYaMsIixi",
        "colab_type": "code",
        "colab": {}
      },
      "source": [
        "# sigmoid(x) function\n",
        "def sigmoid(x):\n",
        "  return 1. / (1. + np.exp(-x))"
      ],
      "execution_count": 0,
      "outputs": []
    },
    {
      "cell_type": "code",
      "metadata": {
        "id": "qkYnSle8IjfM",
        "colab_type": "code",
        "outputId": "ed283edb-ecea-467a-edd3-06b1fe9fd037",
        "colab": {
          "base_uri": "https://localhost:8080/",
          "height": 338
        }
      },
      "source": [
        "# generate random data using sigmoid and Gaussian random numbers\n",
        "\n",
        "X = np.arange(-10., 10., 0.2)\n",
        "print(\"X.shape = \", X.shape)\n",
        "X = np.expand_dims(X, axis = 1)\n",
        "print(\"X.shape = \", X.shape)\n",
        "\n",
        "y = sigmoid(X[:, 0]) + np.random.normal(0, 0.1, size = [len(X)])\n",
        "print(\"y.shape = \", y.shape)\n",
        "\n",
        "mglearn.discrete_scatter(X[:, 0], y)"
      ],
      "execution_count": 7,
      "outputs": [
        {
          "output_type": "stream",
          "text": [
            "X.shape =  (100,)\n",
            "X.shape =  (100, 1)\n",
            "y.shape =  (100,)\n"
          ],
          "name": "stdout"
        },
        {
          "output_type": "execute_result",
          "data": {
            "text/plain": [
              "[<matplotlib.lines.Line2D at 0x7f6e3e10fba8>]"
            ]
          },
          "metadata": {
            "tags": []
          },
          "execution_count": 7
        },
        {
          "output_type": "display_data",
          "data": {
            "image/png": "[encoded data removed]",
            "text/plain": [
              "<Figure size 432x288 with 1 Axes>"
            ]
          },
          "metadata": {
            "tags": []
          }
        }
      ]
    },
    {
      "cell_type": "code",
      "metadata": {
        "id": "ySKa9wd5Il1w",
        "colab_type": "code",
        "colab": {}
      },
      "source": [
        "# TO DO: split into training set and test set\n"
      ],
      "execution_count": 0,
      "outputs": []
    },
    {
      "cell_type": "code",
      "metadata": {
        "id": "zOkR_WiGIpWx",
        "colab_type": "code",
        "colab": {}
      },
      "source": [
        "# TO DO: import LinearRegression\n",
        "\n",
        "\n",
        "# TO DO: regression (parameter estimation)\n",
        "\n",
        "\n",
        "# TO DO: check coeeficients and intercept\n"
      ],
      "execution_count": 0,
      "outputs": []
    },
    {
      "cell_type": "code",
      "metadata": {
        "id": "BwocVl1RIsj3",
        "colab_type": "code",
        "colab": {}
      },
      "source": [
        "# TO DO: get preduction result (y_hat) using X_test\n"
      ],
      "execution_count": 0,
      "outputs": []
    },
    {
      "cell_type": "code",
      "metadata": {
        "id": "H_kicYwNIrD3",
        "colab_type": "code",
        "outputId": "9130df7c-a28b-4755-f86e-7a0392a8df7a",
        "colab": {
          "base_uri": "https://localhost:8080/",
          "height": 435
        }
      },
      "source": [
        "# Display predictino result\n",
        "mglearn.discrete_scatter(X_test[:, 0], y_test, markers ='o')\n",
        "mglearn.discrete_scatter(X_test[:, 0], y_hat, s = 10, markers ='+')"
      ],
      "execution_count": 8,
      "outputs": [
        {
          "output_type": "error",
          "ename": "NameError",
          "evalue": "ignored",
          "traceback": [
            "\u001b[0;31m---------------------------------------------------------------------------\u001b[0m",
            "\u001b[0;31mNameError\u001b[0m                                 Traceback (most recent call last)",
            "\u001b[0;32m<ipython-input-8-76d733f9665c>\u001b[0m in \u001b[0;36m<module>\u001b[0;34m()\u001b[0m\n\u001b[1;32m      1\u001b[0m \u001b[0mmglearn\u001b[0m\u001b[0;34m.\u001b[0m\u001b[0mdiscrete_scatter\u001b[0m\u001b[0;34m(\u001b[0m\u001b[0mX_test\u001b[0m\u001b[0;34m[\u001b[0m\u001b[0;34m:\u001b[0m\u001b[0;34m,\u001b[0m \u001b[0;36m0\u001b[0m\u001b[0;34m]\u001b[0m\u001b[0;34m,\u001b[0m \u001b[0my_test\u001b[0m\u001b[0;34m,\u001b[0m \u001b[0mmarkers\u001b[0m \u001b[0;34m=\u001b[0m\u001b[0;34m'o'\u001b[0m\u001b[0;34m)\u001b[0m\u001b[0;34m\u001b[0m\u001b[0;34m\u001b[0m\u001b[0m\n\u001b[0;32m----> 2\u001b[0;31m \u001b[0mmglearn\u001b[0m\u001b[0;34m.\u001b[0m\u001b[0mdiscrete_scatter\u001b[0m\u001b[0;34m(\u001b[0m\u001b[0mX_test\u001b[0m\u001b[0;34m[\u001b[0m\u001b[0;34m:\u001b[0m\u001b[0;34m,\u001b[0m \u001b[0;36m0\u001b[0m\u001b[0;34m]\u001b[0m\u001b[0;34m,\u001b[0m \u001b[0my_hat\u001b[0m\u001b[0;34m,\u001b[0m \u001b[0ms\u001b[0m \u001b[0;34m=\u001b[0m \u001b[0;36m10\u001b[0m\u001b[0;34m,\u001b[0m \u001b[0mmarkers\u001b[0m \u001b[0;34m=\u001b[0m\u001b[0;34m'+'\u001b[0m\u001b[0;34m)\u001b[0m\u001b[0;34m\u001b[0m\u001b[0;34m\u001b[0m\u001b[0m\n\u001b[0m",
            "\u001b[0;31mNameError\u001b[0m: name 'y_hat' is not defined"
          ]
        },
        {
          "output_type": "display_data",
          "data": {
            "image/png": "[encoded data removed]",
            "text/plain": [
              "<Figure size 432x288 with 1 Axes>"
            ]
          },
          "metadata": {
            "tags": []
          }
        }
      ]
    },
    {
      "cell_type": "markdown",
      "metadata": {
        "id": "IUhEYkTxAZ2P",
        "colab_type": "text"
      },
      "source": [
        "## Linear regression on Boston house price data"
      ]
    },
    {
      "cell_type": "code",
      "metadata": {
        "id": "9TPeDRtZ-phA",
        "colab_type": "code",
        "colab": {}
      },
      "source": [
        "# load boston data\n",
        "X, y = mglearn.datasets.load_extended_boston()\n",
        "\n",
        "# split into training set and test set\n",
        "X_train, X_test, y_train, y_test = train_test_split(X, y, random_state=0)\n",
        "print(\"X_train.shape =\", X_train.shape)\n",
        "print(\"y_train.shape =\", y_train.shape)\n",
        "print(\"X_test.shape =\", X_test.shape)\n",
        "print(\"y_test.shape =\", y_test.shape)"
      ],
      "execution_count": 0,
      "outputs": []
    },
    {
      "cell_type": "code",
      "metadata": {
        "id": "b-AAALUUA1mX",
        "colab_type": "code",
        "colab": {}
      },
      "source": [
        "# create object \n",
        "lr = LinearRegression()\n",
        "\n",
        "# train\n",
        "lr.fit(X_train, y_train)\n",
        "\n",
        "# the above two statements can be combined as the next line\n",
        "# lr = LinearRegression().fit(X_train, y_train)\n",
        "\n",
        "# check coefficients and intercept\n",
        "print(\"lr.coef_:\", lr.coef_)             # w\n",
        "print(\"lr.intercept_:\", lr.intercept_)   # b"
      ],
      "execution_count": 0,
      "outputs": []
    },
    {
      "cell_type": "code",
      "metadata": {
        "id": "KWUp8R6EA5mV",
        "colab_type": "code",
        "colab": {}
      },
      "source": [
        "# Performance evaluation\n",
        "print(\"Training score: {:.2f}\".format(lr.score(X_train, y_train)))\n",
        "print(\"Test score: {:.2f}\".format(lr.score(X_test, y_test)))"
      ],
      "execution_count": 0,
      "outputs": []
    },
    {
      "cell_type": "code",
      "metadata": {
        "id": "ku3oWdAPPKpA",
        "colab_type": "code",
        "colab": {}
      },
      "source": [
        "# save and load model\n",
        "\n",
        "import pickle\n",
        "\n",
        "filename = 'linear'\n",
        "\n",
        "pickle.dump(lr, open(filename, 'wb'))\n",
        "lr2 = pickle.load(open(filename, 'rb'))\n",
        "\n",
        "print(\"Training score: {:.2f}\".format(lr2.score(X_train, y_train)))\n",
        "print(\"Test score: {:.2f}\".format(lr2.score(X_test, y_test)))"
      ],
      "execution_count": 0,
      "outputs": []
    },
    {
      "cell_type": "markdown",
      "metadata": {
        "id": "Z6incDSiEOCG",
        "colab_type": "text"
      },
      "source": [
        "==> Big difference between training accuracy and test accuracy: overfitting"
      ]
    },
    {
      "cell_type": "markdown",
      "metadata": {
        "id": "D3g4o-q8CTQ6",
        "colab_type": "text"
      },
      "source": [
        "## Ridge regression\n",
        "\n",
        "> linear regression + L2 regularization\n",
        "\n",
        "> $Loss_{ridge} = \\frac{1}{2N} \\sum_i{(\\hat{y}-y)^2}+\\alpha |W|^2$\n",
        "\n",
        "\n",
        "See https://scikit-learn.org/stable/modules/generated/sklearn.linear_model.Ridge.html"
      ]
    },
    {
      "cell_type": "code",
      "metadata": {
        "id": "z2dbfVjeBF0j",
        "colab_type": "code",
        "colab": {}
      },
      "source": [
        "from sklearn.linear_model import Ridge"
      ],
      "execution_count": 0,
      "outputs": []
    },
    {
      "cell_type": "code",
      "metadata": {
        "id": "T5bqcf-pD6_b",
        "colab_type": "code",
        "colab": {}
      },
      "source": [
        "ridge = Ridge().fit(X_train, y_train)           # by default, alpha = 1"
      ],
      "execution_count": 0,
      "outputs": []
    },
    {
      "cell_type": "code",
      "metadata": {
        "id": "5XF6Eo_8D_CL",
        "colab_type": "code",
        "colab": {}
      },
      "source": [
        "#print(\"ridge.coef_: {}\".format(ridge.coef_))             # w\n",
        "#print(\"ridge.intercept_: {}\".format(ridge.intercept_))   # b"
      ],
      "execution_count": 0,
      "outputs": []
    },
    {
      "cell_type": "code",
      "metadata": {
        "id": "seWbwxq2D8M9",
        "colab_type": "code",
        "colab": {}
      },
      "source": [
        "print(\"Training score: {:.2f}\".format(ridge.score(X_train, y_train)))\n",
        "print(\"Test score: {:.2f}\".format(ridge.score(X_test, y_test)))"
      ],
      "execution_count": 0,
      "outputs": []
    },
    {
      "cell_type": "markdown",
      "metadata": {
        "id": "koGC9RCVEYn2",
        "colab_type": "text"
      },
      "source": [
        "Lower training accuracy, but higher test accuracy"
      ]
    },
    {
      "cell_type": "code",
      "metadata": {
        "id": "I5w4Bo1rEYKz",
        "colab_type": "code",
        "colab": {}
      },
      "source": [
        "# applying higher alpha  --> too strong constraint\n",
        "ridge10 = Ridge(alpha=10).fit(X_train, y_train)\n",
        "\n",
        "print(\"Training score: {:.2f}\".format(ridge10.score(X_train, y_train)))\n",
        "print(\"Test score: {:.2f}\".format(ridge10.score(X_test, y_test)))"
      ],
      "execution_count": 0,
      "outputs": []
    },
    {
      "cell_type": "code",
      "metadata": {
        "id": "0f7d0UwQFDHv",
        "colab_type": "code",
        "colab": {}
      },
      "source": [
        "# applying low alpha    --> appropriate constraint\n",
        "ridge01 = Ridge(alpha=0.1).fit(X_train, y_train)\n",
        "\n",
        "print(\"Training score: {:.2f}\".format(ridge01.score(X_train, y_train)))\n",
        "print(\"Test score: {:.2f}\".format(ridge01.score(X_test, y_test)))"
      ],
      "execution_count": 0,
      "outputs": []
    },
    {
      "cell_type": "code",
      "metadata": {
        "id": "W_D4vLvUFMAt",
        "colab_type": "code",
        "colab": {}
      },
      "source": [
        "# coefficient magnitude\n",
        "plt.plot(ridge01.coef_, 'v', label=\"Ridge alpha=0.1\")\n",
        "plt.plot(ridge.coef_, 's', label=\"Ridge alpha=1\")\n",
        "plt.plot(ridge10.coef_, '^', label=\"Ridge alpha=10\")\n",
        "plt.plot(lr.coef_, 'o', label=\"LinearRegression\")\n",
        "plt.xlabel(\"Coefficient index\")\n",
        "plt.ylabel(\"Coefficient magnitude\")\n",
        "plt.hlines(0, 0, len(lr.coef_))\n",
        "plt.ylim(-25, 25)\n",
        "plt.legend()"
      ],
      "execution_count": 0,
      "outputs": []
    },
    {
      "cell_type": "markdown",
      "metadata": {
        "id": "377I-CihF3iS",
        "colab_type": "text"
      },
      "source": [
        "## Lasso regression\n",
        "\n",
        "> linear regression + L1 regularization\n",
        "\n",
        "> $Loss_{lasso}=\\frac{1}{2N} \\sum_i{(\\hat{y}-y)^2} +\\alpha |W|$\n",
        "\n",
        "\n",
        "See https://scikit-learn.org/stable/modules/generated/sklearn.linear_model.Ridge.html"
      ]
    },
    {
      "cell_type": "code",
      "metadata": {
        "id": "e3BsBAe8SJHV",
        "colab_type": "code",
        "colab": {}
      },
      "source": [
        "from sklearn.linear_model import Lasso"
      ],
      "execution_count": 0,
      "outputs": []
    },
    {
      "cell_type": "code",
      "metadata": {
        "id": "D87pcTGxFiKo",
        "colab_type": "code",
        "colab": {}
      },
      "source": [
        "# by default, alpha = 1\n",
        "lasso = Lasso().fit(X_train, y_train)         # default alpha = 1, severe underfitting\n",
        "print(\"Training score: {:.2f}\".format(lasso.score(X_train, y_train)))\n",
        "print(\"Test score: {:.2f}\".format(lasso.score(X_test, y_test)))\n",
        "print(\"Number of features used:\", np.sum(lasso.coef_ != 0))"
      ],
      "execution_count": 0,
      "outputs": []
    },
    {
      "cell_type": "code",
      "metadata": {
        "id": "zWSRtuO1GHP-",
        "colab_type": "code",
        "colab": {}
      },
      "source": [
        "# Lasso with alpha = 0.01\n",
        "lasso001 = Lasso(0.01, max_iter=100000).fit(X_train, y_train)\n",
        "print(\"Training score: {:.2f}\".format(lasso001.score(X_train, y_train)))\n",
        "print(\"Test score: {:.2f}\".format(lasso001.score(X_test, y_test)))\n",
        "print(\"Number of features used:\", np.sum(lasso001.coef_ != 0))"
      ],
      "execution_count": 0,
      "outputs": []
    },
    {
      "cell_type": "code",
      "metadata": {
        "id": "QUi3xMVgGVUj",
        "colab_type": "code",
        "colab": {}
      },
      "source": [
        "# Lasso with alpha = 0.0001\n",
        "lasso0001 = Lasso(0.0001, max_iter=100000).fit(X_train, y_train)\n",
        "print(\"Training score: {:.2f}\".format(lasso0001.score(X_train, y_train)))\n",
        "print(\"Test score: {:.2f}\".format(lasso0001.score(X_test, y_test)))\n",
        "print(\"Number of features used:\", np.sum(lasso0001.coef_ != 0))"
      ],
      "execution_count": 0,
      "outputs": []
    },
    {
      "cell_type": "code",
      "metadata": {
        "id": "iSL1a8aDGqg9",
        "colab_type": "code",
        "colab": {}
      },
      "source": [
        "plt.plot(lasso0001.coef_, 'v', label=\"Lasso alpha=0.0001\")\n",
        "plt.plot(lasso001.coef_, '^', label=\"Lasso alpha=0.01\")\n",
        "plt.plot(lasso.coef_, 's', label=\"Lasso alpha=1\")\n",
        "\n",
        "#plt.plot(ridge01.coef_, 'o', label=\"Ridge alpha=0.1\")\n",
        "plt.legend(ncol=2, loc=(0, 1.05))\n",
        "plt.ylim(-25, 25)\n",
        "plt.xlabel(\"Coefficient index\")\n",
        "plt.ylabel(\"Coefficient magnitude\")"
      ],
      "execution_count": 0,
      "outputs": []
    },
    {
      "cell_type": "markdown",
      "metadata": {
        "id": "iVAiTvloIGI6",
        "colab_type": "text"
      },
      "source": [
        "## ElasticNet regression\n",
        "\n",
        "> linear regression + L1 regularization + L2 regularization\n",
        "\n",
        "\n",
        "> $Loss_{elastic\\_net}=\\frac{1}{2N} \\sum_i{(\\hat{y}-y)^2} +a |W| +\\frac{1}{2}b|W|^2$\n",
        "\n",
        "> $Loss_{elastic\\_net}=\\frac{1}{2N} \\sum_i{(\\hat{y}-y)^2} +\\alpha\\cdot \\lambda |W| +\\frac{1}{2} \\alpha\\cdot(1-\\lambda)|W|^2$\n",
        "\n",
        " - $\\alpha$: weight of regularization (L1 + L2)\n",
        " - $\\lambda$: ratio of L1 regularization ($0 \\leq\\lambda\\leq 1$)\n",
        "\n",
        " - $\\alpha = a + b$, $\\lambda = \\frac{a}{a+b}$\n",
        "\n",
        "\n",
        "See https://scikit-learn.org/stable/modules/generated/sklearn.linear_model.ElasticNet.html"
      ]
    },
    {
      "cell_type": "code",
      "metadata": {
        "id": "X7LJsZi3iLE7",
        "colab_type": "code",
        "colab": {}
      },
      "source": [
        "from sklearn.linear_model import ElasticNet"
      ],
      "execution_count": 0,
      "outputs": []
    },
    {
      "cell_type": "code",
      "metadata": {
        "id": "WE0dNRNpiiFX",
        "colab_type": "code",
        "colab": {}
      },
      "source": [
        "# by default, alpha = 1, l1_ratio = 0.5\n",
        "elastic_net = ElasticNet().fit(X_train, y_train)\n",
        "print(\"Training score: {:.2f}\".format(elastic_net.score(X_train, y_train)))\n",
        "print(\"Test score: {:.2f}\".format(elastic_net.score(X_test, y_test)))\n",
        "print(\"Number of features used:\", np.sum(elastic_net.coef_ != 0))"
      ],
      "execution_count": 0,
      "outputs": []
    },
    {
      "cell_type": "code",
      "metadata": {
        "id": "__lLPqsxjtfK",
        "colab_type": "code",
        "colab": {}
      },
      "source": [
        "# alpha = 0.01\n",
        "elastic_net001 = ElasticNet(alpha=0.01, l1_ratio = 0.5).fit(X_train, y_train)\n",
        "print(\"Training set score: {:.2f}\".format(elastic_net001.score(X_train, y_train)))\n",
        "print(\"Test set score: {:.2f}\".format(elastic_net001.score(X_test, y_test)))\n",
        "print(\"Number of features used:\", np.sum(elastic_net001.coef_ != 0))"
      ],
      "execution_count": 0,
      "outputs": []
    },
    {
      "cell_type": "code",
      "metadata": {
        "id": "0L62piK-kVDE",
        "colab_type": "code",
        "colab": {}
      },
      "source": [
        "# alpha = 0.001\n",
        "elastic_net0001 = ElasticNet(alpha=0.001, l1_ratio = 0.5).fit(X_train, y_train)\n",
        "print(\"Training score: {:.2f}\".format(elastic_net0001.score(X_train, y_train)))\n",
        "print(\"Test score: {:.2f}\".format(elastic_net0001.score(X_test, y_test)))\n",
        "print(\"Number of features used:\", np.sum(elastic_net0001.coef_ != 0))"
      ],
      "execution_count": 0,
      "outputs": []
    },
    {
      "cell_type": "code",
      "metadata": {
        "id": "mHZzoLTTkNNi",
        "colab_type": "code",
        "colab": {}
      },
      "source": [
        "# alpha = 0.0001\n",
        "elastic_net00001 = ElasticNet(alpha=0.0001, l1_ratio = 0.5).fit(X_train, y_train)\n",
        "print(\"Training score: {:.2f}\".format(elastic_net00001.score(X_train, y_train)))\n",
        "print(\"Test score: {:.2f}\".format(elastic_net00001.score(X_test, y_test)))\n",
        "print(\"Number of features used:\", np.sum(elastic_net00001.coef_ != 0))"
      ],
      "execution_count": 0,
      "outputs": []
    },
    {
      "cell_type": "code",
      "metadata": {
        "id": "5qhfeqH1ko99",
        "colab_type": "code",
        "colab": {}
      },
      "source": [
        "plt.plot(elastic_net.coef_, 'v', label=\"Lasso alpha=1\")\n",
        "plt.plot(elastic_net001.coef_, '^', label=\"ElasticNet alpha=0.01\")\n",
        "plt.plot(elastic_net0001.coef_, '^', label=\"ElasticNet alpha=0.001\")\n",
        "plt.plot(elastic_net00001.coef_, 's', label=\"Lasso alpha=0.0001\")\n",
        "\n",
        "#plt.plot(ridge01.coef_, 'o', label=\"Ridge alpha=0.1\")\n",
        "plt.legend(ncol=2, loc=(0, 1.05))\n",
        "plt.ylim(-25, 25)\n",
        "plt.xlabel(\"Coefficient index\")\n",
        "plt.ylabel(\"Coefficient magnitude\")"
      ],
      "execution_count": 0,
      "outputs": []
    },
    {
      "cell_type": "markdown",
      "metadata": {
        "id": "FKf1W0pMIHB4",
        "colab_type": "text"
      },
      "source": [
        "# Linear classification\n",
        "\n",
        "* Binary classification\n",
        "\n",
        "  - class +1 if $f(x) = \\sum_i{w_ix_i}+b = w_1 x_1 + w_2 x_2+...+b > 0$\n",
        "  - class -1 if $f(x) = \\sum_i{w_ix_i}+b = w_1 x_1 + w_2 x_2+...+b < 0$\n",
        "\n",
        "> Class boundary is hyperplane\n",
        "\n",
        "* Multi-class classification: \n",
        "\n",
        "    $ŷ = argmax_j {f_j(x)}= argmax_j {(\\sum_i{w_{ji} x_i} + b_j)} = argmax_j {([)w_{j1} x_1 + w_{j2} x_2+...+b_j)}$\n",
        "    \n",
        "\n",
        "* Popular fitting algorithms\n",
        "  - Logistic regression (linear_model.LogisticRegression)\n",
        "  - Linear SVM\n",
        "\n"
      ]
    },
    {
      "cell_type": "code",
      "metadata": {
        "id": "-g6tlW2hrEKE",
        "colab_type": "code",
        "colab": {}
      },
      "source": [
        "# prepare forge dataset\n",
        "X, y = mglearn.datasets.make_forge()\n",
        "\n",
        "# split into training set and test set\n",
        "from sklearn.model_selection import train_test_split\n",
        "X_train, X_test, y_train, y_test = train_test_split(X, y, random_state=0)\n",
        "print(\"X_train contains {} samples, X_test contains {} samples\".format(len(X_train), len(X_test)))"
      ],
      "execution_count": 0,
      "outputs": []
    },
    {
      "cell_type": "markdown",
      "metadata": {
        "id": "d69750jZQJvZ",
        "colab_type": "text"
      },
      "source": [
        "## Logistic regression\n",
        "* binary classification ($y$ = 0 or 1)\n",
        "* $\\hat{y} = sigmoid(\\sum_i{w_ix_i+b})$\n",
        "* $ Loss_{logistic} = \\frac{1}{2N}(y - \\hat{y})^2 + \\alpha |W|_L$\n",
        "\n",
        "\n",
        "See https://scikit-learn.org/stable/modules/generated/sklearn.linear_model.LogisticRegression.html\n"
      ]
    },
    {
      "cell_type": "code",
      "metadata": {
        "id": "_Q8N1mzsrj7D",
        "colab_type": "code",
        "colab": {}
      },
      "source": [
        "from sklearn.linear_model import LogisticRegression\n",
        "logi_reg = LogisticRegression().fit(X_train,y_train)\n",
        "\n",
        "# check coefficients and intercept\n",
        "print(\"logi_reg.coef_: \", logi_reg.coef_)               # W\n",
        "print(\"logi_reg.intercept_:\", logi_reg.intercept_)      # b"
      ],
      "execution_count": 0,
      "outputs": []
    },
    {
      "cell_type": "code",
      "metadata": {
        "id": "k44esl8bvZ1U",
        "colab_type": "code",
        "colab": {}
      },
      "source": [
        "y_pred = logi_reg.predict(X_test)\n",
        "print(\"y_pred =\", y_pred)\n",
        "print(\"y_test =\", y_test)"
      ],
      "execution_count": 0,
      "outputs": []
    },
    {
      "cell_type": "code",
      "metadata": {
        "id": "zfv5S9ICsCfe",
        "colab_type": "code",
        "colab": {}
      },
      "source": [
        "print(\"Training accuracy = \", logi_reg.score(X_train, y_train))\n",
        "print(\"Test Accuracy = \", logi_reg.score(X_test, y_test))"
      ],
      "execution_count": 0,
      "outputs": []
    },
    {
      "cell_type": "markdown",
      "metadata": {
        "id": "0JWbGNiDs_eY",
        "colab_type": "text"
      },
      "source": [
        "## linear SVM classifier (LinearSVC)"
      ]
    },
    {
      "cell_type": "code",
      "metadata": {
        "id": "ApwF2wPssNtW",
        "colab_type": "code",
        "colab": {}
      },
      "source": [
        "# linear SVM classifier\n",
        "\n",
        "from sklearn.svm import LinearSVC\n",
        "\n",
        "linearSVC = LinearSVC().fit(X_train,y_train)\n",
        "# check coefficients and intercept\n",
        "print(\"logi_reg.coef_: \", logi_reg.coef_)               # W\n",
        "print(\"logi_reg.intercept_:\", logi_reg.intercept_)      # b\n",
        "\n",
        "y_pred = linearSVC.predict(X_test)\n",
        "print(\"y_pred =\", y_pred)\n",
        "print(\"y_test =\", y_test)\n",
        "\n",
        "print(\"Training accuracy = \", linearSVC.score(X_train, y_train))\n",
        "print(\"Test Accuracy = \", linearSVC.score(X_test, y_test))"
      ],
      "execution_count": 0,
      "outputs": []
    },
    {
      "cell_type": "code",
      "metadata": {
        "id": "lf1RXLuRHp_y",
        "colab_type": "code",
        "colab": {}
      },
      "source": [
        "# Visualization (LogisticRegression vs. LinearSVC)\n",
        "X, y = mglearn.datasets.make_forge()\n",
        "fig, axes = plt.subplots(1, 2, figsize=(10, 3))\n",
        "for model, ax in zip([LogisticRegression(),LinearSVC()], axes):\n",
        "  clf = model.fit(X, y)\n",
        "  mglearn.plots.plot_2d_separator(clf, X, fill=False, eps=0.5, ax=ax, alpha=.7)\n",
        "  mglearn.discrete_scatter(X[:, 0], X[:, 1], y, ax=ax)\n",
        "  ax.set_title(\"{}\".format(clf.__class__.__name__))\n",
        "  ax.set_xlabel(\"Feature 0\")\n",
        "  ax.set_ylabel(\"Feature 1\")\n",
        "axes[0].legend()"
      ],
      "execution_count": 0,
      "outputs": []
    },
    {
      "cell_type": "markdown",
      "metadata": {
        "id": "Vm42jQgXNrzu",
        "colab_type": "text"
      },
      "source": [
        "## hyper parameter C to control regularization \n",
        "\n",
        "**small C** means **stronger regularization**"
      ]
    },
    {
      "cell_type": "code",
      "metadata": {
        "id": "nGWcMZCTNeis",
        "colab_type": "code",
        "colab": {}
      },
      "source": [
        "# prepare breast cancer dataset\n",
        "\n",
        "from sklearn.datasets import load_breast_cancer\n",
        "cancer = load_breast_cancer()\n",
        "X_train, X_test, y_train, y_test = train_test_split(cancer.data, cancer.target, stratify=cancer.target, random_state=42)"
      ],
      "execution_count": 0,
      "outputs": []
    },
    {
      "cell_type": "code",
      "metadata": {
        "id": "RaFKGNOUt9k3",
        "colab_type": "code",
        "colab": {}
      },
      "source": [
        "# C = 1 (default)\n",
        "logreg = LogisticRegression().fit(X_train, y_train)\n",
        "print(\"Training score: {:.3f}\".format(logreg.score(X_train, y_train)))\n",
        "print(\"Test score: {:.3f}\".format(logreg.score(X_test, y_test))) "
      ],
      "execution_count": 0,
      "outputs": []
    },
    {
      "cell_type": "code",
      "metadata": {
        "id": "-ZJ0DUbfN246",
        "colab_type": "code",
        "colab": {}
      },
      "source": [
        "# C = 100\n",
        "logreg100 = LogisticRegression(C=100).fit(X_train, y_train)\n",
        "print(\"Training score: {:.3f}\".format(logreg100.score(X_train, y_train)))\n",
        "print(\"Test score: {:.3f}\".format(logreg100.score(X_test, y_test)))"
      ],
      "execution_count": 0,
      "outputs": []
    },
    {
      "cell_type": "code",
      "metadata": {
        "id": "GdFGK--qN516",
        "colab_type": "code",
        "colab": {}
      },
      "source": [
        "# C = 0.01\n",
        "logreg001 = LogisticRegression(C=0.01).fit(X_train, y_train)\n",
        "print(\"Training score: {:.3f}\".format(logreg001.score(X_train, y_train)))\n",
        "print(\"Test score: {:.3f}\".format(logreg001.score(X_test, y_test)))"
      ],
      "execution_count": 0,
      "outputs": []
    },
    {
      "cell_type": "code",
      "metadata": {
        "id": "LWX7yFmVN8tU",
        "colab_type": "code",
        "colab": {}
      },
      "source": [
        "# logistic regressing using L2-regularization\n",
        "\n",
        "plt.plot(logreg.coef_.T, 'o', label=\"C=1\")\n",
        "plt.plot(logreg100.coef_.T, '^', label=\"C=100\")\n",
        "plt.plot(logreg001.coef_.T, 'v', label=\"C=0.001\")\n",
        "plt.xticks(range(cancer.data.shape[1]), cancer.feature_names, rotation=90)\n",
        "plt.hlines(0, 0, cancer.data.shape[1])\n",
        "plt.ylim(-5, 5)\n",
        "plt.xlabel(\"Feature\")\n",
        "plt.ylabel(\"Coefficient magnitude\")\n",
        "plt.legend()"
      ],
      "execution_count": 0,
      "outputs": []
    },
    {
      "cell_type": "code",
      "metadata": {
        "id": "XOSkaR_FuOzb",
        "colab_type": "code",
        "colab": {}
      },
      "source": [
        "# logistic regressing using L1-regularization\n",
        "\n",
        "for C, marker in zip([0.001, 1, 100], ['o', '^', 'v']):\n",
        "  lr_l1 = LogisticRegression(C=C, penalty=\"l1\").fit(X_train, y_train)\n",
        "  print(\"Training accuracy of l1 logreg with C={:.3f}: {:.2f}\".format(C, lr_l1.score(X_train, y_train)))\n",
        "  print(\"Test accuracy of l1 logreg with C={:.3f}: {:.2f}\".format(C, lr_l1.score(X_test, y_test)))\n",
        "  plt.plot(lr_l1.coef_.T, marker, label=\"C={:.3f}\".format(C))\n",
        "  \n",
        "plt.xticks(range(cancer.data.shape[1]), cancer.feature_names, rotation=90)\n",
        "plt.hlines(0, 0, cancer.data.shape[1])\n",
        "plt.xlabel(\"Feature\")\n",
        "plt.ylabel(\"Coefficient magnitude\")\n",
        "\n",
        "plt.ylim(-5, 5)\n",
        "plt.legend(loc=3)"
      ],
      "execution_count": 0,
      "outputs": []
    },
    {
      "cell_type": "code",
      "metadata": {
        "id": "usuW4OMg8YgL",
        "colab_type": "code",
        "colab": {}
      },
      "source": [
        "mglearn.plots.plot_linear_svc_regularization()"
      ],
      "execution_count": 0,
      "outputs": []
    },
    {
      "cell_type": "markdown",
      "metadata": {
        "id": "Y9jRoK4RCvEo",
        "colab_type": "text"
      },
      "source": [
        "# Exercises: Apply LogisticRegression on three blob dataset"
      ]
    },
    {
      "cell_type": "code",
      "metadata": {
        "id": "FvXtQ2hrtz2N",
        "colab_type": "code",
        "colab": {
          "base_uri": "https://localhost:8080/",
          "height": 301
        },
        "outputId": "eddf0a68-0283-4df4-f7f2-7e1440b5a7c8"
      },
      "source": [
        "# creates dataset\n",
        "\n",
        "from sklearn.datasets import make_blobs\n",
        "X, y = make_blobs(random_state=42, cluster_std = 3)     # cluster_std: standard deviation of each clusters\n",
        "mglearn.discrete_scatter(X[:, 0], X[:, 1], y)\n",
        "plt.xlabel(\"Feature 0\")\n",
        "plt.ylabel(\"Feature 1\")\n",
        "plt.legend([\"Class 0\", \"Class 1\", \"Class 2\"])"
      ],
      "execution_count": 3,
      "outputs": [
        {
          "output_type": "execute_result",
          "data": {
            "text/plain": [
              "<matplotlib.legend.Legend at 0x7f7b20989588>"
            ]
          },
          "metadata": {
            "tags": []
          },
          "execution_count": 3
        },
        {
          "output_type": "display_data",
          "data": {
            "image/png": "[encoded data removed]",
            "text/plain": [
              "<Figure size 432x288 with 1 Axes>"
            ]
          },
          "metadata": {
            "tags": []
          }
        }
      ]
    },
    {
      "cell_type": "code",
      "metadata": {
        "id": "OgSgsvnwC0EI",
        "colab_type": "code",
        "colab": {}
      },
      "source": [
        "# TO DO: Split data into training and test sets\n",
        "X_train, X_test, y_train, y_test = train_test_split(X, y, random_state=0)"
      ],
      "execution_count": 0,
      "outputs": []
    },
    {
      "cell_type": "code",
      "metadata": {
        "id": "Q85pDQVfC9m2",
        "colab_type": "code",
        "colab": {}
      },
      "source": [
        "# TO DO: Import LogisticRegression\n",
        "\n",
        "\n",
        "# TO DO: create a LogisticRegression instance\n",
        "\n",
        "\n",
        "# TO DO: train on the training set\n"
      ],
      "execution_count": 0,
      "outputs": []
    },
    {
      "cell_type": "code",
      "metadata": {
        "id": "84e5HJsmDA6V",
        "colab_type": "code",
        "colab": {}
      },
      "source": [
        "# TO DO: check coefficients and intercept\n",
        "print(\"lr_blobs.coef_: \", lr_blobs.coef_)               # W\n",
        "print(\"lr_blobs.intercept_:\", lr_blobs.intercept_)      # b"
      ],
      "execution_count": 0,
      "outputs": []
    },
    {
      "cell_type": "code",
      "metadata": {
        "id": "0BcbucrSDT8p",
        "colab_type": "code",
        "colab": {}
      },
      "source": [
        "# TO DO: print accuracy on training and test sets\n",
        "\n",
        "\n"
      ],
      "execution_count": 0,
      "outputs": []
    }
  ]
}