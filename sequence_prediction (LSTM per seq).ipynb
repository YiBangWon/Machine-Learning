{
  "nbformat": 4,
  "nbformat_minor": 0,
  "metadata": {
    "colab": {
      "name": "sequence_prediction (LSTM per seq).ipynb",
      "provenance": [],
      "collapsed_sections": [],
      "include_colab_link": true
    },
    "kernelspec": {
      "name": "python3",
      "display_name": "Python 3"
    },
    "accelerator": "GPU"
  },
  "cells": [
    {
      "cell_type": "markdown",
      "metadata": {
        "id": "view-in-github",
        "colab_type": "text"
      },
      "source": [
        "<a href=\"https://colab.research.google.com/github/callee2006/MachineLearning/blob/master/sequence_prediction%20(LSTM%20per%20seq).ipynb\" target=\"_parent\"><img src=\"https://colab.research.google.com/assets/colab-badge.svg\" alt=\"Open In Colab\"/></a>"
      ]
    },
    {
      "cell_type": "code",
      "metadata": {
        "id": "aI4mTQQQhirT",
        "colab_type": "code",
        "colab": {}
      },
      "source": [
        "import numpy as np\n",
        "import matplotlib.pyplot as plt\n",
        "import torch\n",
        "import torch.nn as nn"
      ],
      "execution_count": 0,
      "outputs": []
    },
    {
      "cell_type": "code",
      "metadata": {
        "id": "BLAtcwZ3D-qn",
        "colab_type": "code",
        "outputId": "1b2b6a25-9fb5-4186-8e91-a268ef2f1e68",
        "colab": {
          "base_uri": "https://localhost:8080/",
          "height": 35
        }
      },
      "source": [
        "MODEL_NAME = 'LSTM'\n",
        "DEVICE = torch.device(\"cuda\" if torch.cuda.is_available() else \"cpu\")\n",
        "print(\"MODEL_NAME = {}, DEVICE = {}\".format(MODEL_NAME, DEVICE))"
      ],
      "execution_count": 2,
      "outputs": [
        {
          "output_type": "stream",
          "text": [
            "MODEL_NAME = LSTM, DEVICE = cuda\n"
          ],
          "name": "stdout"
        }
      ]
    },
    {
      "cell_type": "markdown",
      "metadata": {
        "id": "NbXrwjD5wKZV",
        "colab_type": "text"
      },
      "source": [
        "# Generate data\n",
        "\n",
        "This is a toy example to predict a sequence with RNN.\n",
        "In this example, Y is a sequence of 2D vectors (sin(x), cos(x)) for x in [-3.14, +3.14]\n",
        "\n",
        "In practical applications, replace Y with the sequence to predict"
      ]
    },
    {
      "cell_type": "code",
      "metadata": {
        "id": "aiVYziFcjeWn",
        "colab_type": "code",
        "colab": {}
      },
      "source": [
        "# range of the data\n",
        "X = np.linspace(-3.14 * 2, 3.14 * 2, 100)"
      ],
      "execution_count": 0,
      "outputs": []
    },
    {
      "cell_type": "code",
      "metadata": {
        "id": "ee-Cz7kpj9rM",
        "colab_type": "code",
        "outputId": "39e4eada-c502-4b8a-aabd-a401629fa558",
        "colab": {
          "base_uri": "https://localhost:8080/",
          "height": 197
        }
      },
      "source": [
        "#Y = np.array([(np.sin(x), np.cos(x)) for x in X])\n",
        "Y = np.array([(np.sin(x) + np.random.normal(0, 0.1), np.cos(x) + np.random.normal(0, 0.1)) for x in X])\n",
        "Y[:10]"
      ],
      "execution_count": 4,
      "outputs": [
        {
          "output_type": "execute_result",
          "data": {
            "text/plain": [
              "array([[0.04679531, 1.10449275],\n",
              "       [0.13999053, 0.91638862],\n",
              "       [0.30445672, 1.19547418],\n",
              "       [0.52777801, 1.09457161],\n",
              "       [0.5436313 , 0.81275558],\n",
              "       [0.45770548, 0.88217079],\n",
              "       [0.72498917, 0.89228431],\n",
              "       [0.75317312, 0.71914153],\n",
              "       [0.75907292, 0.66197398],\n",
              "       [0.86718584, 0.54961085]])"
            ]
          },
          "metadata": {
            "tags": []
          },
          "execution_count": 4
        }
      ]
    },
    {
      "cell_type": "code",
      "metadata": {
        "id": "2EGIkmgjkZK2",
        "colab_type": "code",
        "outputId": "f721d6e3-1b22-42ee-d4d7-d6a50be3650d",
        "colab": {
          "base_uri": "https://localhost:8080/",
          "height": 283
        }
      },
      "source": [
        "plt.plot(X, Y[:,0], label=\"sin\", marker=\"o\")\n",
        "plt.plot(X, Y[:,1], label=\"cos\", marker='*')\n",
        "plt.legend()"
      ],
      "execution_count": 5,
      "outputs": [
        {
          "output_type": "execute_result",
          "data": {
            "text/plain": [
              "<matplotlib.legend.Legend at 0x7f9f747b3358>"
            ]
          },
          "metadata": {
            "tags": []
          },
          "execution_count": 5
        },
        {
          "output_type": "display_data",
          "data": {
            "image/png": "[encoded data removed]",
            "text/plain": [
              "<Figure size 432x288 with 1 Axes>"
            ]
          },
          "metadata": {
            "tags": []
          }
        }
      ]
    },
    {
      "cell_type": "markdown",
      "metadata": {
        "id": "2PKODGpWr7fq",
        "colab_type": "text"
      },
      "source": [
        "# Convert numpy array to torch.Tensor"
      ]
    },
    {
      "cell_type": "code",
      "metadata": {
        "id": "qKpvmfsTkkyZ",
        "colab_type": "code",
        "outputId": "cbd69bfa-819e-4c0f-d6df-320bd22d01c8",
        "colab": {
          "base_uri": "https://localhost:8080/",
          "height": 35
        }
      },
      "source": [
        "# convert Y into input tensors\n",
        "#input_tensor = torch.tensor(Y, dtype=torch.float32)\n",
        "input_tensor = torch.tensor(Y, dtype=torch.float32).to(DEVICE)\n",
        "input_tensor.shape"
      ],
      "execution_count": 6,
      "outputs": [
        {
          "output_type": "execute_result",
          "data": {
            "text/plain": [
              "torch.Size([100, 2])"
            ]
          },
          "metadata": {
            "tags": []
          },
          "execution_count": 6
        }
      ]
    },
    {
      "cell_type": "code",
      "metadata": {
        "id": "wxdoLAURrAcp",
        "colab_type": "code",
        "outputId": "f416e929-1eaa-4cf1-8f4d-39c389d7edc0",
        "colab": {
          "base_uri": "https://localhost:8080/",
          "height": 197
        }
      },
      "source": [
        "# check input_tensor\n",
        "input_tensor[:10]"
      ],
      "execution_count": 7,
      "outputs": [
        {
          "output_type": "execute_result",
          "data": {
            "text/plain": [
              "tensor([[0.0468, 1.1045],\n",
              "        [0.1400, 0.9164],\n",
              "        [0.3045, 1.1955],\n",
              "        [0.5278, 1.0946],\n",
              "        [0.5436, 0.8128],\n",
              "        [0.4577, 0.8822],\n",
              "        [0.7250, 0.8923],\n",
              "        [0.7532, 0.7191],\n",
              "        [0.7591, 0.6620],\n",
              "        [0.8672, 0.5496]], device='cuda:0')"
            ]
          },
          "metadata": {
            "tags": []
          },
          "execution_count": 7
        }
      ]
    },
    {
      "cell_type": "code",
      "metadata": {
        "id": "LnncsVsGrRpD",
        "colab_type": "code",
        "outputId": "c585fffe-bf05-48cf-bfe9-fe35b679acb2",
        "colab": {
          "base_uri": "https://localhost:8080/",
          "height": 197
        }
      },
      "source": [
        "# make target_tensor by rotating input_tensor\n",
        "target_tensor = torch.cat((input_tensor[1:], input_tensor[0:1]), 0).to(DEVICE)\n",
        "#target_tensor = torch.cat((input_tensor[1:], input_tensor[0:1]), 0)\n",
        "target_tensor[:10]"
      ],
      "execution_count": 8,
      "outputs": [
        {
          "output_type": "execute_result",
          "data": {
            "text/plain": [
              "tensor([[0.1400, 0.9164],\n",
              "        [0.3045, 1.1955],\n",
              "        [0.5278, 1.0946],\n",
              "        [0.5436, 0.8128],\n",
              "        [0.4577, 0.8822],\n",
              "        [0.7250, 0.8923],\n",
              "        [0.7532, 0.7191],\n",
              "        [0.7591, 0.6620],\n",
              "        [0.8672, 0.5496],\n",
              "        [1.1632, 0.3865]], device='cuda:0')"
            ]
          },
          "metadata": {
            "tags": []
          },
          "execution_count": 8
        }
      ]
    },
    {
      "cell_type": "code",
      "metadata": {
        "id": "ppFN7K-MrN00",
        "colab_type": "code",
        "outputId": "95d71943-470b-456f-a22b-dcba5bcd6580",
        "colab": {
          "base_uri": "https://localhost:8080/",
          "height": 197
        }
      },
      "source": [
        "# check the input and target tensors\n",
        "print(torch.cat((input_tensor, target_tensor), 1)[:10])"
      ],
      "execution_count": 9,
      "outputs": [
        {
          "output_type": "stream",
          "text": [
            "tensor([[0.0468, 1.1045, 0.1400, 0.9164],\n",
            "        [0.1400, 0.9164, 0.3045, 1.1955],\n",
            "        [0.3045, 1.1955, 0.5278, 1.0946],\n",
            "        [0.5278, 1.0946, 0.5436, 0.8128],\n",
            "        [0.5436, 0.8128, 0.4577, 0.8822],\n",
            "        [0.4577, 0.8822, 0.7250, 0.8923],\n",
            "        [0.7250, 0.8923, 0.7532, 0.7191],\n",
            "        [0.7532, 0.7191, 0.7591, 0.6620],\n",
            "        [0.7591, 0.6620, 0.8672, 0.5496],\n",
            "        [0.8672, 0.5496, 1.1632, 0.3865]], device='cuda:0')\n"
          ],
          "name": "stdout"
        }
      ]
    },
    {
      "cell_type": "markdown",
      "metadata": {
        "id": "2pi4nsq8wM9D",
        "colab_type": "text"
      },
      "source": [
        "# Create RNN Class"
      ]
    },
    {
      "cell_type": "code",
      "metadata": {
        "id": "9XH10b8zkbSc",
        "colab_type": "code",
        "colab": {}
      },
      "source": [
        "import torch\n",
        "import torch.nn as nn\n",
        "\n",
        "\n",
        "# RNN to predict the sequence\n",
        "\n",
        "class RNN(nn.Module):\n",
        "    def __init__(self, input_size, hidden_size, output_size):\n",
        "        super(RNN, self).__init__()\n",
        "        self.input_size = input_size\n",
        "        self.hidden_size = hidden_size\n",
        "        self.output_size = output_size\n",
        "        \n",
        "        self.lstm = nn.LSTM(input_size, hidden_size).to(DEVICE)\n",
        "        self.h2o = nn.Linear(hidden_size, output_size).to(DEVICE)\n",
        "\n",
        "#        print(\"RNN(%d, %d, %d)\"%(input_size, hidden_size, output_size))\n",
        "        \n",
        "    def forward(self, input, hidden):\n",
        "#        print(\"input.shape = {}\".format(input.shape))\n",
        "        reshaped = input.view(len(input), 1, -1)     # seq_len * batch_size * input_size\n",
        "#        print(\"reshaped.shape = {}\".format(reshaped.shape))\n",
        "    \n",
        "        output, hidden = self.lstm(reshaped, hidden)        # output.shape = seq_len * batch_size * hidden_size\n",
        "\n",
        "#        print(\"output.shape = {}\".format(output.shape))    \n",
        "\n",
        "#        h, c = hidden \n",
        "#        print(\"h.shape = {}\".format(h.shape))\n",
        "#        print(\"c.shape = {}\".format(c.shape))\n",
        "      \n",
        "        out = self.h2o(output).reshape(len(input), -1)\n",
        "#        print(\"out = {}\".format(out))        \n",
        "        \n",
        "        return out, hidden\n",
        "\n",
        "    def initHidden(self):\n",
        "        # one for h0, the other for c0\n",
        "#       return torch.zeros(1, 1, self.hidden_size), torch.zeros(1, 1, self.hidden_size)\n",
        "        return torch.zeros(1, 1, self.hidden_size).to(DEVICE), torch.zeros(1, 1, self.hidden_size).to(DEVICE)\n",
        "      "
      ],
      "execution_count": 0,
      "outputs": []
    },
    {
      "cell_type": "code",
      "metadata": {
        "id": "4cqboZh1pQlR",
        "colab_type": "code",
        "colab": {}
      },
      "source": [
        "# create rnn object\n",
        "rnn = RNN(2, 32, 2)"
      ],
      "execution_count": 0,
      "outputs": []
    },
    {
      "cell_type": "markdown",
      "metadata": {
        "id": "r9updpNBwG4O",
        "colab_type": "text"
      },
      "source": [
        "# Train RNN"
      ]
    },
    {
      "cell_type": "code",
      "metadata": {
        "id": "AF_MsFrNtV4V",
        "colab_type": "code",
        "colab": {}
      },
      "source": [
        "# utility function to measure time\n",
        "import time\n",
        "import math\n",
        "\n",
        "def timeSince(since):\n",
        "    now = time.time()\n",
        "    s = now - since\n",
        "    m = math.floor(s / 60)\n",
        "    s -= m * 60\n",
        "    return '%dm %ds' % (m, s)"
      ],
      "execution_count": 0,
      "outputs": []
    },
    {
      "cell_type": "code",
      "metadata": {
        "id": "yaUQTwhbLtqk",
        "colab_type": "code",
        "colab": {}
      },
      "source": [
        "# generate input and target sequences with random noise\n",
        "def get_data(X):\n",
        "#    X = np.linspace(-3.14 * 2, 3.14 * 2, 100)\n",
        "    Y = np.array([(np.sin(x) + np.random.normal(0, 0.1), np.cos(x) + np.random.normal(0, 0.1)) for x in X])\n",
        "    input_tensor = torch.tensor(Y, dtype=torch.float32).to(DEVICE)\n",
        "#   input_tensor = torch.tensor(Y, dtype=torch.float32)\n",
        "  \n",
        "    target_tensor = torch.cat((input_tensor[1:], input_tensor[0:1]), 0).to(DEVICE)\n",
        "    #target_tensor = torch.cat((input_tensor[1:], input_tensor[0:1]), 0)\n",
        "    \n",
        "    return input_tensor, target_tensor"
      ],
      "execution_count": 0,
      "outputs": []
    },
    {
      "cell_type": "code",
      "metadata": {
        "id": "mozKs59NIwHl",
        "colab_type": "code",
        "colab": {}
      },
      "source": [
        "# select loss function\n",
        "criterion = nn.MSELoss()\n",
        "\n",
        "# learning rate\n",
        "learning_rate = 0.0005\n",
        "\n",
        "# set optimilzer\n",
        "optimizer = torch.optim.Adam(rnn.parameters(), lr = learning_rate)"
      ],
      "execution_count": 0,
      "outputs": []
    },
    {
      "cell_type": "code",
      "metadata": {
        "id": "2l6rEvogrUQi",
        "colab_type": "code",
        "colab": {}
      },
      "source": [
        "# define train function that trains for one step\n",
        "def train(input_tensor, target_tensor):\n",
        "    hidden = rnn.initHidden()\n",
        "#    print(\"hidden = {}\".format(hidden))\n",
        "  \n",
        "    rnn.zero_grad()\n",
        "\n",
        "    output, hidden = rnn(input_tensor, hidden)\n",
        "    \n",
        "#    print(\"output.shape = {}\".format(output.shape))\n",
        "#    print(\"target_tensor.shape = {}\".format(target_tensor.shape))\n",
        "\n",
        "    loss = criterion(output, target_tensor)\n",
        "    \n",
        "    loss.backward()\n",
        "    \n",
        "    optimizer.step()\n",
        "#    for p in rnn.parameters():\n",
        "#        p.data.add_(-learning_rate, p.grad.data)\n",
        "\n",
        "    return output, loss.item()"
      ],
      "execution_count": 0,
      "outputs": []
    },
    {
      "cell_type": "code",
      "metadata": {
        "id": "Nm6ll3EqR26B",
        "colab_type": "code",
        "colab": {}
      },
      "source": [
        "# reset loss history\n",
        "all_losses = []"
      ],
      "execution_count": 0,
      "outputs": []
    },
    {
      "cell_type": "code",
      "metadata": {
        "id": "xT1BccAauPnj",
        "colab_type": "code",
        "outputId": "f0deaca5-07be-426e-e594-e5c798d0ac8d",
        "colab": {
          "base_uri": "https://localhost:8080/",
          "height": 467
        }
      },
      "source": [
        "n_iters = 5000\n",
        "print_every = 200\n",
        "plot_every = 200\n",
        "\n",
        "total_loss = 0 # Reset every plot_every iters\n",
        "\n",
        "start = time.time()\n",
        "\n",
        "for iter in range(1, n_iters + 1):\n",
        "    input_tensor, target_tensor = get_data(X)\n",
        "    output, loss = train(input_tensor, target_tensor)\n",
        "    total_loss += loss\n",
        "\n",
        "    if iter % print_every == 0:\n",
        "        print('%s (%d %d%%) %.4f' % (timeSince(start), iter, iter / n_iters * 100, loss))\n",
        "\n",
        "    if iter % plot_every == 0:\n",
        "        all_losses.append(total_loss / plot_every)\n",
        "        total_loss = 0"
      ],
      "execution_count": 17,
      "outputs": [
        {
          "output_type": "stream",
          "text": [
            "0m 1s (200 4%) 0.0199\n",
            "0m 2s (400 8%) 0.0153\n",
            "0m 3s (600 12%) 0.0126\n",
            "0m 4s (800 16%) 0.0116\n",
            "0m 5s (1000 20%) 0.0113\n",
            "0m 6s (1200 24%) 0.0121\n",
            "0m 7s (1400 28%) 0.0119\n",
            "0m 9s (1600 32%) 0.0111\n",
            "0m 10s (1800 36%) 0.0110\n",
            "0m 11s (2000 40%) 0.0102\n",
            "0m 12s (2200 44%) 0.0109\n",
            "0m 13s (2400 48%) 0.0107\n",
            "0m 14s (2600 52%) 0.0117\n",
            "0m 15s (2800 56%) 0.0122\n",
            "0m 17s (3000 60%) 0.0101\n",
            "0m 18s (3200 64%) 0.0109\n",
            "0m 19s (3400 68%) 0.0116\n",
            "0m 20s (3600 72%) 0.0117\n",
            "0m 21s (3800 76%) 0.0094\n",
            "0m 22s (4000 80%) 0.0102\n",
            "0m 23s (4200 84%) 0.0105\n",
            "0m 24s (4400 88%) 0.0107\n",
            "0m 25s (4600 92%) 0.0102\n",
            "0m 27s (4800 96%) 0.0112\n",
            "0m 28s (5000 100%) 0.0106\n"
          ],
          "name": "stdout"
        }
      ]
    },
    {
      "cell_type": "code",
      "metadata": {
        "id": "qfOh_r9q8mjI",
        "colab_type": "code",
        "outputId": "18b7c801-c0b8-40c7-f9e6-abcac781114c",
        "colab": {
          "base_uri": "https://localhost:8080/",
          "height": 286
        }
      },
      "source": [
        "import matplotlib.pyplot as plt\n",
        "import matplotlib.ticker as ticker\n",
        "\n",
        "plt.figure()\n",
        "plt.plot(all_losses)"
      ],
      "execution_count": 18,
      "outputs": [
        {
          "output_type": "execute_result",
          "data": {
            "text/plain": [
              "[<matplotlib.lines.Line2D at 0x7f9f70f292e8>]"
            ]
          },
          "metadata": {
            "tags": []
          },
          "execution_count": 18
        },
        {
          "output_type": "display_data",
          "data": {
            "image/png": "[encoded data removed]",
            "text/plain": [
              "<Figure size 432x288 with 1 Axes>"
            ]
          },
          "metadata": {
            "tags": []
          }
        }
      ]
    },
    {
      "cell_type": "code",
      "metadata": {
        "id": "RUlq27zI6NZ1",
        "colab_type": "code",
        "colab": {}
      },
      "source": [
        "predict_tensor = torch.tensor([[np.sin(X[0]), np.cos(X[0])]]).to(DEVICE)\n",
        "hidden = rnn.initHidden();\n",
        "\n",
        "for i in range(1,len(X)):\n",
        "#  print(\"input = {}\".format(predict[-1:]))\n",
        "#  print(\"hidden = {}\".format(hidden))\n",
        "  output, hidden = rnn(predict_tensor[-1:].reshape(1, 1, -1), hidden)\n",
        "  \n",
        "#  print(\"output = {}\".format(output[0]))\n",
        "  \n",
        "  predict_tensor = torch.cat((predict_tensor, output[-1:]), 0)\n",
        "#  print(\"predict = {}\".format(predict))"
      ],
      "execution_count": 0,
      "outputs": []
    },
    {
      "cell_type": "code",
      "metadata": {
        "id": "P-1-2h226XgR",
        "colab_type": "code",
        "outputId": "a47a54d2-8822-4442-8fd5-3f97cf6b94de",
        "colab": {
          "base_uri": "https://localhost:8080/",
          "height": 319
        }
      },
      "source": [
        "predict = predict_tensor.cpu().detach().numpy()\n",
        "\n",
        "print(\"predict[:,0].shape = {}\".format(predict[:,0].shape))\n",
        "print(\"predict[:,1].shape = {}\".format(predict[:,1].shape))\n",
        "\n",
        "plt.plot (X, predict[:,0])\n",
        "plt.plot (X, predict[:,1])"
      ],
      "execution_count": 20,
      "outputs": [
        {
          "output_type": "stream",
          "text": [
            "predict[:,0].shape = (100,)\n",
            "predict[:,1].shape = (100,)\n"
          ],
          "name": "stdout"
        },
        {
          "output_type": "execute_result",
          "data": {
            "text/plain": [
              "[<matplotlib.lines.Line2D at 0x7f9f70f56978>]"
            ]
          },
          "metadata": {
            "tags": []
          },
          "execution_count": 20
        },
        {
          "output_type": "display_data",
          "data": {
            "image/png": "[encoded data removed]",
            "text/plain": [
              "<Figure size 432x288 with 1 Axes>"
            ]
          },
          "metadata": {
            "tags": []
          }
        }
      ]
    },
    {
      "cell_type": "code",
      "metadata": {
        "id": "GxZ8Dik68dHl",
        "colab_type": "code",
        "colab": {}
      },
      "source": [
        ""
      ],
      "execution_count": 0,
      "outputs": []
    }
  ]
}