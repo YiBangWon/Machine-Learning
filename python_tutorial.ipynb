{
  "nbformat": 4,
  "nbformat_minor": 0,
  "metadata": {
    "colab": {
      "name": "python_tutorial.ipynb의 사본",
      "provenance": [],
      "collapsed_sections": [],
      "include_colab_link": true
    },
    "kernelspec": {
      "name": "python3",
      "display_name": "Python 3"
    }
  },
  "cells": [
    {
      "cell_type": "markdown",
      "metadata": {
        "id": "view-in-github",
        "colab_type": "text"
      },
      "source": [
        "<a href=\"https://colab.research.google.com/github/callee2006/MachineLearning/blob/master/python_tutorial.ipynb\" target=\"_parent\"><img src=\"https://colab.research.google.com/assets/colab-badge.svg\" alt=\"Open In Colab\"/></a>"
      ]
    },
    {
      "cell_type": "code",
      "metadata": {
        "id": "bPons59mlXlt",
        "colab_type": "code",
        "outputId": "a27626dc-2c57-40c6-b3e4-a13a343aaf45",
        "colab": {
          "base_uri": "https://localhost:8080/",
          "height": 35
        }
      },
      "source": [
        "print(\"Hello, World!\")"
      ],
      "execution_count": 1,
      "outputs": [
        {
          "output_type": "stream",
          "text": [
            "Hello, World!\n"
          ],
          "name": "stdout"
        }
      ]
    },
    {
      "cell_type": "markdown",
      "metadata": {
        "id": "p3GZN4NGslWM",
        "colab_type": "text"
      },
      "source": [
        "# Basic types (int, float, bool, str)"
      ]
    },
    {
      "cell_type": "code",
      "metadata": {
        "id": "xt4GL6DlofE7",
        "colab_type": "code",
        "outputId": "24506dc6-dab0-4edd-a88a-f15e449f41ef",
        "colab": {
          "base_uri": "https://localhost:8080/",
          "height": 35
        }
      },
      "source": [
        "a = 5\n",
        "type(a)"
      ],
      "execution_count": 0,
      "outputs": [
        {
          "output_type": "execute_result",
          "data": {
            "text/plain": [
              "int"
            ]
          },
          "metadata": {
            "tags": []
          },
          "execution_count": 2
        }
      ]
    },
    {
      "cell_type": "code",
      "metadata": {
        "id": "wk0NXRfbohxr",
        "colab_type": "code",
        "outputId": "c2fc9b19-5862-46ea-f729-02f1ade84afc",
        "colab": {
          "base_uri": "https://localhost:8080/",
          "height": 35
        }
      },
      "source": [
        "f = 2.0\n",
        "type(f)"
      ],
      "execution_count": 0,
      "outputs": [
        {
          "output_type": "execute_result",
          "data": {
            "text/plain": [
              "float"
            ]
          },
          "metadata": {
            "tags": []
          },
          "execution_count": 3
        }
      ]
    },
    {
      "cell_type": "code",
      "metadata": {
        "id": "KTD2RUG0ILHb",
        "colab_type": "code",
        "outputId": "daebd0e7-2fb9-49da-ce39-38913e22e949",
        "colab": {
          "base_uri": "https://localhost:8080/",
          "height": 35
        }
      },
      "source": [
        "b = True\n",
        "type(b)"
      ],
      "execution_count": 0,
      "outputs": [
        {
          "output_type": "execute_result",
          "data": {
            "text/plain": [
              "bool"
            ]
          },
          "metadata": {
            "tags": []
          },
          "execution_count": 4
        }
      ]
    },
    {
      "cell_type": "code",
      "metadata": {
        "id": "DkDDWWeIILP9",
        "colab_type": "code",
        "outputId": "ab54c7a6-5132-419b-c109-cf3737f2b90b",
        "colab": {
          "base_uri": "https://localhost:8080/",
          "height": 35
        }
      },
      "source": [
        "s = \"Hello, World!\"\n",
        "type(s)"
      ],
      "execution_count": 0,
      "outputs": [
        {
          "output_type": "execute_result",
          "data": {
            "text/plain": [
              "str"
            ]
          },
          "metadata": {
            "tags": []
          },
          "execution_count": 5
        }
      ]
    },
    {
      "cell_type": "markdown",
      "metadata": {
        "id": "i7ljhEufoWHW",
        "colab_type": "text"
      },
      "source": [
        "# Input and output"
      ]
    },
    {
      "cell_type": "code",
      "metadata": {
        "id": "qsD0iKdLDx0L",
        "colab_type": "code",
        "outputId": "596b7d8b-e073-4147-ed9c-0e2608a96b6d",
        "colab": {
          "base_uri": "https://localhost:8080/",
          "height": 69
        }
      },
      "source": [
        "print(\"What's your name?\")\n",
        "name = input()                                 # reading a string\n",
        "print(\"Nice to see you, \", name )"
      ],
      "execution_count": 0,
      "outputs": [
        {
          "output_type": "stream",
          "text": [
            "What's your name?\n",
            "James Dean\n",
            "Nice to see you,  James Dean\n"
          ],
          "name": "stdout"
        }
      ]
    },
    {
      "cell_type": "code",
      "metadata": {
        "id": "7j7vBjB-n5jl",
        "colab_type": "code",
        "outputId": "43e7afc6-7ceb-4476-e9ee-d3c9cefab512",
        "colab": {
          "base_uri": "https://localhost:8080/",
          "height": 104
        }
      },
      "source": [
        "# reading numbers\n",
        "print(\"Input a: \")\n",
        "a = int(input())\n",
        "\n",
        "print(\"Input b: \")\n",
        "b = int(input())\n",
        "\n",
        "c = a + b\n",
        "print(\"{} + {} = {}\".format(a, b, c))          # formatted output"
      ],
      "execution_count": 0,
      "outputs": [
        {
          "output_type": "stream",
          "text": [
            "Input a: \n",
            "10\n",
            "Input b: \n",
            "20\n",
            "10 + 20 = 30\n"
          ],
          "name": "stdout"
        }
      ]
    },
    {
      "cell_type": "markdown",
      "metadata": {
        "id": "DtwX7Q0qAE0g",
        "colab_type": "text"
      },
      "source": [
        "# Exercise 1\n",
        "\n",
        "이동 거리와 시간을 입력 받아 속도를 m/s와 km/h로 각각 출력하는 프로그램을 작성하시오.\n",
        "\n",
        "알고리즘\n",
        "\n",
        "1. 이동 거리를 입력 받는다. (단위: m)\n",
        "2. 시간을 입력 받는다. (시간: sec)\n",
        "3. 속도를 m/s 단위로 계산한다. (속도 = 거리 / 시간)\n",
        "4. 속도를 km/h 단위로 환산한다."
      ]
    },
    {
      "cell_type": "code",
      "metadata": {
        "id": "hXIUAkrK_0hT",
        "colab_type": "code",
        "colab": {}
      },
      "source": [
        ""
      ],
      "execution_count": 0,
      "outputs": []
    },
    {
      "cell_type": "markdown",
      "metadata": {
        "id": "kTZaYLUECkLz",
        "colab_type": "text"
      },
      "source": [
        "# if-statement"
      ]
    },
    {
      "cell_type": "code",
      "metadata": {
        "id": "8tCHS9aOCn76",
        "colab_type": "code",
        "outputId": "79a9a9c4-dd8a-4f9f-b051-3b8d4f8d7ccf",
        "colab": {
          "base_uri": "https://localhost:8080/",
          "height": 71
        }
      },
      "source": [
        "print(\"Input a number: \")\n",
        "x = int(input())\n",
        "if x % 2 == 0:            # note colon and indentation\n",
        "  print(x, \"is an even number.\")\n",
        "else:\n",
        "  print(x, \"is an odd number.\")"
      ],
      "execution_count": 0,
      "outputs": [
        {
          "output_type": "stream",
          "text": [
            "Input a number: \n",
            "100\n",
            "100 is an even number.\n"
          ],
          "name": "stdout"
        }
      ]
    },
    {
      "cell_type": "markdown",
      "metadata": {
        "id": "Xt2TKs8Zsq2j",
        "colab_type": "text"
      },
      "source": [
        "# for - Loop"
      ]
    },
    {
      "cell_type": "code",
      "metadata": {
        "id": "J-IH-6sBooYn",
        "colab_type": "code",
        "outputId": "2ea058bb-197a-436b-87ad-3554bad87fef",
        "colab": {
          "base_uri": "https://localhost:8080/",
          "height": 104
        }
      },
      "source": [
        "# repeating 5 times\n",
        "for i in range(5):        # similar to C statement \"for(i = 0; i < 5; i++){}\"\n",
        "   print(\"i = \", i)"
      ],
      "execution_count": 0,
      "outputs": [
        {
          "output_type": "stream",
          "text": [
            "i =  0\n",
            "i =  1\n",
            "i =  2\n",
            "i =  3\n",
            "i =  4\n"
          ],
          "name": "stdout"
        }
      ]
    },
    {
      "cell_type": "code",
      "metadata": {
        "id": "omN7_F-JrKf5",
        "colab_type": "code",
        "outputId": "4c7be2ec-c3f4-4f01-bed2-10d95316e1cc",
        "colab": {
          "base_uri": "https://localhost:8080/",
          "height": 155
        }
      },
      "source": [
        "# repeating from 20 to 100, step = 10\n",
        "for i in range(20, 100, 10):         # start = 20, end = 100, step = 10, similar to C statement \"for(i = 20; i < 100; i += 10){}\"\n",
        "   print(\"i = \", i)"
      ],
      "execution_count": 0,
      "outputs": [
        {
          "output_type": "stream",
          "text": [
            "i =  20\n",
            "i =  30\n",
            "i =  40\n",
            "i =  50\n",
            "i =  60\n",
            "i =  70\n",
            "i =  80\n",
            "i =  90\n"
          ],
          "name": "stdout"
        }
      ]
    },
    {
      "cell_type": "markdown",
      "metadata": {
        "id": "mpYCCGcjvXgI",
        "colab_type": "text"
      },
      "source": [
        "# Lists\n",
        "\n",
        "* Container of heterogeneous objects\n",
        "    \n",
        "* Flexible (e.g. a list  can contain another list)\n",
        "\n",
        "* Designed for efficient insertion / deletion\n",
        "\n",
        "\n",
        "for list methods, see https://docs.python.org/3/tutorial/datastructures.html\n",
        "\n"
      ]
    },
    {
      "cell_type": "code",
      "metadata": {
        "id": "wrQLfW1Cs8S1",
        "colab_type": "code",
        "outputId": "d7bbd09c-0275-4e0e-95bb-847d5b196bf1",
        "colab": {
          "base_uri": "https://localhost:8080/",
          "height": 53
        }
      },
      "source": [
        "# creating a list\n",
        "a = [5,10,15,20,25,30,35,40]\n",
        "# equivalent to \"a = list(range(5, 45, 5))\"\n",
        "print(a)\n",
        "print(\"len(a) = \", len(a))"
      ],
      "execution_count": 6,
      "outputs": [
        {
          "output_type": "stream",
          "text": [
            "[5, 10, 15, 20, 25, 30, 35, 40]\n",
            "len(a) =  8\n"
          ],
          "name": "stdout"
        }
      ]
    },
    {
      "cell_type": "code",
      "metadata": {
        "id": "mNMcB6p29M1n",
        "colab_type": "code",
        "outputId": "17de1f7a-a7e9-459a-dfe9-0e5efd6f96e3",
        "colab": {
          "base_uri": "https://localhost:8080/",
          "height": 35
        }
      },
      "source": [
        "# list can contain data of different types\n",
        "b = [3.14, 100, 'hello', a]\n",
        "print(b)"
      ],
      "execution_count": 0,
      "outputs": [
        {
          "output_type": "stream",
          "text": [
            "[3.14, 100, 'hello', [5, 10, 15, 20, 25, 30, 35, 40]]\n"
          ],
          "name": "stdout"
        }
      ]
    },
    {
      "cell_type": "code",
      "metadata": {
        "id": "HHrAvT7QvdZq",
        "colab_type": "code",
        "outputId": "f0e434a9-8c86-4972-b303-2e847f261323",
        "colab": {
          "base_uri": "https://localhost:8080/",
          "height": 35
        }
      },
      "source": [
        "# element access\n",
        "print(\"a[2] = \", a[2])"
      ],
      "execution_count": 0,
      "outputs": [
        {
          "output_type": "stream",
          "text": [
            "a[2] =  15\n"
          ],
          "name": "stdout"
        }
      ]
    },
    {
      "cell_type": "code",
      "metadata": {
        "id": "gMEWuYgBo0dj",
        "colab_type": "code",
        "outputId": "e0b245ec-ad27-4d54-f15f-802cec9352a4",
        "colab": {
          "base_uri": "https://localhost:8080/",
          "height": 35
        }
      },
      "source": [
        "# slicing from 0 to 3 (0 이상 3 미만)\n",
        "print(\"a[0:3] = \", a[0:3])"
      ],
      "execution_count": 0,
      "outputs": [
        {
          "output_type": "stream",
          "text": [
            "a[0:3] =  [5, 10, 15]\n"
          ],
          "name": "stdout"
        }
      ]
    },
    {
      "cell_type": "code",
      "metadata": {
        "id": "xrFwaV3LI-ac",
        "colab_type": "code",
        "outputId": "adc326d3-0e6d-49be-ff2d-f32c022af078",
        "colab": {
          "base_uri": "https://localhost:8080/",
          "height": 35
        }
      },
      "source": [
        "# slicing from 0 to 6 (0 이상 6 미만), step = 2\n",
        "print(\"a[0:6:2] = \", a[0:6:2])"
      ],
      "execution_count": 0,
      "outputs": [
        {
          "output_type": "stream",
          "text": [
            "a[0:6:2] =  [5, 15, 25]\n"
          ],
          "name": "stdout"
        }
      ]
    },
    {
      "cell_type": "code",
      "metadata": {
        "id": "W_HAWol8vV_s",
        "colab_type": "code",
        "outputId": "21c51f26-191b-4fa0-8ae4-7b141d288837",
        "colab": {
          "base_uri": "https://localhost:8080/",
          "height": 35
        }
      },
      "source": [
        "# slicing from 5 to the end of the list\n",
        "print(\"a[5:] = \", a[5:])"
      ],
      "execution_count": 0,
      "outputs": [
        {
          "output_type": "stream",
          "text": [
            "a[5:] =  [30, 35, 40]\n"
          ],
          "name": "stdout"
        }
      ]
    },
    {
      "cell_type": "code",
      "metadata": {
        "id": "86BC78hyL8av",
        "colab_type": "code",
        "outputId": "b38b957f-a62c-468c-9aba-23f61c75ee46",
        "colab": {
          "base_uri": "https://localhost:8080/",
          "height": 69
        }
      },
      "source": [
        "# append, insert, remove\n",
        "\n",
        "a.append(50)                # append 50 at the end of list\n",
        "print(a)\n",
        "a.insert(8, 45)             # insert 45 at position 8\n",
        "print(a)\n",
        "a.remove(5)                 # remove the first 5\n",
        "print(a)"
      ],
      "execution_count": 0,
      "outputs": [
        {
          "output_type": "stream",
          "text": [
            "[5, 10, 15, 20, 25, 30, 35, 40, 50]\n",
            "[5, 10, 15, 20, 25, 30, 35, 40, 45, 50]\n",
            "[10, 15, 20, 25, 30, 35, 40, 45, 50]\n"
          ],
          "name": "stdout"
        }
      ]
    },
    {
      "cell_type": "markdown",
      "metadata": {
        "id": "bLboGVCLzxwj",
        "colab_type": "text"
      },
      "source": [
        "# Exercise problem: finding multiples of 3\n",
        "\n",
        "Find all multiples of 3 between 1 and 100\n",
        "Algorithm\n",
        "\n",
        "Algorithm\n",
        "\n",
        "```\n",
        "  initialize a list\n",
        "  Iterate for x from 1 to 100\n",
        "     if x is a multiple of 3\n",
        "         add x to list\n",
        "```\n",
        "\n",
        "\n",
        "Note! There is a simpler solution using list comprehension\n"
      ]
    },
    {
      "cell_type": "code",
      "metadata": {
        "id": "YUTW4fRYzxSZ",
        "colab_type": "code",
        "colab": {}
      },
      "source": [
        "# write your code here"
      ],
      "execution_count": 0,
      "outputs": []
    },
    {
      "cell_type": "code",
      "metadata": {
        "id": "FOVtjb8lz3U-",
        "colab_type": "code",
        "outputId": "98f22a9a-0c64-4dc5-c75c-d4d936889659",
        "colab": {
          "base_uri": "https://localhost:8080/",
          "height": 35
        }
      },
      "source": [
        ""
      ],
      "execution_count": 7,
      "outputs": [
        {
          "output_type": "stream",
          "text": [
            "[3, 6, 9, 12, 15, 18, 21, 24, 27, 30, 33, 36, 39, 42, 45, 48, 51, 54, 57, 60, 63, 66, 69, 72, 75, 78, 81, 84, 87, 90, 93, 96, 99]\n"
          ],
          "name": "stdout"
        }
      ]
    },
    {
      "cell_type": "markdown",
      "metadata": {
        "id": "PCeJ1ioUNIJu",
        "colab_type": "text"
      },
      "source": [
        "## Loops with lists"
      ]
    },
    {
      "cell_type": "code",
      "metadata": {
        "id": "YHcqwzOYND3S",
        "colab_type": "code",
        "outputId": "eb5bc4c2-88aa-4c61-853b-5b37ad353076",
        "colab": {
          "base_uri": "https://localhost:8080/",
          "height": 69
        }
      },
      "source": [
        "animals = ['cat', 'dog', 'monkey']\n",
        "for animal in animals:\n",
        "    print(animal)"
      ],
      "execution_count": 0,
      "outputs": [
        {
          "output_type": "stream",
          "text": [
            "cat\n",
            "dog\n",
            "monkey\n"
          ],
          "name": "stdout"
        }
      ]
    },
    {
      "cell_type": "code",
      "metadata": {
        "id": "1Kn7bndBNPBv",
        "colab_type": "code",
        "outputId": "eaabc6a1-317d-43dc-a8a6-3a9f27772e40",
        "colab": {
          "base_uri": "https://localhost:8080/",
          "height": 69
        }
      },
      "source": [
        "# enumerate() 함수\n",
        "animals = ['cat', 'dog', 'monkey']\n",
        "for idx, animal in enumerate(animals):\n",
        "    print('{}: {}'.format(idx + 1, animal))"
      ],
      "execution_count": 0,
      "outputs": [
        {
          "output_type": "stream",
          "text": [
            "1: cat\n",
            "2: dog\n",
            "3: monkey\n"
          ],
          "name": "stdout"
        }
      ]
    },
    {
      "cell_type": "markdown",
      "metadata": {
        "id": "ssqhuhXPNoKD",
        "colab_type": "text"
      },
      "source": [
        "## List comprehension"
      ]
    },
    {
      "cell_type": "code",
      "metadata": {
        "id": "0RTcT9EONOlm",
        "colab_type": "code",
        "outputId": "64cf79e2-fbcb-4c2d-84d2-c5d807dbd1b6",
        "colab": {
          "base_uri": "https://localhost:8080/",
          "height": 35
        }
      },
      "source": [
        "# computing the square of list elements NOT using list comprehansion\n",
        "nums = [0, 1, 2, 3, 4]\n",
        "squares = []\n",
        "for x in nums:\n",
        "    squares.append(x**2)        # x** 2 means x2 \n",
        "print(squares)"
      ],
      "execution_count": 8,
      "outputs": [
        {
          "output_type": "stream",
          "text": [
            "[0, 1, 4, 9, 16]\n"
          ],
          "name": "stdout"
        }
      ]
    },
    {
      "cell_type": "code",
      "metadata": {
        "id": "fuNog9N7Nuxd",
        "colab_type": "code",
        "outputId": "30d621cf-738f-4fcd-d89b-a976062b51de",
        "colab": {
          "base_uri": "https://localhost:8080/",
          "height": 35
        }
      },
      "source": [
        "# computing the square of list elements USING list comprehansion\n",
        "\n",
        "nums = [0, 1, 2, 3, 4]\n",
        "even_squares = [x ** 2 for x in nums if x % 2 == 0]\n",
        "print(even_squares)"
      ],
      "execution_count": 9,
      "outputs": [
        {
          "output_type": "stream",
          "text": [
            "[0, 4, 16]\n"
          ],
          "name": "stdout"
        }
      ]
    },
    {
      "cell_type": "markdown",
      "metadata": {
        "id": "eM_Hf5JRz7xs",
        "colab_type": "text"
      },
      "source": [
        "# Exercise problem: finding multiples of 3 using list comprehension\n",
        "\n",
        "Find all multiples of 3 between 1 and 100 **using list comprehension**"
      ]
    },
    {
      "cell_type": "code",
      "metadata": {
        "id": "IMnvKzBqNtKT",
        "colab_type": "code",
        "colab": {}
      },
      "source": [
        "# write your solutyion here"
      ],
      "execution_count": 0,
      "outputs": []
    },
    {
      "cell_type": "code",
      "metadata": {
        "id": "tkz-iikd0Aux",
        "colab_type": "code",
        "colab": {}
      },
      "source": [
        ""
      ],
      "execution_count": 0,
      "outputs": []
    },
    {
      "cell_type": "markdown",
      "metadata": {
        "id": "YOYIaKdLJVff",
        "colab_type": "text"
      },
      "source": [
        "## 2D Lists"
      ]
    },
    {
      "cell_type": "code",
      "metadata": {
        "id": "BvgiglhZJUV8",
        "colab_type": "code",
        "outputId": "0eae8431-343e-4858-cc89-cc6d20df5bb7",
        "colab": {
          "base_uri": "https://localhost:8080/",
          "height": 52
        }
      },
      "source": [
        "list2D = [[1, 2, 3], [4, 5, 6]]          # creating a 2D list\n",
        "rows = len(list2D)                       # retrieving <# of rows> \n",
        "cols = len(list2D[0])                    # retrieving <# of columns>\n",
        "print(\"size of list2D = {} x {}\".format(rows, cols))\n",
        "print(list2D)"
      ],
      "execution_count": 0,
      "outputs": [
        {
          "output_type": "stream",
          "text": [
            "size of list2D = 2 x 3\n",
            "[[1, 2, 3], [4, 5, 6]]\n"
          ],
          "name": "stdout"
        }
      ]
    },
    {
      "cell_type": "code",
      "metadata": {
        "id": "jpBDwsLpJsgs",
        "colab_type": "code",
        "outputId": "b5843944-fd33-4e80-9ba0-67fe6fc20223",
        "colab": {
          "base_uri": "https://localhost:8080/",
          "height": 35
        }
      },
      "source": [
        "# accessing an element\n",
        "list2D[0][1]"
      ],
      "execution_count": 0,
      "outputs": [
        {
          "output_type": "execute_result",
          "data": {
            "text/plain": [
              "2"
            ]
          },
          "metadata": {
            "tags": []
          },
          "execution_count": 24
        }
      ]
    },
    {
      "cell_type": "code",
      "metadata": {
        "id": "fR3_GEF4Jx7V",
        "colab_type": "code",
        "outputId": "eef1f193-dcad-4734-c7d4-4a51052d86e0",
        "colab": {
          "base_uri": "https://localhost:8080/",
          "height": 35
        }
      },
      "source": [
        "# accessing a row\n",
        "list2D[1]"
      ],
      "execution_count": 0,
      "outputs": [
        {
          "output_type": "execute_result",
          "data": {
            "text/plain": [
              "[4, 5, 6]"
            ]
          },
          "metadata": {
            "tags": []
          },
          "execution_count": 25
        }
      ]
    },
    {
      "cell_type": "markdown",
      "metadata": {
        "id": "gLlue1Z-r_9h",
        "colab_type": "text"
      },
      "source": [
        "# Exercise problem: merging lists\n",
        "\n",
        "Merging two sotrted lists preserving ascending order\n",
        "\n",
        "\n",
        "1. Generate two lists (a = [1, 3, 5, ....., 29], b = [20, 22, 24, ... 50])\n",
        "\n",
        "1. Merge the two lists\n",
        "\n",
        " The merged list  should be as follows:\n",
        " \n",
        " [1, 3, 5, 7, 9, 11, 13, 15, 17, 19, 20, 21, 22, 23, 24, 25, 26, 27, 28, 29, 30, 32, 34, 36, 38, 40, 42, 44, 46, 48, 50])\n",
        "\n",
        "1. Print the merged list\n",
        "\n",
        "\n",
        "## Algorithm to merge two lists\n",
        "\n",
        "```\n",
        "initialize a_idx = 0, b_idx = 0, merged = []\n",
        "\n",
        "repeat (a_len + b_len)-times\n",
        "   if no more element in a   (a_idx >= a_len)\n",
        "       append all remaining elements of b to merged\n",
        "       terminate\n",
        "   \n",
        "   if no more element in b    (b_idx >= b_len)\n",
        "       append all remaining elements of a to merged\n",
        "       terminate\n",
        "       \n",
        "   if a[a_idx] <= b[b_idx]\n",
        "        append a[a_idx] to merged\n",
        "        increase a_idx\n",
        "   else\n",
        "      append b[b_idx] to merged\n",
        "      increase b_idx\n",
        "\n",
        "```"
      ]
    },
    {
      "cell_type": "code",
      "metadata": {
        "id": "dvOQZWXWp9hu",
        "colab_type": "code",
        "colab": {}
      },
      "source": [
        "# write your code here\n"
      ],
      "execution_count": 0,
      "outputs": []
    },
    {
      "cell_type": "markdown",
      "metadata": {
        "id": "PnN7xe2a4nOx",
        "colab_type": "text"
      },
      "source": [
        "# Tuples\n",
        "\n",
        "* Container of heterogeneous objects    \n",
        "\n",
        "* Immutable"
      ]
    },
    {
      "cell_type": "code",
      "metadata": {
        "id": "v4UVKjqL4mYQ",
        "colab_type": "code",
        "outputId": "1cd9d767-a8d9-4457-abe2-a8b478cd9f48",
        "colab": {
          "base_uri": "https://localhost:8080/",
          "height": 35
        }
      },
      "source": [
        "# creating a tuple\n",
        "t = (5,'program', 1+3j)\n",
        "print(t)"
      ],
      "execution_count": 0,
      "outputs": [
        {
          "output_type": "stream",
          "text": [
            "(5, 'program', (1+3j))\n"
          ],
          "name": "stdout"
        }
      ]
    },
    {
      "cell_type": "code",
      "metadata": {
        "id": "qwi_ybso4pZL",
        "colab_type": "code",
        "outputId": "24aced02-f116-413d-c4b2-219b95bf0f5b",
        "colab": {
          "base_uri": "https://localhost:8080/",
          "height": 52
        }
      },
      "source": [
        "# accessing elements\n",
        "\n",
        "print(\"t[1] = \", t[1])\n",
        "# t[1] = 'program'\n",
        "\n",
        "print(\"t[0:3] = \", t[0:3])\n",
        "# t[0:3] = (5, 'program', (1+3j))"
      ],
      "execution_count": 0,
      "outputs": [
        {
          "output_type": "stream",
          "text": [
            "t[1] =  program\n",
            "t[0:3] =  (5, 'program', (1+3j))\n"
          ],
          "name": "stdout"
        }
      ]
    },
    {
      "cell_type": "code",
      "metadata": {
        "id": "z6qrV3U28NG7",
        "colab_type": "code",
        "outputId": "277bc5e1-fae1-4a08-e3a8-3431644b05a0",
        "colab": {
          "base_uri": "https://localhost:8080/",
          "height": 166
        }
      },
      "source": [
        "# Tuples are immutable\n",
        "# The following code generates error\n",
        "t[0] = 10"
      ],
      "execution_count": 0,
      "outputs": [
        {
          "output_type": "error",
          "ename": "TypeError",
          "evalue": "ignored",
          "traceback": [
            "\u001b[0;31m---------------------------------------------------------------------------\u001b[0m",
            "\u001b[0;31mTypeError\u001b[0m                                 Traceback (most recent call last)",
            "\u001b[0;32m<ipython-input-28-88963aa635fa>\u001b[0m in \u001b[0;36m<module>\u001b[0;34m()\u001b[0m\n\u001b[0;32m----> 1\u001b[0;31m \u001b[0mt\u001b[0m\u001b[0;34m[\u001b[0m\u001b[0;36m0\u001b[0m\u001b[0;34m]\u001b[0m \u001b[0;34m=\u001b[0m \u001b[0;36m10\u001b[0m\u001b[0;34m\u001b[0m\u001b[0;34m\u001b[0m\u001b[0m\n\u001b[0m",
            "\u001b[0;31mTypeError\u001b[0m: 'tuple' object does not support item assignment"
          ]
        }
      ]
    },
    {
      "cell_type": "markdown",
      "metadata": {
        "id": "-YtIFKOON4yz",
        "colab_type": "text"
      },
      "source": [
        "# Dictionaries"
      ]
    },
    {
      "cell_type": "code",
      "metadata": {
        "id": "I3PGlQmdN6fZ",
        "colab_type": "code",
        "outputId": "5b863c32-632d-4f35-9c7b-165f4e2a178e",
        "colab": {
          "base_uri": "https://localhost:8080/",
          "height": 89
        }
      },
      "source": [
        "# dictionary: a set of (key, value) pairs\n",
        "\n",
        "d = {'cat':'cute', 'dog':'furry'}   # creates a new dictionary\n",
        "print(\"keys = \", d.keys())\n",
        "print(\"keys = \", d.values())\n",
        "print(d['cat'])\n",
        "print('cat' in d)"
      ],
      "execution_count": 11,
      "outputs": [
        {
          "output_type": "stream",
          "text": [
            "keys =  dict_keys(['cat', 'dog'])\n",
            "keys =  dict_values(['cute', 'furry'])\n",
            "cute\n",
            "True\n"
          ],
          "name": "stdout"
        }
      ]
    },
    {
      "cell_type": "code",
      "metadata": {
        "id": "fvJTCaNsOXyW",
        "colab_type": "code",
        "outputId": "1481e50e-ab58-469c-8856-6299c3a9ad64",
        "colab": {
          "base_uri": "https://localhost:8080/",
          "height": 52
        }
      },
      "source": [
        "d2 = {0:'hello', 1:'world'}\n",
        "print(d2[1])\n",
        "d3 = {'sbs':6, 'kbs2':7, 'kbs1':9, 'mbc':11}\n",
        "print(\"kbs1 =\", d3['kbs1'])"
      ],
      "execution_count": 0,
      "outputs": [
        {
          "output_type": "stream",
          "text": [
            "world\n",
            "kbs1 = 9\n"
          ],
          "name": "stdout"
        }
      ]
    },
    {
      "cell_type": "code",
      "metadata": {
        "id": "NkvloAnzOBLN",
        "colab_type": "code",
        "outputId": "026037c4-6ebf-4809-bc4d-37ba1235938f",
        "colab": {
          "base_uri": "https://localhost:8080/",
          "height": 35
        }
      },
      "source": [
        "d['fish'] = 'wet'    # set an entry in a dictionary\n",
        "print(d['fish'])"
      ],
      "execution_count": 0,
      "outputs": [
        {
          "output_type": "stream",
          "text": [
            "wet\n"
          ],
          "name": "stdout"
        }
      ]
    },
    {
      "cell_type": "code",
      "metadata": {
        "id": "kes9hh_OO-4P",
        "colab_type": "code",
        "outputId": "016b9d10-4450-4d17-d293-14565ce933a6",
        "colab": {
          "base_uri": "https://localhost:8080/",
          "height": 166
        }
      },
      "source": [
        "# this code causes an error because there is no key 'chicken'\n",
        "print(d['chicken'])                 # ERROR"
      ],
      "execution_count": 0,
      "outputs": [
        {
          "output_type": "error",
          "ename": "KeyError",
          "evalue": "ignored",
          "traceback": [
            "\u001b[0;31m---------------------------------------------------------------------------\u001b[0m",
            "\u001b[0;31mKeyError\u001b[0m                                  Traceback (most recent call last)",
            "\u001b[0;32m<ipython-input-32-eef363ebf32c>\u001b[0m in \u001b[0;36m<module>\u001b[0;34m()\u001b[0m\n\u001b[0;32m----> 1\u001b[0;31m \u001b[0mprint\u001b[0m\u001b[0;34m(\u001b[0m\u001b[0md\u001b[0m\u001b[0;34m[\u001b[0m\u001b[0;34m'chicken'\u001b[0m\u001b[0;34m]\u001b[0m\u001b[0;34m)\u001b[0m                 \u001b[0;31m# ERROR\u001b[0m\u001b[0;34m\u001b[0m\u001b[0;34m\u001b[0m\u001b[0m\n\u001b[0m",
            "\u001b[0;31mKeyError\u001b[0m: 'chicken'"
          ]
        }
      ]
    },
    {
      "cell_type": "code",
      "metadata": {
        "id": "oyrNs_Q0OHA3",
        "colab_type": "code",
        "outputId": "9397385a-55de-4fa2-d776-d8622d111a3f",
        "colab": {
          "base_uri": "https://localhost:8080/",
          "height": 52
        }
      },
      "source": [
        "print(d.get('monkey', 'N/A'))  # Get an element with a default; prints \"N/A\"\n",
        "del d['fish']         # remove an element from a dictionary\n",
        "print(d.get('fish', 'N/A')) # \"fish\" is no longer a key; prints \"N/A\""
      ],
      "execution_count": 0,
      "outputs": [
        {
          "output_type": "stream",
          "text": [
            "N/A\n",
            "N/A\n"
          ],
          "name": "stdout"
        }
      ]
    },
    {
      "cell_type": "code",
      "metadata": {
        "id": "C3FzLt8uHS2o",
        "colab_type": "code",
        "outputId": "337d9dec-1cd7-4ebc-d5f6-df515d0220b1",
        "colab": {
          "base_uri": "https://localhost:8080/",
          "height": 71
        }
      },
      "source": [
        "# loop with dictionary\n",
        "d = {'person':2, 'cat':4, 'spider':8}\n",
        "for animal in d:\n",
        "    legs = d[animal]\n",
        "    print(\"A {} has {} legs.\".format(animal, legs))"
      ],
      "execution_count": 0,
      "outputs": [
        {
          "output_type": "stream",
          "text": [
            "A person has 2 legs.\n",
            "A cat has 4 legs.\n",
            "A spider has 8 legs.\n"
          ],
          "name": "stdout"
        }
      ]
    },
    {
      "cell_type": "code",
      "metadata": {
        "id": "l1WanGUgHuAC",
        "colab_type": "code",
        "outputId": "4cc78ae4-f4d5-4b11-b7cb-5d6ae2c4be4e",
        "colab": {
          "base_uri": "https://localhost:8080/",
          "height": 71
        }
      },
      "source": [
        "# loop with dictionary using items()\n",
        "d = {'person':2, 'cat':4, 'spider':8}\n",
        "for animal, legs in d.items():    \n",
        "    print(\"A {} has {} legs.\".format(animal, legs))"
      ],
      "execution_count": 0,
      "outputs": [
        {
          "output_type": "stream",
          "text": [
            "A person has 2 legs.\n",
            "A cat has 4 legs.\n",
            "A spider has 8 legs.\n"
          ],
          "name": "stdout"
        }
      ]
    },
    {
      "cell_type": "markdown",
      "metadata": {
        "id": "HCwwrT8Nsef3",
        "colab_type": "text"
      },
      "source": [
        "# Function"
      ]
    },
    {
      "cell_type": "code",
      "metadata": {
        "id": "42vld-6KpSqX",
        "colab_type": "code",
        "colab": {}
      },
      "source": [
        "# def <function_name>(<argument_list>):\n",
        "#   <statement1>\n",
        "#   <statement2>\n",
        "#   ...\n",
        "\n",
        "def is_even(x):\n",
        "   if x % 2 == 0:\n",
        "      return True\n",
        "   else:\n",
        "      return False"
      ],
      "execution_count": 0,
      "outputs": []
    },
    {
      "cell_type": "code",
      "metadata": {
        "id": "_0Bee6LPsTVl",
        "colab_type": "code",
        "outputId": "b5910ab4-b095-49b0-e66a-a5983561fb48",
        "colab": {
          "base_uri": "https://localhost:8080/",
          "height": 52
        }
      },
      "source": [
        "print(\"is_even(20) = {}\".format(is_even(20)))\n",
        "print(\"is_even(35) = {}\".format(is_even(35)))"
      ],
      "execution_count": 0,
      "outputs": [
        {
          "output_type": "stream",
          "text": [
            "is_even(20) = True\n",
            "is_even(35) = False\n"
          ],
          "name": "stdout"
        }
      ]
    },
    {
      "cell_type": "markdown",
      "metadata": {
        "id": "0POt2VgJ0Hcf",
        "colab_type": "text"
      },
      "source": [
        "# Exercises problem: Finding prime numbers\n",
        "\n",
        "Print all prime numbers between 1 and 100\n",
        "\n",
        "1. Define a function **is_prime(x)** that decides whether x is prime or not\n",
        "\n",
        "1. Test all numbers from 1 to 100, and put prime numbers into a list"
      ]
    },
    {
      "cell_type": "code",
      "metadata": {
        "id": "u9F3-hni0bUj",
        "colab_type": "code",
        "colab": {}
      },
      "source": [
        "# Define a function is_prime(x) that decides whether x is prime or not"
      ],
      "execution_count": 0,
      "outputs": []
    },
    {
      "cell_type": "code",
      "metadata": {
        "id": "SQBf4rOx0eYp",
        "colab_type": "code",
        "colab": {}
      },
      "source": [
        "# Test all numbers from 1 to 100, and put prime numbers into a list"
      ],
      "execution_count": 0,
      "outputs": []
    },
    {
      "cell_type": "markdown",
      "metadata": {
        "id": "Ev2rm5PHvnqh",
        "colab_type": "text"
      },
      "source": [
        "# Class\n",
        "\n"
      ]
    },
    {
      "cell_type": "code",
      "metadata": {
        "id": "OuEe_PMfschP",
        "colab_type": "code",
        "colab": {}
      },
      "source": [
        "# defining a class\n",
        "class Hello:\n",
        "    def __init__(self, message):\n",
        "        self.mesg = message      \n",
        "      \n",
        "    def display(self):\n",
        "        print('=' * 20, end = '')\n",
        "        print(self.mesg, end = '')\n",
        "        print('=' * 20, end = '')\n",
        "        \n",
        "    def get_message(self):\n",
        "        return self.mesg"
      ],
      "execution_count": 0,
      "outputs": []
    },
    {
      "cell_type": "code",
      "metadata": {
        "id": "w1FAgPbnwL8m",
        "colab_type": "code",
        "colab": {}
      },
      "source": [
        "# creating a class object\n",
        "hello = Hello('nice to see you!')"
      ],
      "execution_count": 0,
      "outputs": []
    },
    {
      "cell_type": "code",
      "metadata": {
        "id": "OINhVC65wTLc",
        "colab_type": "code",
        "outputId": "d67c8531-6e3e-4acb-8dd5-31a82281c0f0",
        "colab": {
          "base_uri": "https://localhost:8080/",
          "height": 35
        }
      },
      "source": [
        "# calling methods\n",
        "hello.display()\n",
        "print(\"message = \", hello.get_message())"
      ],
      "execution_count": 0,
      "outputs": [
        {
          "output_type": "stream",
          "text": [
            "====================nice to see you!====================message =  nice to see you!\n"
          ],
          "name": "stdout"
        }
      ]
    },
    {
      "cell_type": "markdown",
      "metadata": {
        "id": "sp1zL4lVsWWw",
        "colab_type": "text"
      },
      "source": [
        "# Exercises problem: Finding prime numbers\n",
        "\n",
        "Print all prime numbers between 1 and 100\n",
        "\n",
        "1. Define a function to decide a number is prime or not\n",
        "\n",
        "2. Test all numbers from 1 to 100, and put prime numbers into a list"
      ]
    },
    {
      "cell_type": "code",
      "metadata": {
        "id": "o9yU2wm6svv8",
        "colab_type": "code",
        "colab": {}
      },
      "source": [
        "def is_prime(x):\n",
        "  if x <= 1:\n",
        "    return False\n",
        "  \n",
        "  prime = True\n",
        "  for i in range(2, int(x/2)+1):\n",
        "    if x % i == 0:\n",
        "      prime = False;\n",
        "      break;\n",
        "  return prime"
      ],
      "execution_count": 0,
      "outputs": []
    },
    {
      "cell_type": "code",
      "metadata": {
        "id": "GFXGIl8xsVvd",
        "colab_type": "code",
        "outputId": "ff656d95-8ae0-446f-fbb3-b8faa91725e1",
        "colab": {
          "base_uri": "https://localhost:8080/",
          "height": 35
        }
      },
      "source": [
        "# initialize prime by an empty list\n",
        "prime = []\n",
        "\n",
        "# put  all prime numbers between 1 and 100\n",
        "for i in range(1, 101):\n",
        "  if is_prime(i) == True:\n",
        "    prime.append(i)\n",
        "\n",
        "print(\"Prime number between 1 and 100: \", prime)"
      ],
      "execution_count": 0,
      "outputs": [
        {
          "output_type": "stream",
          "text": [
            "Prime number between 1 and 100:  [2, 3, 5, 7, 11, 13, 17, 19, 23, 29, 31, 37, 41, 43, 47, 53, 59, 61, 67, 71, 73, 79, 83, 89, 97]\n"
          ],
          "name": "stdout"
        }
      ]
    },
    {
      "cell_type": "markdown",
      "metadata": {
        "id": "7WW3KmtKPT-E",
        "colab_type": "text"
      },
      "source": [
        "# Numpy Arrays\n",
        "\n",
        "\n",
        "Methods of array\n",
        "\n",
        "* append()\tAdds an element at the end of the list\n",
        "* clear()\tRemoves all the elements from the list\n",
        "* copy()\tReturns a copy of the list\n",
        "* count()\tReturns the number of elements with the specified value\n",
        "* extend()\tAdd the elements of a list (or any iterable), to the end of the current list\n",
        "* index()\tReturns the index of the first element with the specified value\n",
        "* insert()\tAdds an element at the specified position\n",
        "* pop()\tRemoves the element at the specified position\n",
        "* remove()\tRemoves the first item with the specified value\n",
        "* reverse()\tReverses the order of the list\n",
        "* sort()\tSorts the list"
      ]
    },
    {
      "cell_type": "code",
      "metadata": {
        "id": "zAV8w3VcPfy7",
        "colab_type": "code",
        "colab": {}
      },
      "source": [
        "import numpy as np"
      ],
      "execution_count": 0,
      "outputs": []
    },
    {
      "cell_type": "code",
      "metadata": {
        "id": "SiyKRh1fxMEk",
        "colab_type": "code",
        "outputId": "7b4b88be-913e-4cbe-8667-b1a561d4267a",
        "colab": {
          "base_uri": "https://localhost:8080/",
          "height": 71
        }
      },
      "source": [
        "a = np.array([1, 2, 3])\n",
        "print(type(a))\n",
        "print(a.shape)\n",
        "print(\"a = \", a)"
      ],
      "execution_count": 13,
      "outputs": [
        {
          "output_type": "stream",
          "text": [
            "<class 'numpy.ndarray'>\n",
            "(3,)\n",
            "a =  [1 2 3]\n"
          ],
          "name": "stdout"
        }
      ]
    },
    {
      "cell_type": "code",
      "metadata": {
        "id": "sY26e9CsLc7G",
        "colab_type": "code",
        "outputId": "8ee0cf42-4933-4bcf-cb05-a2a486a57c18",
        "colab": {
          "base_uri": "https://localhost:8080/",
          "height": 52
        }
      },
      "source": [
        "a = np.arange(0, 100, 10)     # start, end and step can be float numbers\n",
        "print(a.shape)\n",
        "print(\"a = \", a)"
      ],
      "execution_count": 0,
      "outputs": [
        {
          "output_type": "stream",
          "text": [
            "(10,)\n",
            "a =  [ 0 10 20 30 40 50 60 70 80 90]\n"
          ],
          "name": "stdout"
        }
      ]
    },
    {
      "cell_type": "code",
      "metadata": {
        "id": "HhMXUJCfPaIj",
        "colab_type": "code",
        "outputId": "a509e3f9-8edd-449b-e70c-9543b1adc092",
        "colab": {
          "base_uri": "https://localhost:8080/",
          "height": 52
        }
      },
      "source": [
        "print(a[0], a[1], a[2])\n",
        "a[0] = 5                  \t# Change an element of the array\n",
        "print(a)"
      ],
      "execution_count": 0,
      "outputs": [
        {
          "output_type": "stream",
          "text": [
            "0 10 20\n",
            "[ 5 10 20 30 40 50 60 70 80 90]\n"
          ],
          "name": "stdout"
        }
      ]
    },
    {
      "cell_type": "markdown",
      "metadata": {
        "id": "eyAy1b6PPpA6",
        "colab_type": "text"
      },
      "source": [
        "## 2D array"
      ]
    },
    {
      "cell_type": "code",
      "metadata": {
        "id": "9kCEfPchPiEY",
        "colab_type": "code",
        "outputId": "64eaef23-63ab-4de9-9386-19600d3bcd4d",
        "colab": {
          "base_uri": "https://localhost:8080/",
          "height": 86
        }
      },
      "source": [
        "b = np.array([[1,2,3],[4,5,6]])    # Create a 2D array\n",
        "#       [[1,2,3]\n",
        "#        [4,5,6]]\n",
        "print(b)\n",
        "print(b.shape)\n",
        "print(b[0, 0], b[0, 1], b[1, 0])"
      ],
      "execution_count": 0,
      "outputs": [
        {
          "output_type": "stream",
          "text": [
            "[[1 2 3]\n",
            " [4 5 6]]\n",
            "(2, 3)\n",
            "1 2 4\n"
          ],
          "name": "stdout"
        }
      ]
    },
    {
      "cell_type": "code",
      "metadata": {
        "id": "iE1ukmDBPr_f",
        "colab_type": "code",
        "outputId": "41c1c5e4-c738-4e93-bf45-ed19d59cc78a",
        "colab": {
          "base_uri": "https://localhost:8080/",
          "height": 215
        }
      },
      "source": [
        "a = np.zeros((2,3))   # Create an array of all zeros\n",
        "print(a)\n",
        "\n",
        "b = np.ones((1,2))    # Create an array of all ones\n",
        "print(b)\n",
        "\n",
        "c = np.full((2,3), 7)  # Create a constant array\n",
        "print(c)\n",
        "\n",
        "d = np.eye(2)      # Create a 2x2 identity matrix\n",
        "print(d)\n",
        "\n",
        "e = np.random.random((2,2))  # Create an array filled with random values from uniform distribution\n",
        "print(e)\n",
        "\n",
        "f = np.random.randn(2,2)  # Create an array filled with random values from normal distribution N(0,1)\n",
        "print(f)"
      ],
      "execution_count": 19,
      "outputs": [
        {
          "output_type": "stream",
          "text": [
            "[[0. 0. 0.]\n",
            " [0. 0. 0.]]\n",
            "[[1. 1.]]\n",
            "[[7 7 7]\n",
            " [7 7 7]]\n",
            "[[1. 0.]\n",
            " [0. 1.]]\n",
            "[[0.1607215  0.63016263]\n",
            " [0.01019574 0.45570727]]\n",
            "[[ 0.63990621 -2.35532966]\n",
            " [ 1.00125522 -0.48360002]]\n"
          ],
          "name": "stdout"
        }
      ]
    },
    {
      "cell_type": "markdown",
      "metadata": {
        "id": "P5N--eQSQKXb",
        "colab_type": "text"
      },
      "source": [
        "## array slicing"
      ]
    },
    {
      "cell_type": "code",
      "metadata": {
        "id": "mrMW-0GpP1jL",
        "colab_type": "code",
        "outputId": "c7f4f70e-abe3-4f18-d9f6-6cbc4aba1351",
        "colab": {
          "base_uri": "https://localhost:8080/",
          "height": 89
        }
      },
      "source": [
        "# Create the following rank 2 array with shape (3, 4)\n",
        "a = np.array([[1,2,3,4], [5,6,7,8], [9,10,11,12]])\n",
        "#    [[1,2,3,4],\n",
        "#     [5,6,7,8],\n",
        "#     [9,10,11,12]]\n",
        "print(\"a = \", a)\n",
        "\n",
        "# element access\n",
        "print(\"a[1, 2] = \", a[1, 2])"
      ],
      "execution_count": 23,
      "outputs": [
        {
          "output_type": "stream",
          "text": [
            "a =  [[ 1  2  3  4]\n",
            " [ 5  6  7  8]\n",
            " [ 9 10 11 12]]\n",
            "a[1, 2] =  7\n"
          ],
          "name": "stdout"
        }
      ]
    },
    {
      "cell_type": "code",
      "metadata": {
        "id": "hwtMmzJ9QPRM",
        "colab_type": "code",
        "outputId": "326e4b0a-5bbb-4358-a0d5-7359ea694b3c",
        "colab": {
          "base_uri": "https://localhost:8080/",
          "height": 53
        }
      },
      "source": [
        "b = a[:2, 1:3]\n",
        "print(b)"
      ],
      "execution_count": 22,
      "outputs": [
        {
          "output_type": "stream",
          "text": [
            "[[2 3]\n",
            " [6 7]]\n"
          ],
          "name": "stdout"
        }
      ]
    },
    {
      "cell_type": "code",
      "metadata": {
        "id": "pZQdkaCiQRQ7",
        "colab_type": "code",
        "outputId": "5f8cb117-b746-4f21-fe47-3f6b645d8589",
        "colab": {
          "base_uri": "https://localhost:8080/",
          "height": 52
        }
      },
      "source": [
        "# A slice of an array is a view into the same data, so modifying it will modify the original array.\n",
        "print(a[0, 1])\n",
        "b[0, 0] = 77                 # b[0, 0] is the same piece of data as a[0, 1]\n",
        "print(a[0, 1])"
      ],
      "execution_count": 0,
      "outputs": [
        {
          "output_type": "stream",
          "text": [
            "2\n",
            "77\n"
          ],
          "name": "stdout"
        }
      ]
    },
    {
      "cell_type": "code",
      "metadata": {
        "id": "FM7CVbJjQU84",
        "colab_type": "code",
        "outputId": "dd85ca1a-3635-4c4b-d02d-49f1e6b357a1",
        "colab": {
          "base_uri": "https://localhost:8080/",
          "height": 52
        }
      },
      "source": [
        "\n",
        "row_r1 = a[1, :]             # Rank 1 view of the second row of a\n",
        "row_r2 = a[1:2, :]           # Rank 2 view of the second row of a\n",
        "print(row_r1, row_r1.shape)\n",
        "print(row_r2, row_r2.shape)"
      ],
      "execution_count": 0,
      "outputs": [
        {
          "output_type": "stream",
          "text": [
            "[5 6 7 8] (4,)\n",
            "[[5 6 7 8]] (1, 4)\n"
          ],
          "name": "stdout"
        }
      ]
    },
    {
      "cell_type": "code",
      "metadata": {
        "id": "86SHMjnTQh2R",
        "colab_type": "code",
        "outputId": "d8037921-e6e0-44c3-bc74-499956831674",
        "colab": {
          "base_uri": "https://localhost:8080/",
          "height": 86
        }
      },
      "source": [
        "col_r1 = a[:, 1]\n",
        "print(col_r1, col_r1.shape)\n",
        "col_r2 = a[:, 1:2]\n",
        "print(col_r2, col_r2.shape)"
      ],
      "execution_count": 0,
      "outputs": [
        {
          "output_type": "stream",
          "text": [
            "[77  6 10] (3,)\n",
            "[[77]\n",
            " [ 6]\n",
            " [10]] (3, 1)\n"
          ],
          "name": "stdout"
        }
      ]
    },
    {
      "cell_type": "markdown",
      "metadata": {
        "id": "4SG7oafMQsZv",
        "colab_type": "text"
      },
      "source": [
        "## array broadcasting"
      ]
    },
    {
      "cell_type": "code",
      "metadata": {
        "id": "OamxEcBuQnW5",
        "colab_type": "code",
        "outputId": "0504b294-b402-4378-db5e-65c47ce645ba",
        "colab": {
          "base_uri": "https://localhost:8080/",
          "height": 86
        }
      },
      "source": [
        "# We will add the vector v to each row of the matrix x,\n",
        "# storing the result in the matrix y\n",
        "x = np.array([[1,2,3], [4,5,6], [7,8,9], [10, 11, 12]])\n",
        "v = np.array([1, 0, 1])\n",
        "y = x + v  # Add v to each row of x using broadcasting\n",
        "print(y)  "
      ],
      "execution_count": 0,
      "outputs": [
        {
          "output_type": "stream",
          "text": [
            "[[ 2  2  4]\n",
            " [ 5  5  7]\n",
            " [ 8  8 10]\n",
            " [11 11 13]]\n"
          ],
          "name": "stdout"
        }
      ]
    },
    {
      "cell_type": "markdown",
      "metadata": {
        "id": "4CYmQkRZ2YMv",
        "colab_type": "text"
      },
      "source": [
        "## dot product and matrix multiplication\n",
        "\n"
      ]
    },
    {
      "cell_type": "code",
      "metadata": {
        "id": "tIRizAHE3rw0",
        "colab_type": "code",
        "outputId": "3df16d2a-9410-4721-cd33-e2b2af7123a3",
        "colab": {
          "base_uri": "https://localhost:8080/",
          "height": 52
        }
      },
      "source": [
        "a = np.array([1, 0, 2, 1])\n",
        "b = np.array([4, 1, 3, 2])\n",
        "print(\"a = \", a)\n",
        "print(\"b = \", b)             "
      ],
      "execution_count": 0,
      "outputs": [
        {
          "output_type": "stream",
          "text": [
            "a =  [1 0 2 1]\n",
            "b =  [4 1 3 2]\n"
          ],
          "name": "stdout"
        }
      ]
    },
    {
      "cell_type": "code",
      "metadata": {
        "id": "QL882Rd534Zl",
        "colab_type": "code",
        "outputId": "1cf973e0-b41f-4594-8b4f-b7ac4e303549",
        "colab": {
          "base_uri": "https://localhost:8080/",
          "height": 35
        }
      },
      "source": [
        "print(\"np.dot(a, b) = \", np.dot(a, b))"
      ],
      "execution_count": 0,
      "outputs": [
        {
          "output_type": "stream",
          "text": [
            "np.dot(a, b) =  12\n"
          ],
          "name": "stdout"
        }
      ]
    },
    {
      "cell_type": "code",
      "metadata": {
        "id": "SpTawezo2XkX",
        "colab_type": "code",
        "outputId": "d6f9958b-f1d2-4453-e8a7-032dbf5aae7c",
        "colab": {
          "base_uri": "https://localhost:8080/",
          "height": 104
        }
      },
      "source": [
        "a = np.array([[1, 0, 2],\n",
        "              [0, 1, 4]])\n",
        "b = np.array([[4, 1],\n",
        "              [2, 2],\n",
        "              [3, 5]])\n",
        "print(\"a = \", a)\n",
        "print(\"b = \", b)             "
      ],
      "execution_count": 0,
      "outputs": [
        {
          "output_type": "stream",
          "text": [
            "a =  [[1 0 2]\n",
            " [0 1 4]]\n",
            "b =  [[4 1]\n",
            " [2 2]\n",
            " [3 5]]\n"
          ],
          "name": "stdout"
        }
      ]
    },
    {
      "cell_type": "code",
      "metadata": {
        "id": "hsjHj1N62qRm",
        "colab_type": "code",
        "outputId": "2d65b69a-a7de-4165-cce2-b79609307b0e",
        "colab": {
          "base_uri": "https://localhost:8080/",
          "height": 138
        }
      },
      "source": [
        "print(\"np.matmul(a, b) = \")\n",
        "print(np.matmul(a, b))\n",
        "print(\"np.matmul(b, a) = \")\n",
        "print(np.matmul(b, a))"
      ],
      "execution_count": 0,
      "outputs": [
        {
          "output_type": "stream",
          "text": [
            "np.matmul(a, b) = \n",
            "[[10 11]\n",
            " [14 22]]\n",
            "np.matmul(b, a) = \n",
            "[[ 4  1 12]\n",
            " [ 2  2 12]\n",
            " [ 3  5 26]]\n"
          ],
          "name": "stdout"
        }
      ]
    },
    {
      "cell_type": "markdown",
      "metadata": {
        "id": "H9DLetbzy8T9",
        "colab_type": "text"
      },
      "source": [
        "## reshape(), expand_dims(), squeeze()"
      ]
    },
    {
      "cell_type": "code",
      "metadata": {
        "id": "OJwWTpuJWQ6A",
        "colab_type": "code",
        "outputId": "590a44a1-9f10-4f32-f263-2e61af361c7c",
        "colab": {
          "base_uri": "https://localhost:8080/",
          "height": 52
        }
      },
      "source": [
        "a = np.arange(0, 20)\n",
        "print(\"a.shape = \", a.shape)\n",
        "print(a)"
      ],
      "execution_count": 0,
      "outputs": [
        {
          "output_type": "stream",
          "text": [
            "a.shape =  (20,)\n",
            "[ 0  1  2  3  4  5  6  7  8  9 10 11 12 13 14 15 16 17 18 19]\n"
          ],
          "name": "stdout"
        }
      ]
    },
    {
      "cell_type": "code",
      "metadata": {
        "id": "OsY_PUKyz0U0",
        "colab_type": "code",
        "outputId": "19231b31-834c-4bdf-bc92-ffcc642db20e",
        "colab": {
          "base_uri": "https://localhost:8080/",
          "height": 104
        }
      },
      "source": [
        "# reshape array\n",
        "b = np.reshape(a, (4, 5))\n",
        "print(\"b.shape = \", b.shape)\n",
        "print(b)"
      ],
      "execution_count": 0,
      "outputs": [
        {
          "output_type": "stream",
          "text": [
            "b.shape =  (4, 5)\n",
            "[[ 0  1  2  3  4]\n",
            " [ 5  6  7  8  9]\n",
            " [10 11 12 13 14]\n",
            " [15 16 17 18 19]]\n"
          ],
          "name": "stdout"
        }
      ]
    },
    {
      "cell_type": "code",
      "metadata": {
        "id": "nvLLsOtUz2BT",
        "colab_type": "code",
        "outputId": "f6983625-762c-41bc-c923-c5e4a3bd0208",
        "colab": {
          "base_uri": "https://localhost:8080/",
          "height": 415
        }
      },
      "source": [
        "# expand_dims (axis specifies the new axis)\n",
        "c = np.expand_dims(a, axis = 0)   # the new dimension becomes axis 0\n",
        "print(\"c.shape = \", c.shape)\n",
        "print(c)\n",
        "\n",
        "d = np.expand_dims(a, axis = 1)   # the new dimension becomes axis 1\n",
        "print(\"d.shape = \", d.shape)\n",
        "print(d)"
      ],
      "execution_count": 0,
      "outputs": [
        {
          "output_type": "stream",
          "text": [
            "c.shape =  (1, 20)\n",
            "[[ 0  1  2  3  4  5  6  7  8  9 10 11 12 13 14 15 16 17 18 19]]\n",
            "d.shape =  (20, 1)\n",
            "[[ 0]\n",
            " [ 1]\n",
            " [ 2]\n",
            " [ 3]\n",
            " [ 4]\n",
            " [ 5]\n",
            " [ 6]\n",
            " [ 7]\n",
            " [ 8]\n",
            " [ 9]\n",
            " [10]\n",
            " [11]\n",
            " [12]\n",
            " [13]\n",
            " [14]\n",
            " [15]\n",
            " [16]\n",
            " [17]\n",
            " [18]\n",
            " [19]]\n"
          ],
          "name": "stdout"
        }
      ]
    },
    {
      "cell_type": "code",
      "metadata": {
        "id": "BvORikk70a1Z",
        "colab_type": "code",
        "outputId": "6e261dc5-ab51-4840-c8e9-733cd8dc9f5c",
        "colab": {
          "base_uri": "https://localhost:8080/",
          "height": 121
        }
      },
      "source": [
        "# squeeze() removes single dimensional entries\n",
        "\n",
        "print(\"c.shape = \", c.shape)\n",
        "f = np.squeeze(c)\n",
        "print(\"f.shape = \", f.shape)\n",
        "print(f)\n",
        "\n",
        "print(\"d.shape = \", d.shape)\n",
        "g = np.squeeze(d)\n",
        "print(\"g.shape = \", g.shape)\n",
        "print(g)"
      ],
      "execution_count": 0,
      "outputs": [
        {
          "output_type": "stream",
          "text": [
            "c.shape =  (1, 20)\n",
            "f.shape =  (20,)\n",
            "[ 0  1  2  3  4  5  6  7  8  9 10 11 12 13 14 15 16 17 18 19]\n",
            "d.shape =  (20, 1)\n",
            "g.shape =  (20,)\n",
            "[ 0  1  2  3  4  5  6  7  8  9 10 11 12 13 14 15 16 17 18 19]\n"
          ],
          "name": "stdout"
        }
      ]
    },
    {
      "cell_type": "markdown",
      "metadata": {
        "id": "MeDITU1hRFrL",
        "colab_type": "text"
      },
      "source": [
        "# matplotlib\n",
        "\n",
        "for detail, see https://matplotlib.org/api/_as_gen/matplotlib.pyplot.plot.html"
      ]
    },
    {
      "cell_type": "code",
      "metadata": {
        "id": "5PEVBpCVQy_Z",
        "colab_type": "code",
        "colab": {}
      },
      "source": [
        "import numpy as np\n",
        "import matplotlib.pyplot as plt"
      ],
      "execution_count": 0,
      "outputs": []
    },
    {
      "cell_type": "code",
      "metadata": {
        "id": "t6DT_s4oRKdm",
        "colab_type": "code",
        "colab": {
          "base_uri": "https://localhost:8080/",
          "height": 701
        },
        "outputId": "70f89ae9-e943-49ce-b2ef-26be1942aad8"
      },
      "source": [
        "# Compute the x and y coordinates for points on sine and cosine curves\n",
        "x = np.arange(0, 3 * np.pi, 0.1)\n",
        "print(\"x = \", x)\n",
        "y_sin = np.sin(x)\n",
        "print(\"y_sin = \", y_sin)\n",
        "y_cos = np.cos(x)\n",
        "print(\"y_cos = \", y_cos)"
      ],
      "execution_count": 27,
      "outputs": [
        {
          "output_type": "stream",
          "text": [
            "x =  [0.  0.1 0.2 0.3 0.4 0.5 0.6 0.7 0.8 0.9 1.  1.1 1.2 1.3 1.4 1.5 1.6 1.7\n",
            " 1.8 1.9 2.  2.1 2.2 2.3 2.4 2.5 2.6 2.7 2.8 2.9 3.  3.1 3.2 3.3 3.4 3.5\n",
            " 3.6 3.7 3.8 3.9 4.  4.1 4.2 4.3 4.4 4.5 4.6 4.7 4.8 4.9 5.  5.1 5.2 5.3\n",
            " 5.4 5.5 5.6 5.7 5.8 5.9 6.  6.1 6.2 6.3 6.4 6.5 6.6 6.7 6.8 6.9 7.  7.1\n",
            " 7.2 7.3 7.4 7.5 7.6 7.7 7.8 7.9 8.  8.1 8.2 8.3 8.4 8.5 8.6 8.7 8.8 8.9\n",
            " 9.  9.1 9.2 9.3 9.4]\n",
            "y_sin =  [ 0.          0.09983342  0.19866933  0.29552021  0.38941834  0.47942554\n",
            "  0.56464247  0.64421769  0.71735609  0.78332691  0.84147098  0.89120736\n",
            "  0.93203909  0.96355819  0.98544973  0.99749499  0.9995736   0.99166481\n",
            "  0.97384763  0.94630009  0.90929743  0.86320937  0.8084964   0.74570521\n",
            "  0.67546318  0.59847214  0.51550137  0.42737988  0.33498815  0.23924933\n",
            "  0.14112001  0.04158066 -0.05837414 -0.15774569 -0.2555411  -0.35078323\n",
            " -0.44252044 -0.52983614 -0.61185789 -0.68776616 -0.7568025  -0.81827711\n",
            " -0.87157577 -0.91616594 -0.95160207 -0.97753012 -0.993691   -0.99992326\n",
            " -0.99616461 -0.98245261 -0.95892427 -0.92581468 -0.88345466 -0.83226744\n",
            " -0.77276449 -0.70554033 -0.63126664 -0.55068554 -0.46460218 -0.37387666\n",
            " -0.2794155  -0.1821625  -0.0830894   0.0168139   0.1165492   0.21511999\n",
            "  0.31154136  0.40484992  0.49411335  0.57843976  0.6569866   0.72896904\n",
            "  0.79366786  0.85043662  0.8987081   0.93799998  0.96791967  0.98816823\n",
            "  0.99854335  0.99894134  0.98935825  0.96988981  0.94073056  0.90217183\n",
            "  0.85459891  0.79848711  0.7343971   0.66296923  0.58491719  0.50102086\n",
            "  0.41211849  0.31909836  0.22288991  0.12445442  0.02477543]\n",
            "y_cos =  [ 1.          0.99500417  0.98006658  0.95533649  0.92106099  0.87758256\n",
            "  0.82533561  0.76484219  0.69670671  0.62160997  0.54030231  0.45359612\n",
            "  0.36235775  0.26749883  0.16996714  0.0707372  -0.02919952 -0.12884449\n",
            " -0.22720209 -0.32328957 -0.41614684 -0.5048461  -0.58850112 -0.66627602\n",
            " -0.73739372 -0.80114362 -0.85688875 -0.90407214 -0.94222234 -0.97095817\n",
            " -0.9899925  -0.99913515 -0.99829478 -0.98747977 -0.96679819 -0.93645669\n",
            " -0.89675842 -0.84810003 -0.79096771 -0.7259323  -0.65364362 -0.57482395\n",
            " -0.49026082 -0.40079917 -0.30733287 -0.2107958  -0.11215253 -0.01238866\n",
            "  0.08749898  0.18651237  0.28366219  0.37797774  0.46851667  0.55437434\n",
            "  0.63469288  0.70866977  0.77556588  0.83471278  0.88551952  0.92747843\n",
            "  0.96017029  0.98326844  0.9965421   0.99985864  0.99318492  0.97658763\n",
            "  0.95023259  0.91438315  0.86939749  0.8157251   0.75390225  0.68454667\n",
            "  0.60835131  0.52607752  0.43854733  0.34663532  0.25125984  0.15337386\n",
            "  0.05395542 -0.04600213 -0.14550003 -0.24354415 -0.33915486 -0.43137684\n",
            " -0.51928865 -0.6020119  -0.67872005 -0.74864665 -0.81109301 -0.86543521\n",
            " -0.91113026 -0.9477216  -0.97484362 -0.99222533 -0.99969304]\n"
          ],
          "name": "stdout"
        }
      ]
    },
    {
      "cell_type": "code",
      "metadata": {
        "id": "7jYe5yOiROc4",
        "colab_type": "code",
        "outputId": "0617bbee-6ef4-42cb-dfab-25734d1566f8",
        "colab": {
          "base_uri": "https://localhost:8080/",
          "height": 295
        }
      },
      "source": [
        "# Plot the points using matplotlib\n",
        "plt.plot(x, y_sin)\n",
        "plt.plot(x, y_cos)\n",
        "plt.xlabel('x axis label')\n",
        "plt.ylabel('y axis label')\n",
        "plt.title('Sine and Cosine')\n",
        "plt.legend(['Sine', 'Cosine'])\n",
        "plt.show()"
      ],
      "execution_count": 30,
      "outputs": [
        {
          "output_type": "display_data",
          "data": {
            "image/png": "[encoded data removed]",
            "text/plain": [
              "<Figure size 432x288 with 1 Axes>"
            ]
          },
          "metadata": {
            "tags": []
          }
        }
      ]
    },
    {
      "cell_type": "code",
      "metadata": {
        "id": "LBhAhWSaRTYQ",
        "colab_type": "code",
        "outputId": "0e78f092-97d4-45c3-ff80-e6a805db76b2",
        "colab": {
          "base_uri": "https://localhost:8080/",
          "height": 281
        }
      },
      "source": [
        "# Set up a subplot grid that has height 2 and width 1,\n",
        "# and set the first such subplot as active.\n",
        "plt.subplot(2, 1, 1)\n",
        "plt.plot(x, y_sin)\n",
        "plt.title('Sine')\n",
        "\n",
        "# Set the second subplot as active, and make the second plot.\n",
        "plt.subplot(2, 1, 2)\n",
        "plt.plot(x, y_cos)\n",
        "plt.title('Cosine')\n",
        "\n",
        "# Show the figure.\n",
        "plt.show()"
      ],
      "execution_count": 0,
      "outputs": [
        {
          "output_type": "display_data",
          "data": {
            "image/png": "[encoded data removed]",
            "text/plain": [
              "<Figure size 432x288 with 2 Axes>"
            ]
          },
          "metadata": {
            "tags": []
          }
        }
      ]
    },
    {
      "cell_type": "code",
      "metadata": {
        "id": "vCc_SO4dRi8U",
        "colab_type": "code",
        "colab": {}
      },
      "source": [
        ""
      ],
      "execution_count": 0,
      "outputs": []
    }
  ]
}