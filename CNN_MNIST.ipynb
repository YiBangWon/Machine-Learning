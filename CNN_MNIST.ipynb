{
  "nbformat": 4,
  "nbformat_minor": 0,
  "metadata": {
    "colab": {
      "name": "CNN_MNIST.ipynb",
      "version": "0.3.2",
      "provenance": [],
      "collapsed_sections": [],
      "include_colab_link": true
    },
    "kernelspec": {
      "name": "python3",
      "display_name": "Python 3"
    },
    "accelerator": "GPU"
  },
  "cells": [
    {
      "cell_type": "markdown",
      "metadata": {
        "id": "view-in-github",
        "colab_type": "text"
      },
      "source": [
        "<a href=\"https://colab.research.google.com/github/callee2006/MachineLearning/blob/master/CNN_MNIST.ipynb\" target=\"_parent\"><img src=\"https://colab.research.google.com/assets/colab-badge.svg\" alt=\"Open In Colab\"/></a>"
      ]
    },
    {
      "metadata": {
        "id": "W7zsPERtr0LC",
        "colab_type": "text"
      },
      "cell_type": "markdown",
      "source": [
        "# Convolutional Neural Nets (CNN)"
      ]
    },
    {
      "metadata": {
        "id": "9iL5KH63r0LE",
        "colab_type": "code",
        "colab": {}
      },
      "cell_type": "code",
      "source": [
        "# If necessary, uncommand and run the following line to install pytorch\n",
        "#!pip install torch torchvision"
      ],
      "execution_count": 0,
      "outputs": []
    },
    {
      "metadata": {
        "id": "dEBe8KzEr0LJ",
        "colab_type": "text"
      },
      "cell_type": "markdown",
      "source": [
        "과거에는 Google Colab를 pytorch를 기본제공하지 않았으므로 Google Colab에서 pytorch를 사용하려면 먼저 pytorch를 설치해야 함.\n",
        "\n",
        "현재는 불필요함."
      ]
    },
    {
      "metadata": {
        "id": "YbUmP-VGVvcP",
        "colab_type": "code",
        "colab": {}
      },
      "cell_type": "code",
      "source": [
        "import numpy as np\n",
        "import datetime"
      ],
      "execution_count": 0,
      "outputs": []
    },
    {
      "metadata": {
        "id": "QoPiqjikr0LT",
        "colab_type": "text"
      },
      "cell_type": "markdown",
      "source": [
        "**numpy**는 다차원 배열 및 벡터/ 행렬 기본 연산\n",
        "python으로 data science를 할 때 가장 기본이 되는 라이브러리 중 하나.\n",
        "\n",
        "**datetime** 학습/실행 시간 측정을 위한 package"
      ]
    },
    {
      "metadata": {
        "id": "kjpK8daar0LK",
        "colab_type": "code",
        "outputId": "75c43b76-4d24-4ade-d0a6-2e0f5555410b",
        "colab": {
          "base_uri": "https://localhost:8080/",
          "height": 35
        }
      },
      "cell_type": "code",
      "source": [
        "import torch\n",
        "import torchvision            \n",
        "import torch.nn as nn\n",
        "\n",
        "print(torch.__version__)"
      ],
      "execution_count": 4,
      "outputs": [
        {
          "output_type": "stream",
          "text": [
            "1.0.1.post2\n"
          ],
          "name": "stdout"
        }
      ]
    },
    {
      "metadata": {
        "id": "LhNkRvYkr0LN",
        "colab_type": "text"
      },
      "cell_type": "markdown",
      "source": [
        "**torch**: pytorch package\n",
        "\n",
        "**torch.nn**: 신경망 모델에 Class들을 포함\n",
        "\n",
        "**torchvision**은 computer vision에 많이 사용되는 dataset, model, transform을 포함 (https://pytorch.org/docs/stable/torchvision/index.html)"
      ]
    },
    {
      "metadata": {
        "id": "ntWD5II587og",
        "colab_type": "code",
        "colab": {}
      },
      "cell_type": "code",
      "source": [
        "from torch.utils.data import DataLoader"
      ],
      "execution_count": 0,
      "outputs": []
    },
    {
      "metadata": {
        "id": "YgsGVrkrAEPD",
        "colab_type": "text"
      },
      "cell_type": "markdown",
      "source": [
        "Data Loader: 데이터 로드를 위한 패키지 (Dataset + Sampler + Iterator)\n",
        "> * Dataset is an abstract class representing a dataset \n",
        "> * Sampler provides a way to iterate over indices of dataset elements\n",
        "\n",
        "\n",
        "See https://pytorch.org/docs/stable/data.html"
      ]
    },
    {
      "metadata": {
        "id": "_tUvuvvPr0LO",
        "colab_type": "code",
        "colab": {}
      },
      "cell_type": "code",
      "source": [
        "from torchvision import datasets\n",
        "from torchvision import transforms"
      ],
      "execution_count": 0,
      "outputs": []
    },
    {
      "metadata": {
        "id": "Odn-STAQAmKq",
        "colab_type": "text"
      },
      "cell_type": "markdown",
      "source": [
        "**dataset**: MNIST, fashion MNIST, COCO, LSUN, CIFAR, etc.\n",
        "\n",
        "**transforms**: algorithms for preprocessing or data augmentation\n",
        "\n",
        "See https://pytorch.org/docs/stable/torchvision/index.html to know datasets and transforms in torchvision"
      ]
    },
    {
      "metadata": {
        "id": "mtKXCay2kN5Z",
        "colab_type": "text"
      },
      "cell_type": "markdown",
      "source": [
        "# Using (deep) neural networks with python\n",
        "\n",
        "\n",
        "1. Define a network model\n",
        "\n",
        "2. Prepare data\n",
        "\n",
        "3. Train the model\n",
        "\n",
        "4. Evalute the model"
      ]
    },
    {
      "metadata": {
        "id": "eCc7O8M5r0LT",
        "colab_type": "code",
        "colab": {}
      },
      "cell_type": "code",
      "source": [
        "#import matplotlib\n",
        "\n",
        "%matplotlib inline\n",
        "from matplotlib.pyplot import imshow, imsave"
      ],
      "execution_count": 0,
      "outputs": []
    },
    {
      "metadata": {
        "id": "qgaevoCUr0LW",
        "colab_type": "text"
      },
      "cell_type": "markdown",
      "source": [
        "**matplotlib**: python visualization library"
      ]
    },
    {
      "metadata": {
        "id": "hYk9uq_Br0LW",
        "colab_type": "code",
        "outputId": "c4a75a2f-b82b-4ad4-bc0a-99fa2a486b37",
        "colab": {
          "base_uri": "https://localhost:8080/",
          "height": 35
        }
      },
      "cell_type": "code",
      "source": [
        "MODEL_NAME = 'DNN'\n",
        "DEVICE = torch.device(\"cuda\" if torch.cuda.is_available() else \"cpu\")\n",
        "print(\"MODEL_NAME = {}, DEVICE = {}\".format(MODEL_NAME, DEVICE))"
      ],
      "execution_count": 8,
      "outputs": [
        {
          "output_type": "stream",
          "text": [
            "MODEL_NAME = DNN, DEVICE = cuda\n"
          ],
          "name": "stdout"
        }
      ]
    },
    {
      "metadata": {
        "id": "AhUqWS9-r0La",
        "colab_type": "text"
      },
      "cell_type": "markdown",
      "source": [
        "GPU가 있다면 GPU를 통해 학습을 가속화하고, 없으면 CPU로 학습하기 위해 device를 정해준다.\n",
        "\n",
        "**torch.cuda.is_avaliable()**은 GPU가 사용가능한지를 판단하는 함수"
      ]
    },
    {
      "metadata": {
        "id": "8ljFCGEIXfCy",
        "colab_type": "text"
      },
      "cell_type": "markdown",
      "source": [
        "## Defining a Neural Network model using pytorch\n",
        "\n",
        "1. Define a neural net model\n",
        "\n",
        "> * Define a model class inheriting **nn.module**\n",
        "\n",
        ">> nn.module is the base class of all layers/operators\n",
        "\n",
        ">* Define **__init__** function (constructor)\n",
        "\n",
        ">>  Create layers and operators\n",
        "\n",
        ">* Define **forward** function (forward propagation)\n",
        "\n",
        ">> Define how to compute the output from the input\n",
        "\n",
        "> Example\n",
        "\n",
        "~~~~\n",
        "    class Model(nn.Module):\n",
        "        def __init__(self):\n",
        "            super(Model, self).__init__()\n",
        "            self.conv1 = nn.Conv2d(1, 20, 5)\n",
        "            self.conv2 = nn.Conv2d(20, 20, 5)           \n",
        "                   \n",
        "        def forward(self, x):\n",
        "            x = F.relu(self.conv1(x))\n",
        "            return F.relu(self.conv2(x))\n",
        "~~~~\n",
        "\n",
        "> Note! You don't need to backpropagation procedure, because pytorch provides **autograd**"
      ]
    },
    {
      "metadata": {
        "id": "sbpvoKXzr0Lb",
        "colab_type": "code",
        "colab": {}
      },
      "cell_type": "code",
      "source": [
        "class HelloCNN(nn.Module):\n",
        "    \"\"\"\n",
        "        Simple CNN Clssifier\n",
        "    \"\"\"\n",
        "    def __init__(self, num_classes=10):\n",
        "        super(HelloCNN, self).__init__()\n",
        "        \n",
        "        self.conv = nn.Sequential(\n",
        "            # (N, 1, 28, 28)\n",
        "            nn.Conv2d(1, 32, kernel_size=3, stride=1, padding=1),\n",
        "            nn.ReLU(),\n",
        "            nn.MaxPool2d(2, 2),\n",
        "            # (N, 32, 14, 14)\n",
        "            nn.Conv2d(32, 64, kernel_size=3, stride=1, padding=1),\n",
        "            nn.ReLU(),\n",
        "            nn.MaxPool2d(2, 2),\n",
        "            # (N, 64, 7, 7)\n",
        "        )\n",
        "        self.fc = nn.Sequential(\n",
        "            nn.Linear(7*7*64, 512),\n",
        "            nn.Dropout(p=0.5),\n",
        "            nn.Linear(512, num_classes),\n",
        "        )\n",
        "        \n",
        "    def forward(self, x):\n",
        "        y_ = self.conv(x) # (N, 64, 7, 7)\n",
        "        y_ = y_.view(y_.size(0), -1) # (N, 64*7*7)\n",
        "        y_ = self.fc(y_)\n",
        "        return y_"
      ],
      "execution_count": 0,
      "outputs": []
    },
    {
      "metadata": {
        "id": "BfM4wnwdr0Le",
        "colab_type": "text"
      },
      "cell_type": "markdown",
      "source": [
        "**nn.Sequential()**: a sequential container.\n",
        "\n",
        "* Example of using Sequential\n",
        "\n",
        "~~~~\n",
        "  model = nn.Sequential(\n",
        "    nn.Conv2d(1,20,5),\n",
        "    nn.ReLU(),\n",
        "    nn.Conv2d(20,64,5),\n",
        "    nn.ReLU()\n",
        "    )\n",
        "~~~~\n",
        "* Example of using Sequential with OrderedDict\n",
        "\n",
        "~~~~\n",
        "  model = nn.Sequential(OrderedDict([\n",
        "    ('conv1', nn.Conv2d(1,20,5)),\n",
        "    ('relu1', nn.ReLU()),\n",
        "    ('conv2', nn.Conv2d(20,64,5)),\n",
        "    ('relu2', nn.ReLU())\n",
        "    ]))\n",
        "~~~~\n",
        "\n",
        "**nn.ModuleList**: a list-like container class \n",
        "\n",
        "* Example of using ModuleList\n",
        "\n",
        "~~~~\n",
        "  class MyModule(nn.Module):\n",
        "      def __init__(self):\n",
        "          super(MyModule, self).__init__()\n",
        "          self.linears = nn.ModuleList([nn.Linear(10, 10) for i in range(10)])\n",
        "            \n",
        "      def forward(self, x):\n",
        "          # ModuleList can act as an iterable, or be indexed using ints\n",
        "          for i, l in enumerate(self.linears):\n",
        "               x = self.linears[i // 2](x) + l(x)\n",
        "          return x\n",
        "                 \n",
        "~~~~"
      ]
    },
    {
      "metadata": {
        "id": "fyP-DP1Sr0Lh",
        "colab_type": "code",
        "colab": {}
      },
      "cell_type": "code",
      "source": [
        "model = HelloCNN().to(DEVICE)"
      ],
      "execution_count": 0,
      "outputs": []
    },
    {
      "metadata": {
        "id": "cyyU-712c1Np",
        "colab_type": "text"
      },
      "cell_type": "markdown",
      "source": [
        "Moves and/or casts the parameters and buffers. (CPU or GPU)"
      ]
    },
    {
      "metadata": {
        "id": "Z9-QvNvbksQj",
        "colab_type": "text"
      },
      "cell_type": "markdown",
      "source": [
        "## Loading and preprocessing of data\n",
        "\n"
      ]
    },
    {
      "metadata": {
        "id": "Glhmh_OHlBMY",
        "colab_type": "text"
      },
      "cell_type": "markdown",
      "source": [
        "Transform of input data"
      ]
    },
    {
      "metadata": {
        "id": "oq2EYzdBr0Lk",
        "colab_type": "code",
        "colab": {}
      },
      "cell_type": "code",
      "source": [
        "transform = transforms.Compose(\n",
        "    [transforms.ToTensor(),                               # image to tensor\n",
        "     transforms.Normalize(mean=(0.1307,), std=(0.3081,))  # normalize to \"(x-mean)/std\"\n",
        "    ])"
      ],
      "execution_count": 0,
      "outputs": []
    },
    {
      "metadata": {
        "id": "Vbb9TUIOz3tb",
        "colab_type": "text"
      },
      "cell_type": "markdown",
      "source": [
        ""
      ]
    },
    {
      "metadata": {
        "id": "2hE6ydS3r0Lm",
        "colab_type": "text"
      },
      "cell_type": "markdown",
      "source": [
        "**transforms**: torchvision에서 제공하는 transform 함수들이 있는 패키지.\n",
        "\n",
        "**ToTensor**: numpy array를 torch tensor로 변환.\n",
        "\n",
        "**Normalize**: 정규화 함수 output[channel] = (input[channel] - mean[channel]) / std[channel]"
      ]
    },
    {
      "metadata": {
        "id": "buibF906r0Lm",
        "colab_type": "code",
        "outputId": "7179a4de-3cd8-4d6d-ff84-214d02ddc810",
        "colab": {
          "base_uri": "https://localhost:8080/",
          "height": 289
        }
      },
      "cell_type": "code",
      "source": [
        "mnist_train = datasets.MNIST(root='../data/', train=True, transform=transform, download=True)\n",
        "mnist_test = datasets.MNIST(root='../data/', train=False, transform=transform, download=True)"
      ],
      "execution_count": 12,
      "outputs": [
        {
          "output_type": "stream",
          "text": [
            "\r0it [00:00, ?it/s]"
          ],
          "name": "stderr"
        },
        {
          "output_type": "stream",
          "text": [
            "Downloading http://yann.lecun.com/exdb/mnist/train-images-idx3-ubyte.gz to ../data/MNIST/raw/train-images-idx3-ubyte.gz\n"
          ],
          "name": "stdout"
        },
        {
          "output_type": "stream",
          "text": [
            "9920512it [00:01, 9240944.23it/s]                            \n"
          ],
          "name": "stderr"
        },
        {
          "output_type": "stream",
          "text": [
            "Extracting ../data/MNIST/raw/train-images-idx3-ubyte.gz\n"
          ],
          "name": "stdout"
        },
        {
          "output_type": "stream",
          "text": [
            "  0%|          | 0/28881 [00:00<?, ?it/s]"
          ],
          "name": "stderr"
        },
        {
          "output_type": "stream",
          "text": [
            "Downloading http://yann.lecun.com/exdb/mnist/train-labels-idx1-ubyte.gz to ../data/MNIST/raw/train-labels-idx1-ubyte.gz\n"
          ],
          "name": "stdout"
        },
        {
          "output_type": "stream",
          "text": [
            "32768it [00:00, 136930.80it/s]           \n",
            "  0%|          | 0/1648877 [00:00<?, ?it/s]"
          ],
          "name": "stderr"
        },
        {
          "output_type": "stream",
          "text": [
            "Extracting ../data/MNIST/raw/train-labels-idx1-ubyte.gz\n",
            "Downloading http://yann.lecun.com/exdb/mnist/t10k-images-idx3-ubyte.gz to ../data/MNIST/raw/t10k-images-idx3-ubyte.gz\n"
          ],
          "name": "stdout"
        },
        {
          "output_type": "stream",
          "text": [
            "1654784it [00:00, 2248538.48it/s]                            \n",
            "0it [00:00, ?it/s]"
          ],
          "name": "stderr"
        },
        {
          "output_type": "stream",
          "text": [
            "Extracting ../data/MNIST/raw/t10k-images-idx3-ubyte.gz\n",
            "Downloading http://yann.lecun.com/exdb/mnist/t10k-labels-idx1-ubyte.gz to ../data/MNIST/raw/t10k-labels-idx1-ubyte.gz\n"
          ],
          "name": "stdout"
        },
        {
          "output_type": "stream",
          "text": [
            "8192it [00:00, 52056.11it/s]            \n"
          ],
          "name": "stderr"
        },
        {
          "output_type": "stream",
          "text": [
            "Extracting ../data/MNIST/raw/t10k-labels-idx1-ubyte.gz\n",
            "Processing...\n",
            "Done!\n"
          ],
          "name": "stdout"
        }
      ]
    },
    {
      "metadata": {
        "id": "lYL_NEavr0Lo",
        "colab_type": "text"
      },
      "cell_type": "markdown",
      "source": [
        "**datasets**에는 여러 데이터들에 대해 다운로드하고 처리하는 클래스가 내장되어 있음. [참고](https://pytorch.org/docs/stable/torchvision/datasets.html)\n",
        "\n",
        "root 폴더에 없을 시에 download하고, 앞서 정의한 transform에 따라 전처리 된 데이터를 return함."
      ]
    },
    {
      "metadata": {
        "id": "wGbeeCkCr0Lp",
        "colab_type": "code",
        "colab": {}
      },
      "cell_type": "code",
      "source": [
        "batch_size = 64"
      ],
      "execution_count": 0,
      "outputs": []
    },
    {
      "metadata": {
        "id": "6_n0AFCmr0Lr",
        "colab_type": "code",
        "colab": {}
      },
      "cell_type": "code",
      "source": [
        "train_loader = DataLoader(dataset=mnist_train, batch_size=batch_size, shuffle=True, drop_last=True)\n",
        "test_loader = DataLoader(dataset=mnist_test, batch_size=100, shuffle=False, drop_last=False)"
      ],
      "execution_count": 0,
      "outputs": []
    },
    {
      "metadata": {
        "id": "GR9GEof0r0Ls",
        "colab_type": "text"
      },
      "cell_type": "markdown",
      "source": [
        "**DataLoader**는 pytorch에서 학습 시에 데이터를 배치 사이즈만큼씩 효율적으로 불러오도록 돕는 클래스. 잘 사용할수록 GPU의 사용률이 올라간다.\n",
        "\n",
        "**shuffle**: every epochs 마다 데이터의 순서를 랜덤하게 섞는다.\n",
        "\n",
        "**drop_last**: 데이터의 개수가 배치 사이즈로 나눠떨어지지 않는 경우, 마지막 배치를 버린다. 주로 학습시에만 사용."
      ]
    },
    {
      "metadata": {
        "id": "YH-t5coUmuOM",
        "colab_type": "text"
      },
      "cell_type": "markdown",
      "source": [
        "## Training neural network model\n",
        "\n",
        "\n",
        "Training procedure\n",
        "~~~~\n",
        "for epoch in range(max_epoch):\n",
        "    for input, target in dataset:    # retrieve input data and target labels\n",
        "        optimizer.zero_grad()     # reset gradient\n",
        "        output = model(input)     # forward propagation\n",
        "        loss = loss_fn(output, target)  # get loss value\n",
        "        loss.backward()           # back-propagation (compute gradient)     optimizer.step()          # update parameters with gradient\n",
        "~~~~"
      ]
    },
    {
      "metadata": {
        "id": "eeNx2EZKFoBP",
        "colab_type": "code",
        "colab": {}
      },
      "cell_type": "code",
      "source": [
        "# utility function to measure time\n",
        "\n",
        "import time\n",
        "import math\n",
        "\n",
        "def timeSince(since):\n",
        "    now = time.time()\n",
        "    s = now - since\n",
        "    m = math.floor(s / 60)\n",
        "    s -= m * 60\n",
        "    return '%dm %ds' % (m, s)"
      ],
      "execution_count": 0,
      "outputs": []
    },
    {
      "metadata": {
        "id": "pEt4xYD4r0Lt",
        "colab_type": "code",
        "colab": {}
      },
      "cell_type": "code",
      "source": [
        "# set loss function and optimizer\n",
        "\n",
        "criterion = nn.CrossEntropyLoss()\n",
        "optim = torch.optim.Adam(model.parameters(), lr=0.001)"
      ],
      "execution_count": 0,
      "outputs": []
    },
    {
      "metadata": {
        "id": "waSS2hrKr0Lv",
        "colab_type": "text"
      },
      "cell_type": "markdown",
      "source": [
        "**nn.CrossEntropyLoss**: Cross entropy를 계산하는 Loss. softmax가 내부적으로 수행된다.\n",
        "\n",
        "**optim.Adam**: optim에는 여러 optimizer가 있고, Adam Optimizer는 대표적으로 많이 사용된다."
      ]
    },
    {
      "metadata": {
        "id": "K4lF0ODwr0Lz",
        "colab_type": "text"
      },
      "cell_type": "markdown",
      "source": [
        "### Training procedure\n",
        "\n",
        "첫번째 for문: 원하는 epoch만큼 반복\n",
        "\n",
        "두번째 for문: training datset에서 배치 사이즈 만큼씩 모두 샘플링 될 때까지 반복.\n",
        "\n",
        "**Line 2**: MNIST dataset은 DataLoader를 통해 image와 label을 return.\n",
        "\n",
        "**Line 4**: 각각 Device에 올린다 (GPU or CPU)\n",
        "\n",
        "**Line 5**: 모델에 이미지를 넣고 forward propagation 한다.\n",
        "\n",
        "**Line 7**: 결과값 y_hat과 실제 정답 y에 대한 loss를 계산한다.\n",
        "\n",
        "**zero_grad (Line 9)**: 모델의 gradient를 0으로 초기화한다.\n",
        "\n",
        "**backward (Line 10)**: loss를 계산하는 것까지 연결되어있는 graph를 따라 gradient를 계산한다.\n",
        "\n",
        "**step (Line 11)**: 계산된 gradient를 모두 parameter에 적용한다.\n",
        "\n",
        "**eval (Line 17)**: 모델을 evaluation mode로 바꿔준다 (dropout 조정, Batch normalization 조정 등)\n",
        "\n",
        "**torch.no_grad (Line 19)**: gradient를 계산하기 위해 추적하는 수고를 하지 않음\n",
        "\n",
        "**torch.max (Line 24)**: max value와 indices(즉, argmax)를 return.\n",
        "\n",
        "**train (Line 29)**: evaluation mode였던 모델을 train mode로 전환"
      ]
    },
    {
      "metadata": {
        "id": "zKCZDgDTNuY5",
        "colab_type": "code",
        "colab": {}
      },
      "cell_type": "code",
      "source": [
        "# reset loss history\n",
        "all_losses = []"
      ],
      "execution_count": 0,
      "outputs": []
    },
    {
      "metadata": {
        "scrolled": true,
        "id": "-KAxJESir0L0",
        "colab_type": "code",
        "outputId": "1c5bc7f7-5882-458f-f6ce-421638a6418a",
        "colab": {
          "base_uri": "https://localhost:8080/",
          "height": 467
        }
      },
      "cell_type": "code",
      "source": [
        "max_epoch = 5        # maximum number of epochs\n",
        "step = 0             # initialize step counter variable\n",
        "\n",
        "plot_every = 200\n",
        "total_loss = 0 # Reset every plot_every iters\n",
        "\n",
        "start = time.time()\n",
        "\n",
        "for epoch in range(max_epoch):\n",
        "    for idx, (images, labels) in enumerate(train_loader):\n",
        "        # Training Discriminator\n",
        "        x, y = images.to(DEVICE), labels.to(DEVICE) # (N, 1, 28, 28), (N, )\n",
        "        \n",
        "        y_hat = model(x) # (N, 10)  # forward propagation\n",
        "       \n",
        "        loss = criterion(y_hat, y)  # computing loss\n",
        "        total_loss += loss.item()\n",
        "          \n",
        "        optim.zero_grad()           # reset gradient\n",
        "        loss.backward()             # back-propagation (compute gradient)\n",
        "        optim.step()                # update parameters with gradient\n",
        "        \n",
        "        # periodically print loss\n",
        "        if step % 500 == 0:\n",
        "            print('Epoch({}): {}/{}, Step: {}, Loss: {}'.format(timeSince(start), epoch, max_epoch, step, loss.item()))\n",
        "        \n",
        "        if (step + 1) % plot_every == 0:\n",
        "            all_losses.append(total_loss / plot_every)\n",
        "            total_loss = 0\n",
        "        \n",
        "        # periodically evalute model on test data\n",
        "        if step % 1000 == 0:\n",
        "            model.eval()\n",
        "            acc = 0.\n",
        "            with torch.no_grad():   # disable autograd\n",
        "                for idx, (images, labels) in enumerate(test_loader):\n",
        "                    x, y = images.to(DEVICE), labels.to(DEVICE) # (N, 1, 28, 28), (N, )\n",
        "                    y_hat = model(x) # (N, 10)\n",
        "                    loss = criterion(y_hat, y)\n",
        "                    _, indices = torch.max(y_hat, dim=-1)     # find maxmum along the last axis (argmax of each row)\n",
        "                                                              # ex) max_value, max_idx = torch.max(input, dim)\n",
        "                    acc += torch.sum(indices == y).item()     # count correctly classified samples\n",
        "                                                              # torch.sum() returns Tensor. Tensor.item() converts it to a value\n",
        "            print('*'*20, 'Test', '*'*20)\n",
        "            print('Step: {}, Loss: {}, Accuracy: {} %'.format(step, loss.item(), acc/len(mnist_test)*100))\n",
        "            print('*'*46)\n",
        "            model.train()           # turn to train mode (enable autograd)\n",
        "        step += 1"
      ],
      "execution_count": 18,
      "outputs": [
        {
          "output_type": "stream",
          "text": [
            "Epoch(0m 0s): 0/5, Step: 0, Loss: 2.2575552463531494\n",
            "******************** Test ********************\n",
            "Step: 0, Loss: 2.9159839153289795, Accuracy: 9.58 %\n",
            "**********************************************\n",
            "Epoch(0m 7s): 0/5, Step: 500, Loss: 0.0489889457821846\n",
            "Epoch(0m 12s): 1/5, Step: 1000, Loss: 0.0709199458360672\n",
            "******************** Test ********************\n",
            "Step: 1000, Loss: 0.011706847697496414, Accuracy: 98.59 %\n",
            "**********************************************\n",
            "Epoch(0m 19s): 1/5, Step: 1500, Loss: 0.08090385049581528\n",
            "Epoch(0m 25s): 2/5, Step: 2000, Loss: 0.006270997226238251\n",
            "******************** Test ********************\n",
            "Step: 2000, Loss: 0.019123367965221405, Accuracy: 98.81 %\n",
            "**********************************************\n",
            "Epoch(0m 31s): 2/5, Step: 2500, Loss: 0.013506345450878143\n",
            "Epoch(0m 36s): 3/5, Step: 3000, Loss: 0.010808899998664856\n",
            "******************** Test ********************\n",
            "Step: 3000, Loss: 0.016738882288336754, Accuracy: 98.97 %\n",
            "**********************************************\n",
            "Epoch(0m 42s): 3/5, Step: 3500, Loss: 0.26307404041290283\n",
            "Epoch(0m 48s): 4/5, Step: 4000, Loss: 0.1541719138622284\n",
            "******************** Test ********************\n",
            "Step: 4000, Loss: 0.0011183833703398705, Accuracy: 99.11 %\n",
            "**********************************************\n",
            "Epoch(0m 55s): 4/5, Step: 4500, Loss: 0.003879919648170471\n"
          ],
          "name": "stdout"
        }
      ]
    },
    {
      "metadata": {
        "id": "HGfPwCZoN6LV",
        "colab_type": "code",
        "outputId": "ce67884e-cb84-4a1a-bb1f-82b0afff7996",
        "colab": {
          "base_uri": "https://localhost:8080/",
          "height": 287
        }
      },
      "cell_type": "code",
      "source": [
        "import matplotlib.pyplot as plt\n",
        "import matplotlib.ticker as ticker\n",
        "\n",
        "plt.figure()\n",
        "plt.plot(all_losses)"
      ],
      "execution_count": 19,
      "outputs": [
        {
          "output_type": "execute_result",
          "data": {
            "text/plain": [
              "[<matplotlib.lines.Line2D at 0x7f2426fd2b38>]"
            ]
          },
          "metadata": {
            "tags": []
          },
          "execution_count": 19
        },
        {
          "output_type": "display_data",
          "data": {
            "image/png": "[encoded data removed]",
            "text/plain": [
              "<Figure size 432x288 with 1 Axes>"
            ]
          },
          "metadata": {
            "tags": []
          }
        }
      ]
    },
    {
      "metadata": {
        "id": "ta_UwyT1r0L6",
        "colab_type": "text"
      },
      "cell_type": "markdown",
      "source": [
        "## Test and Visualize"
      ]
    },
    {
      "metadata": {
        "id": "6AwZsqeJr0L6",
        "colab_type": "code",
        "outputId": "ad8f32f8-5934-4d01-fe13-4292c4c89137",
        "colab": {
          "base_uri": "https://localhost:8080/",
          "height": 71
        }
      },
      "cell_type": "code",
      "source": [
        "# Test\n",
        "model.eval()\n",
        "acc = 0.\n",
        "with torch.no_grad():\n",
        "    for idx, (images, labels) in enumerate(test_loader):\n",
        "        x, y = images.to(DEVICE), labels.to(DEVICE) # (N, 1, 28, 28), (N, )\n",
        "        y_hat = model(x) # (N, 10)\n",
        "        loss = criterion(y_hat, y)\n",
        "        _, indices = torch.max(y_hat, dim=-1)\n",
        "        acc += torch.sum(indices == y).item()\n",
        "print('*'*20, 'Test', '*'*20)\n",
        "print('Step: {}, Loss: {}, Accuracy: {} %'.format(step, loss.item(), acc/len(mnist_test)*100))\n",
        "print('*'*46)"
      ],
      "execution_count": 20,
      "outputs": [
        {
          "output_type": "stream",
          "text": [
            "******************** Test ********************\n",
            "Step: 4685, Loss: 0.0009241390507668257, Accuracy: 99.02 %\n",
            "**********************************************\n"
          ],
          "name": "stdout"
        }
      ]
    },
    {
      "metadata": {
        "id": "nFoQkM7Mr0L8",
        "colab_type": "code",
        "outputId": "3641821b-6e4e-42a2-866e-b99dcc420672",
        "colab": {
          "base_uri": "https://localhost:8080/",
          "height": 35
        }
      },
      "cell_type": "code",
      "source": [
        "idx = 7777 # 0 to 9999\n",
        "img, y = mnist_test[idx]\n",
        "img.shape, y"
      ],
      "execution_count": 21,
      "outputs": [
        {
          "output_type": "execute_result",
          "data": {
            "text/plain": [
              "(torch.Size([1, 28, 28]), 5)"
            ]
          },
          "metadata": {
            "tags": []
          },
          "execution_count": 21
        }
      ]
    },
    {
      "metadata": {
        "id": "qzrcr3vcr0L-",
        "colab_type": "code",
        "outputId": "d837ce23-ffbb-45ba-e687-613d5b05e63e",
        "colab": {
          "base_uri": "https://localhost:8080/",
          "height": 287
        }
      },
      "cell_type": "code",
      "source": [
        "imshow(img[0], cmap='gray')"
      ],
      "execution_count": 22,
      "outputs": [
        {
          "output_type": "execute_result",
          "data": {
            "text/plain": [
              "<matplotlib.image.AxesImage at 0x7f242702fa90>"
            ]
          },
          "metadata": {
            "tags": []
          },
          "execution_count": 22
        },
        {
          "output_type": "display_data",
          "data": {
            "image/png": "[encoded data removed]",
            "text/plain": [
              "<Figure size 432x288 with 1 Axes>"
            ]
          },
          "metadata": {
            "tags": []
          }
        }
      ]
    },
    {
      "metadata": {
        "id": "E1qgio9Rr0MC",
        "colab_type": "code",
        "outputId": "cc9202b1-d9b4-4ca6-9dc9-bf3e7167cefd",
        "colab": {
          "base_uri": "https://localhost:8080/",
          "height": 35
        }
      },
      "cell_type": "code",
      "source": [
        "sample = img.unsqueeze(dim=0).to(DEVICE)\n",
        "out = model(sample).cpu()\n",
        "_, idx = out.max(dim=-1)\n",
        "print(\"prediction = \", idx.item())"
      ],
      "execution_count": 28,
      "outputs": [
        {
          "output_type": "stream",
          "text": [
            "prediction =  5\n"
          ],
          "name": "stdout"
        }
      ]
    },
    {
      "metadata": {
        "id": "8cR6hl9hr0MF",
        "colab_type": "code",
        "colab": {}
      },
      "cell_type": "code",
      "source": [
        "# Saving params.\n",
        "torch.save(model.state_dict(), 'model.pkl')"
      ],
      "execution_count": 0,
      "outputs": []
    }
  ]
}