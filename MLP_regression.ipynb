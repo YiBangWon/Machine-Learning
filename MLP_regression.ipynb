{
  "nbformat": 4,
  "nbformat_minor": 0,
  "metadata": {
    "colab": {
      "name": "MLP_regression.ipynb",
      "version": "0.3.2",
      "provenance": [],
      "collapsed_sections": [],
      "include_colab_link": true
    },
    "kernelspec": {
      "name": "python2",
      "display_name": "Python 2"
    }
  },
  "cells": [
    {
      "cell_type": "markdown",
      "metadata": {
        "id": "view-in-github",
        "colab_type": "text"
      },
      "source": [
        "<a href=\"https://colab.research.google.com/github/callee2006/MachineLearning/blob/master/MLP_regression.ipynb\" target=\"_parent\"><img src=\"https://colab.research.google.com/assets/colab-badge.svg\" alt=\"Open In Colab\"/></a>"
      ]
    },
    {
      "cell_type": "markdown",
      "metadata": {
        "id": "eup0q-RpNaWQ",
        "colab_type": "text"
      },
      "source": [
        "# Non-linear Regression using MLP"
      ]
    },
    {
      "cell_type": "markdown",
      "metadata": {
        "id": "zInvrHEHagTp",
        "colab_type": "text"
      },
      "source": [
        ""
      ]
    },
    {
      "cell_type": "code",
      "metadata": {
        "id": "wvPjbgj_OIHj",
        "colab_type": "code",
        "outputId": "41a97852-cd6b-4ba9-8984-050a9dfa2d22",
        "colab": {
          "base_uri": "https://localhost:8080/",
          "height": 397
        }
      },
      "source": [
        "! pip install mglearn"
      ],
      "execution_count": 1,
      "outputs": [
        {
          "output_type": "stream",
          "text": [
            "Requirement already satisfied: mglearn in /usr/local/lib/python2.7/dist-packages (0.1.7)\n",
            "Requirement already satisfied: numpy in /usr/local/lib/python2.7/dist-packages (from mglearn) (1.16.4)\n",
            "Requirement already satisfied: cycler in /usr/local/lib/python2.7/dist-packages (from mglearn) (0.10.0)\n",
            "Requirement already satisfied: pillow in /usr/local/lib/python2.7/dist-packages (from mglearn) (4.3.0)\n",
            "Requirement already satisfied: matplotlib in /usr/local/lib/python2.7/dist-packages (from mglearn) (2.2.4)\n",
            "Requirement already satisfied: scikit-learn in /usr/local/lib/python2.7/dist-packages (from mglearn) (0.20.3)\n",
            "Requirement already satisfied: pandas in /usr/local/lib/python2.7/dist-packages (from mglearn) (0.24.2)\n",
            "Requirement already satisfied: imageio in /usr/local/lib/python2.7/dist-packages (from mglearn) (2.4.1)\n",
            "Requirement already satisfied: six in /usr/local/lib/python2.7/dist-packages (from cycler->mglearn) (1.12.0)\n",
            "Requirement already satisfied: olefile in /usr/local/lib/python2.7/dist-packages (from pillow->mglearn) (0.46)\n",
            "Requirement already satisfied: backports.functools-lru-cache in /usr/local/lib/python2.7/dist-packages (from matplotlib->mglearn) (1.5)\n",
            "Requirement already satisfied: subprocess32 in /usr/local/lib/python2.7/dist-packages (from matplotlib->mglearn) (3.5.4)\n",
            "Requirement already satisfied: kiwisolver>=1.0.1 in /usr/local/lib/python2.7/dist-packages (from matplotlib->mglearn) (1.1.0)\n",
            "Requirement already satisfied: pytz in /usr/local/lib/python2.7/dist-packages (from matplotlib->mglearn) (2018.9)\n",
            "Requirement already satisfied: python-dateutil>=2.1 in /usr/local/lib/python2.7/dist-packages (from matplotlib->mglearn) (2.5.3)\n",
            "Requirement already satisfied: pyparsing!=2.0.4,!=2.1.2,!=2.1.6,>=2.0.1 in /usr/local/lib/python2.7/dist-packages (from matplotlib->mglearn) (2.4.0)\n",
            "Requirement already satisfied: scipy>=0.13.3 in /usr/local/lib/python2.7/dist-packages (from scikit-learn->mglearn) (1.2.1)\n",
            "Requirement already satisfied: futures in /usr/local/lib/python2.7/dist-packages (from imageio->mglearn) (3.2.0)\n",
            "Requirement already satisfied: enum34 in /usr/local/lib/python2.7/dist-packages (from imageio->mglearn) (1.1.6)\n",
            "Requirement already satisfied: setuptools in /usr/local/lib/python2.7/dist-packages (from kiwisolver>=1.0.1->matplotlib->mglearn) (41.0.1)\n"
          ],
          "name": "stdout"
        }
      ]
    },
    {
      "cell_type": "code",
      "metadata": {
        "id": "Os3tol_fNC_R",
        "colab_type": "code",
        "colab": {}
      },
      "source": [
        "import numpy as np\n",
        "import torch\n",
        "import torch.nn as nn\n",
        "\n",
        "import matplotlib.pyplot as plt\n",
        "import sklearn as sk\n",
        "from sklearn.model_selection import train_test_split\n",
        "\n",
        "import mglearn\n",
        "\n",
        "\n",
        "#DATA='wave'\n",
        "DATA='sin_cos'"
      ],
      "execution_count": 0,
      "outputs": []
    },
    {
      "cell_type": "code",
      "metadata": {
        "id": "DO_yJS00OSNj",
        "colab_type": "code",
        "colab": {}
      },
      "source": [
        "# generate wave data\n",
        "\n",
        "if DATA == \"wave\":\n",
        "    X, y = mglearn.datasets.make_wave(n_samples=60)\n",
        "    mglearn.plots.plot_linear_regression_wave()\n",
        "\n",
        "    X_train, X_test, y_train, y_test = train_test_split(X, y, random_state=42)\n",
        "    plt.plot(X_train, y_train, \"go\")\n",
        "    plt.plot(X_test, y_test, \"bo\")\n",
        "\n",
        "    # reshape from (N, ) ==> (N, 1)\n",
        "    y_train = np.expand_dims(y_train, axis = 1)\n",
        "    y_test = np.expand_dims(y_test, axis = 1)"
      ],
      "execution_count": 0,
      "outputs": []
    },
    {
      "cell_type": "code",
      "metadata": {
        "id": "IW0uV7A52E_M",
        "colab_type": "code",
        "outputId": "82c1243c-8048-4dbf-e8bd-9ce5a24c25ad",
        "colab": {
          "base_uri": "https://localhost:8080/",
          "height": 269
        }
      },
      "source": [
        "# generate sine and cosine data\n",
        "if DATA == 'sin_cos':\n",
        "    X = np.expand_dims(np.linspace(-3, 3, 100), axis=1)\n",
        "    y = np.concatenate((np.sin(X), np.cos(X)), axis = 1) + np.random.normal(0, 0.1, size = (len(X), 2))\n",
        "\n",
        "    X_train, X_test, y_train, y_test = train_test_split(X, y, random_state=42)\n",
        "    plt.plot(X_train, y_train[:, 0], \"go\")\n",
        "    plt.plot(X_train, y_train[:, 1], \"bo\")"
      ],
      "execution_count": 4,
      "outputs": [
        {
          "output_type": "display_data",
          "data": {
            "image/png": "[encoded data removed]",
            "text/plain": [
              "<Figure size 432x288 with 1 Axes>"
            ]
          },
          "metadata": {
            "tags": []
          }
        }
      ]
    },
    {
      "cell_type": "code",
      "metadata": {
        "id": "QsaIQRvPxP-X",
        "colab_type": "code",
        "outputId": "dc8385c1-a86a-4003-c4b3-e74ae76755d9",
        "colab": {
          "base_uri": "https://localhost:8080/",
          "height": 269
        }
      },
      "source": [
        "# convert np array into torch.Tensor\n",
        "\n",
        "X_train_tensor = torch.tensor(X_train, dtype=torch.float32)   # don't ommit 'dtype=torch.float32'\n",
        "y_train_tensor = torch.tensor(y_train, dtype=torch.float32)\n",
        "\n",
        "X_test_tensor = torch.tensor(X_test, dtype=torch.float32)\n",
        "y_test_tensor = torch.tensor(y_test, dtype=torch.float32)\n",
        "\n",
        "plt.plot(X_train[:, 0], y_train[:, 0], \"bo\")\n",
        "plt.plot(X_test[:, 0], y_test[:, 0], \"co\")\n",
        "\n",
        "if y_train.shape[1] > 1:\n",
        "    plt.plot(X_train[:, 0], y_train[:, 1], \"yo\")\n",
        "    plt.plot(X_test[:, 0], y_test[:, 1], \"go\")"
      ],
      "execution_count": 5,
      "outputs": [
        {
          "output_type": "display_data",
          "data": {
            "image/png": "[encoded data removed]",
            "text/plain": [
              "<Figure size 432x288 with 1 Axes>"
            ]
          },
          "metadata": {
            "tags": []
          }
        }
      ]
    },
    {
      "cell_type": "code",
      "metadata": {
        "id": "hCVIYVoQFlOZ",
        "colab_type": "code",
        "outputId": "3b709fe3-ef5b-4883-877c-fded79d03540",
        "colab": {
          "base_uri": "https://localhost:8080/",
          "height": 35
        }
      },
      "source": [
        "print(\"X_train_tensor.shape = {}, y_train_tensor.shape = {}\".format(X_train_tensor.shape, y_train_tensor.shape))"
      ],
      "execution_count": 6,
      "outputs": [
        {
          "output_type": "stream",
          "text": [
            "X_train_tensor.shape = torch.Size([75, 1]), y_train_tensor.shape = torch.Size([75, 2])\n"
          ],
          "name": "stdout"
        }
      ]
    },
    {
      "cell_type": "code",
      "metadata": {
        "id": "vkmdFzpDOefe",
        "colab_type": "code",
        "colab": {}
      },
      "source": [
        "#design MLP regression model\n",
        "\n",
        "class MLP_Regression(nn.Module):\n",
        "  def __init__(self, input_size, hidden_size, output_size):\n",
        "    super(MLP_Regression, self).__init__()\n",
        "    self.mlp = nn.Sequential(\n",
        "        # 1st hidden layer\n",
        "        nn.Linear(input_size, hidden_size),\n",
        "        nn.ReLU(),\n",
        "        \n",
        "        # 2nd hidden layer\n",
        "#        nn.Linear(hidden_size, hidden_size),\n",
        "#        nn.ReLU(),\n",
        "\n",
        "        \n",
        "        # output layer\n",
        "        nn.Linear(hidden_size, output_size),\n",
        "#        nn.ReLU(),\n",
        "    )\n",
        "    \n",
        "  def forward(self, X):\n",
        "    y_ = self.mlp(X)\n",
        "    return y_ \n",
        "  \n",
        "model = MLP_Regression(X_train_tensor.shape[1], 50, y_train_tensor.shape[1])"
      ],
      "execution_count": 0,
      "outputs": []
    },
    {
      "cell_type": "code",
      "metadata": {
        "id": "dOuqim-F7V_N",
        "colab_type": "code",
        "colab": {}
      },
      "source": [
        "def predict(model, input_array):\n",
        "    input_tensor = torch.tensor(input_array, dtype=torch.float32).unsqueeze(dim = 1)\n",
        "    predict_tensor = model(input_tensor)\n",
        "#    predict = predict_tensor.squeeze().detach().numpy()\n",
        "    predict = predict_tensor.detach().numpy()     \n",
        "    return predict"
      ],
      "execution_count": 0,
      "outputs": []
    },
    {
      "cell_type": "markdown",
      "metadata": {
        "id": "07wTmDVcvD93",
        "colab_type": "text"
      },
      "source": [
        "## Train the model"
      ]
    },
    {
      "cell_type": "code",
      "metadata": {
        "id": "Sa3KPpZws7bY",
        "colab_type": "code",
        "colab": {}
      },
      "source": [
        "# utility function to measure time\n",
        "import time\n",
        "import math\n",
        "\n",
        "def timeSince(since):\n",
        "    now = time.time()\n",
        "    s = now - since\n",
        "    m = math.floor(s / 60)\n",
        "    s -= m * 60\n",
        "    return '%dm %ds' % (m, s)"
      ],
      "execution_count": 0,
      "outputs": []
    },
    {
      "cell_type": "code",
      "metadata": {
        "id": "T4bDXHFPvGF_",
        "colab_type": "code",
        "colab": {}
      },
      "source": [
        "loss_fn = torch.nn.MSELoss()\n",
        "optim = torch.optim.Adam(model.parameters(), lr=0.001)"
      ],
      "execution_count": 0,
      "outputs": []
    },
    {
      "cell_type": "code",
      "metadata": {
        "id": "yXwglYD2vNeP",
        "colab_type": "code",
        "outputId": "cafbe8e2-1c41-49ff-a9c1-3cd7433afe6c",
        "colab": {
          "base_uri": "https://localhost:8080/",
          "height": 89
        }
      },
      "source": [
        "max_epoch = 20000    # maximum number of epochs\n",
        "step = 0             # initialize step counter variable\n",
        "\n",
        "start = time.time()\n",
        "\n",
        "for epoch in range(max_epoch):\n",
        "    y_hat_tensor = model(X_train_tensor)      # (N, 1)  # forward propagation\n",
        "    loss = loss_fn(y_hat_tensor, y_train_tensor)  # computing loss\n",
        "\n",
        "    if loss < 0.01:\n",
        "        break\n",
        "        \n",
        "    optim.zero_grad()           # reset gradient\n",
        "    loss.backward()             # back-propagation (compute gradient)\n",
        "    optim.step()                # update parameters with gradient\n",
        "\n",
        "    # periodically print loss\n",
        "    if step % 2000 == 0:\n",
        "       print(\"Epoch({}): {}/{}, Step: {}, Train Loss: {}\".format(timeSince(start), epoch, max_epoch, step, loss.item()))\n",
        "\n",
        "# periodically evalute model on test data\n",
        "    if epoch % 50000 == 0:\n",
        "        model.eval()\n",
        "        with torch.no_grad():   # disable autograd\n",
        "            y_hat_tensor = model(X_test_tensor)\n",
        "            loss = loss_fn(y_hat_tensor, y_test_tensor)\n",
        "\n",
        "            print('*'*20, 'Test', '*'*20)\n",
        "            print('Step: {}, Test Loss: {}'.format(step, loss.item()))\n",
        "            print('*' * 46)\n",
        "        model.train()           # turn to train mode (enable autograd)\n",
        "    step += 1"
      ],
      "execution_count": 11,
      "outputs": [
        {
          "output_type": "stream",
          "text": [
            "Epoch(0m 0s): 0/20000, Step: 0, Train Loss: 1.2972240448\n",
            "('********************', 'Test', '********************')\n",
            "Step: 0, Test Loss: 1.26619124413\n",
            "**********************************************\n"
          ],
          "name": "stdout"
        }
      ]
    },
    {
      "cell_type": "code",
      "metadata": {
        "id": "UqX0_w2L3fh_",
        "colab_type": "code",
        "colab": {}
      },
      "source": [
        "y_hat = model(X_test_tensor).detach().numpy()"
      ],
      "execution_count": 0,
      "outputs": []
    },
    {
      "cell_type": "code",
      "metadata": {
        "id": "ZuIDbosJ5-LR",
        "colab_type": "code",
        "outputId": "54c595c7-5493-4924-b6f2-7f2539dd4516",
        "colab": {
          "base_uri": "https://localhost:8080/",
          "height": 287
        }
      },
      "source": [
        "plt.plot(X_train[:,0], y_train[:,0], 'go', label='train')\n",
        "plt.plot(X_test[:,0], y_test[:,0], 'bo', label='ground truth')\n",
        "plt.plot(X_test[:,0], y_hat[:,0], 'ro', label='prediction')\n",
        "plt.legend()"
      ],
      "execution_count": 13,
      "outputs": [
        {
          "output_type": "execute_result",
          "data": {
            "text/plain": [
              "<matplotlib.legend.Legend at 0x7f8b36a95c90>"
            ]
          },
          "metadata": {
            "tags": []
          },
          "execution_count": 13
        },
        {
          "output_type": "display_data",
          "data": {
            "image/png": "[encoded data removed]",
            "text/plain": [
              "<Figure size 432x288 with 1 Axes>"
            ]
          },
          "metadata": {
            "tags": []
          }
        }
      ]
    },
    {
      "cell_type": "code",
      "metadata": {
        "id": "jt_gWeTsPpeR",
        "colab_type": "code",
        "outputId": "73cbc9f3-dacf-4dd0-af05-54a274e4a9e6",
        "colab": {
          "base_uri": "https://localhost:8080/",
          "height": 287
        }
      },
      "source": [
        "plt.plot(X_train[:,0], y_train[:,1], 'go', label='train')\n",
        "plt.plot(X_test[:,0], y_test[:,1], 'bo', label='ground truth')\n",
        "plt.plot(X_test[:,0], y_hat[:,1], 'ro', label='prediction')\n",
        "plt.legend()"
      ],
      "execution_count": 14,
      "outputs": [
        {
          "output_type": "execute_result",
          "data": {
            "text/plain": [
              "<matplotlib.legend.Legend at 0x7f8b369a9710>"
            ]
          },
          "metadata": {
            "tags": []
          },
          "execution_count": 14
        },
        {
          "output_type": "display_data",
          "data": {
            "image/png": "[encoded data removed]",
            "text/plain": [
              "<Figure size 432x288 with 1 Axes>"
            ]
          },
          "metadata": {
            "tags": []
          }
        }
      ]
    },
    {
      "cell_type": "code",
      "metadata": {
        "id": "OLulEL2HkmLS",
        "colab_type": "code",
        "outputId": "71a19bc8-bc8d-4f32-9fb7-8b79afff69b9",
        "colab": {
          "base_uri": "https://localhost:8080/",
          "height": 35
        }
      },
      "source": [
        "mse = ((y_hat - y_test)**2).mean()\n",
        "print(\"mean squared error = {:0.3f}\".format(mse))"
      ],
      "execution_count": 15,
      "outputs": [
        {
          "output_type": "stream",
          "text": [
            "mean squared error = 0.016\n"
          ],
          "name": "stdout"
        }
      ]
    },
    {
      "cell_type": "code",
      "metadata": {
        "id": "bqZqNys16soZ",
        "colab_type": "code",
        "colab": {}
      },
      "source": [
        "# to compare the prediction with ground truth\n",
        "# merged = np.concatenate((X_test, y_test, y_hat, y_hat - y_test), axis = 1)\n",
        "# np.sort(merged, axis = 0)"
      ],
      "execution_count": 0,
      "outputs": []
    },
    {
      "cell_type": "code",
      "metadata": {
        "id": "wRvd_lwOBTxj",
        "colab_type": "code",
        "colab": {
          "base_uri": "https://localhost:8080/",
          "height": 55
        },
        "outputId": "ba00b534-714a-4137-899d-f29eacf6c8a5"
      },
      "source": [
        "# original code\n",
        "\"\"\"\n",
        "x_axis = np.linspace(-3, 3, 100)\n",
        "input_tensor = torch.tensor(x_axis, dtype=torch.float32). unsqueeze(dim = 1)\n",
        "print(\"input_tensor.shape = {}\".format(input_tensor.shape))\n",
        "\n",
        "y_predict_tensor = model(input_tensor)\n",
        "y_predict = y_predict_tensor.detach().numpy()\n",
        "\"\"\""
      ],
      "execution_count": 17,
      "outputs": [
        {
          "output_type": "execute_result",
          "data": {
            "text/plain": [
              "'\\nx_axis = np.linspace(-3, 3, 100)\\ninput_tensor = torch.tensor(x_axis, dtype=torch.float32). unsqueeze(dim = 1)\\nprint(\"input_tensor.shape = {}\".format(input_tensor.shape))\\n\\ny_predict_tensor = model(input_tensor)\\ny_predict = y_predict_tensor.detach().numpy()\\n'"
            ]
          },
          "metadata": {
            "tags": []
          },
          "execution_count": 17
        }
      ]
    },
    {
      "cell_type": "code",
      "metadata": {
        "id": "nV5tGNMW72go",
        "colab_type": "code",
        "outputId": "6f86b94f-dfac-4fa4-9400-b8921d4473d1",
        "colab": {
          "base_uri": "https://localhost:8080/",
          "height": 35
        }
      },
      "source": [
        "x_axis = np.linspace(-3, 3, 100)\n",
        "y_predict = predict(model, x_axis)\n",
        "y_predict.shape"
      ],
      "execution_count": 18,
      "outputs": [
        {
          "output_type": "execute_result",
          "data": {
            "text/plain": [
              "(100, 2)"
            ]
          },
          "metadata": {
            "tags": []
          },
          "execution_count": 18
        }
      ]
    },
    {
      "cell_type": "code",
      "metadata": {
        "id": "w-hHp0nN_5kR",
        "colab_type": "code",
        "outputId": "67c59216-4ed5-49e0-fb07-610ec951a58d",
        "colab": {
          "base_uri": "https://localhost:8080/",
          "height": 269
        }
      },
      "source": [
        "if y_predict.shape[1] == 1:\n",
        "    plt.plot(X_train[:,0], y_train[:,0], 'go', label='train')\n",
        "    plt.plot(X_test[:,0], y_test[:,0], 'bo', label='test')\n",
        "    plt.plot(x_axis, y_predict[:,0], 'm', label = 'regression', linewidth=3.0)\n",
        "    plt.legend()\n",
        "    \n",
        "elif y_predict.shape[1] == 2:\n",
        "    plt.subplot(1,2,1)\n",
        "\n",
        "    plt.plot(X_train[:,0], y_train[:,0], 'go', label='train')\n",
        "    plt.plot(X_test[:,0], y_test[:,0], 'bo', label='test')\n",
        "\n",
        "    plt.plot(x_axis, y_predict[:,0], 'm', label = 'regression', linewidth=3.0)\n",
        "\n",
        "\n",
        "    plt.subplot(1,2,2)\n",
        "\n",
        "    plt.plot(X_train[:,0], y_train[:,1], 'go', label='train')\n",
        "    plt.plot(X_test[:,0], y_test[:,1], 'bo', label='test')\n",
        "\n",
        "    plt.plot(x_axis, y_predict[:,1], 'm', label = 'regression', linewidth=3.0)\n",
        "\n",
        "    plt.legend()"
      ],
      "execution_count": 19,
      "outputs": [
        {
          "output_type": "display_data",
          "data": {
            "image/png": "[encoded data removed]",
            "text/plain": [
              "<Figure size 432x288 with 2 Axes>"
            ]
          },
          "metadata": {
            "tags": []
          }
        }
      ]
    },
    {
      "cell_type": "code",
      "metadata": {
        "id": "JYbImMTj7Bbh",
        "colab_type": "code",
        "colab": {}
      },
      "source": [
        ""
      ],
      "execution_count": 0,
      "outputs": []
    }
  ]
}