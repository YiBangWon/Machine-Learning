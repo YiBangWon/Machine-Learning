{
  "nbformat": 4,
  "nbformat_minor": 0,
  "metadata": {
    "colab": {
      "name": "python_tutorial_solution.ipynb",
      "version": "0.3.2",
      "provenance": [],
      "collapsed_sections": [],
      "include_colab_link": true
    },
    "kernelspec": {
      "name": "python3",
      "display_name": "Python 3"
    }
  },
  "cells": [
    {
      "cell_type": "markdown",
      "metadata": {
        "id": "view-in-github",
        "colab_type": "text"
      },
      "source": [
        "<a href=\"https://colab.research.google.com/github/callee2006/MachineLearning/blob/master/python_tutorial_solution.ipynb\" target=\"_parent\"><img src=\"https://colab.research.google.com/assets/colab-badge.svg\" alt=\"Open In Colab\"/></a>"
      ]
    },
    {
      "cell_type": "code",
      "metadata": {
        "id": "bPons59mlXlt",
        "colab_type": "code",
        "outputId": "6aab7c1e-5abc-4877-b935-e2cd0075d24c",
        "colab": {
          "base_uri": "https://localhost:8080/",
          "height": 35
        }
      },
      "source": [
        "print(\"Hello, World!\")"
      ],
      "execution_count": 0,
      "outputs": [
        {
          "output_type": "stream",
          "text": [
            "Hello, World!\n"
          ],
          "name": "stdout"
        }
      ]
    },
    {
      "cell_type": "markdown",
      "metadata": {
        "id": "p3GZN4NGslWM",
        "colab_type": "text"
      },
      "source": [
        "# Basic types (int, float, bool, str)"
      ]
    },
    {
      "cell_type": "code",
      "metadata": {
        "id": "xt4GL6DlofE7",
        "colab_type": "code",
        "outputId": "36135406-6f45-438b-b3b3-73a3ec6bb4d2",
        "colab": {
          "base_uri": "https://localhost:8080/",
          "height": 35
        }
      },
      "source": [
        "a = 5\n",
        "type(a)"
      ],
      "execution_count": 0,
      "outputs": [
        {
          "output_type": "execute_result",
          "data": {
            "text/plain": [
              "int"
            ]
          },
          "metadata": {
            "tags": []
          },
          "execution_count": 1
        }
      ]
    },
    {
      "cell_type": "code",
      "metadata": {
        "id": "wk0NXRfbohxr",
        "colab_type": "code",
        "outputId": "d33011b7-0263-46e3-bba7-b1e34a19b564",
        "colab": {
          "base_uri": "https://localhost:8080/",
          "height": 35
        }
      },
      "source": [
        "f = 2.0\n",
        "type(f)"
      ],
      "execution_count": 0,
      "outputs": [
        {
          "output_type": "execute_result",
          "data": {
            "text/plain": [
              "float"
            ]
          },
          "metadata": {
            "tags": []
          },
          "execution_count": 2
        }
      ]
    },
    {
      "cell_type": "code",
      "metadata": {
        "id": "KTD2RUG0ILHb",
        "colab_type": "code",
        "outputId": "bc10a92a-527f-41a0-8d8a-ef393ac6ba63",
        "colab": {
          "base_uri": "https://localhost:8080/",
          "height": 35
        }
      },
      "source": [
        "b = True\n",
        "type(b)"
      ],
      "execution_count": 0,
      "outputs": [
        {
          "output_type": "execute_result",
          "data": {
            "text/plain": [
              "bool"
            ]
          },
          "metadata": {
            "tags": []
          },
          "execution_count": 3
        }
      ]
    },
    {
      "cell_type": "code",
      "metadata": {
        "id": "DkDDWWeIILP9",
        "colab_type": "code",
        "outputId": "3225c2e8-09be-4a77-8104-3f1f3fafcaa3",
        "colab": {
          "base_uri": "https://localhost:8080/",
          "height": 35
        }
      },
      "source": [
        "s = \"Hello, World!\"\n",
        "type(s)"
      ],
      "execution_count": 0,
      "outputs": [
        {
          "output_type": "execute_result",
          "data": {
            "text/plain": [
              "str"
            ]
          },
          "metadata": {
            "tags": []
          },
          "execution_count": 4
        }
      ]
    },
    {
      "cell_type": "markdown",
      "metadata": {
        "id": "i7ljhEufoWHW",
        "colab_type": "text"
      },
      "source": [
        "# Input and output"
      ]
    },
    {
      "cell_type": "code",
      "metadata": {
        "id": "qsD0iKdLDx0L",
        "colab_type": "code",
        "outputId": "a3f1aca4-95bd-4d86-8e71-6446d4e5b6b0",
        "colab": {
          "base_uri": "https://localhost:8080/",
          "height": 71
        }
      },
      "source": [
        "print(\"What's your name?\")\n",
        "name = input()                                 # reading a string\n",
        "print(\"Nice to see you, \", name)"
      ],
      "execution_count": 0,
      "outputs": [
        {
          "output_type": "stream",
          "text": [
            "What's your name?\n",
            "James Dean\n",
            "Nice to see you,  James Dean\n"
          ],
          "name": "stdout"
        }
      ]
    },
    {
      "cell_type": "code",
      "metadata": {
        "id": "7j7vBjB-n5jl",
        "colab_type": "code",
        "outputId": "02205bfc-817a-4389-a8ca-d7789a3b0b24",
        "colab": {
          "base_uri": "https://localhost:8080/",
          "height": 107
        }
      },
      "source": [
        "# reading numbers\n",
        "print(\"Input a: \")\n",
        "a = int(input())\n",
        "\n",
        "print(\"Input b: \")\n",
        "b = int(input())\n",
        "\n",
        "c = a + b\n",
        "print(\"{} + {} = {}\".format(a, b, c))          # formatted output"
      ],
      "execution_count": 0,
      "outputs": [
        {
          "output_type": "stream",
          "text": [
            "Input a: \n",
            "20\n",
            "Input b: \n",
            "30\n",
            "20 + 30 = 50\n"
          ],
          "name": "stdout"
        }
      ]
    },
    {
      "cell_type": "markdown",
      "metadata": {
        "id": "Xt2TKs8Zsq2j",
        "colab_type": "text"
      },
      "source": [
        "# for - Loop"
      ]
    },
    {
      "cell_type": "code",
      "metadata": {
        "id": "J-IH-6sBooYn",
        "colab_type": "code",
        "outputId": "022259a2-8351-448e-ee91-2918f0cb9b79",
        "colab": {
          "base_uri": "https://localhost:8080/",
          "height": 107
        }
      },
      "source": [
        "# repeating 5 times\n",
        "for i in range(5):\n",
        "   print(\"i = \", i)"
      ],
      "execution_count": 0,
      "outputs": [
        {
          "output_type": "stream",
          "text": [
            "i =  0\n",
            "i =  1\n",
            "i =  2\n",
            "i =  3\n",
            "i =  4\n"
          ],
          "name": "stdout"
        }
      ]
    },
    {
      "cell_type": "code",
      "metadata": {
        "id": "omN7_F-JrKf5",
        "colab_type": "code",
        "outputId": "821a08ad-81d3-45f9-cbcb-2930df79dafb",
        "colab": {
          "base_uri": "https://localhost:8080/",
          "height": 161
        }
      },
      "source": [
        "# repeating from 20 to 200, stop = 10\n",
        "for i in range(20, 100, 10):         # start = 20, end = 100, step = 10\n",
        "   print(\"i = \", i)"
      ],
      "execution_count": 0,
      "outputs": [
        {
          "output_type": "stream",
          "text": [
            "i =  20\n",
            "i =  30\n",
            "i =  40\n",
            "i =  50\n",
            "i =  60\n",
            "i =  70\n",
            "i =  80\n",
            "i =  90\n"
          ],
          "name": "stdout"
        }
      ]
    },
    {
      "cell_type": "markdown",
      "metadata": {
        "id": "mpYCCGcjvXgI",
        "colab_type": "text"
      },
      "source": [
        "# Lists\n",
        "\n",
        "* Container of heterogeneous objects\n",
        "    \n",
        "* Flexible (e.g. a list  can contain another list)\n",
        "\n",
        "* Designed for efficient insertion / deletion\n",
        "\n"
      ]
    },
    {
      "cell_type": "code",
      "metadata": {
        "id": "wrQLfW1Cs8S1",
        "colab_type": "code",
        "outputId": "0acf22b5-c45e-4330-90b0-6c2428e1725e",
        "colab": {
          "base_uri": "https://localhost:8080/",
          "height": 53
        }
      },
      "source": [
        "# creating a list\n",
        "a = [5,10,15,20,25,30,35,40]\n",
        "print(a)\n",
        "print(\"len(a) = \", len(a))"
      ],
      "execution_count": 0,
      "outputs": [
        {
          "output_type": "stream",
          "text": [
            "[5, 10, 15, 20, 25, 30, 35, 40]\n",
            "len(a) =  8\n"
          ],
          "name": "stdout"
        }
      ]
    },
    {
      "cell_type": "code",
      "metadata": {
        "id": "mNMcB6p29M1n",
        "colab_type": "code",
        "outputId": "4d39a176-4985-4780-d02a-823c5cb4dd39",
        "colab": {
          "base_uri": "https://localhost:8080/",
          "height": 35
        }
      },
      "source": [
        "b = [3.14, 100, 'hello', a]\n",
        "print(b)"
      ],
      "execution_count": 0,
      "outputs": [
        {
          "output_type": "stream",
          "text": [
            "[3.14, 100, 'hello', [5, 10, 15, 20, 25, 30, 35, 40]]\n"
          ],
          "name": "stdout"
        }
      ]
    },
    {
      "cell_type": "code",
      "metadata": {
        "id": "HHrAvT7QvdZq",
        "colab_type": "code",
        "outputId": "f8e8f620-f3aa-4bd9-d527-542afb2de027",
        "colab": {
          "base_uri": "https://localhost:8080/",
          "height": 35
        }
      },
      "source": [
        "# element access\n",
        "print(\"a[2] = \", a[2])"
      ],
      "execution_count": 0,
      "outputs": [
        {
          "output_type": "stream",
          "text": [
            "a[2] =  15\n"
          ],
          "name": "stdout"
        }
      ]
    },
    {
      "cell_type": "code",
      "metadata": {
        "id": "gMEWuYgBo0dj",
        "colab_type": "code",
        "outputId": "e369ab6d-e7a9-4b49-8522-0d901c513b5d",
        "colab": {
          "base_uri": "https://localhost:8080/",
          "height": 35
        }
      },
      "source": [
        "# slicing from 0 to 3 (exclusively)\n",
        "print(\"a[0:3] = \", a[0:3])"
      ],
      "execution_count": 0,
      "outputs": [
        {
          "output_type": "stream",
          "text": [
            "a[0:3] =  [5, 10, 15]\n"
          ],
          "name": "stdout"
        }
      ]
    },
    {
      "cell_type": "code",
      "metadata": {
        "id": "xrFwaV3LI-ac",
        "colab_type": "code",
        "outputId": "d577dbee-ee07-4624-91f5-792f61df6bb1",
        "colab": {
          "base_uri": "https://localhost:8080/",
          "height": 35
        }
      },
      "source": [
        "# slicing from 0 to 6 (exclusively), step = 2\n",
        "print(\"a[0:6:2] = \", a[0:6:2])"
      ],
      "execution_count": 0,
      "outputs": [
        {
          "output_type": "stream",
          "text": [
            "a[0:6:2] =  [5, 15, 25]\n"
          ],
          "name": "stdout"
        }
      ]
    },
    {
      "cell_type": "code",
      "metadata": {
        "id": "W_HAWol8vV_s",
        "colab_type": "code",
        "outputId": "8a0a36d2-c45a-474a-bf10-d36ec87dcdb2",
        "colab": {
          "base_uri": "https://localhost:8080/",
          "height": 35
        }
      },
      "source": [
        "# slicing from 5 to the end of the list\n",
        "print(\"a[5:] = \", a[5:])"
      ],
      "execution_count": 0,
      "outputs": [
        {
          "output_type": "stream",
          "text": [
            "a[5:] =  [30, 35, 40]\n"
          ],
          "name": "stdout"
        }
      ]
    },
    {
      "cell_type": "code",
      "metadata": {
        "id": "86BC78hyL8av",
        "colab_type": "code",
        "outputId": "bdae0669-5f6f-4f96-e7d2-0b08b2606c77",
        "colab": {
          "base_uri": "https://localhost:8080/",
          "height": 71
        }
      },
      "source": [
        "a.append(50)                # append 50 at the end of list\n",
        "print(a)\n",
        "a.insert(8, 45)             # insert 45 at position 8\n",
        "print(a)\n",
        "a.remove(5)                 # remove the first 5\n",
        "print(a)"
      ],
      "execution_count": 0,
      "outputs": [
        {
          "output_type": "stream",
          "text": [
            "[5, 10, 15, 20, 25, 30, 35, 40, 50]\n",
            "[5, 10, 15, 20, 25, 30, 35, 40, 45, 50]\n",
            "[10, 15, 20, 25, 30, 35, 40, 45, 50]\n"
          ],
          "name": "stdout"
        }
      ]
    },
    {
      "cell_type": "markdown",
      "metadata": {
        "id": "kshh-NscxqcQ",
        "colab_type": "text"
      },
      "source": [
        "# Exercise problem: finding multiples of 3\n",
        "\n",
        "Find all multiples of 3 between 1 and 100\n",
        "\n",
        "\n"
      ]
    },
    {
      "cell_type": "code",
      "metadata": {
        "id": "bXwvYEB0xzWv",
        "colab_type": "code",
        "colab": {
          "base_uri": "https://localhost:8080/",
          "height": 35
        },
        "outputId": "3f280424-ae25-443b-d481-734b52f05560"
      },
      "source": [
        "multiples = []\n",
        "\n",
        "for i in range(1, 101):\n",
        "  if i % 3 == 0:\n",
        "    multiples.append(i)\n",
        "    \n",
        "print(\"multiples of 3 = \", multiples)"
      ],
      "execution_count": 5,
      "outputs": [
        {
          "output_type": "stream",
          "text": [
            "multiples of 3 =  [3, 6, 9, 12, 15, 18, 21, 24, 27, 30, 33, 36, 39, 42, 45, 48, 51, 54, 57, 60, 63, 66, 69, 72, 75, 78, 81, 84, 87, 90, 93, 96, 99]\n"
          ],
          "name": "stdout"
        }
      ]
    },
    {
      "cell_type": "markdown",
      "metadata": {
        "id": "PCeJ1ioUNIJu",
        "colab_type": "text"
      },
      "source": [
        "## Loops with lists"
      ]
    },
    {
      "cell_type": "code",
      "metadata": {
        "id": "YHcqwzOYND3S",
        "colab_type": "code",
        "outputId": "2904086b-4563-4e9c-cac7-09c952111d83",
        "colab": {
          "base_uri": "https://localhost:8080/",
          "height": 71
        }
      },
      "source": [
        "animals = ['cat', 'dog', 'monkey']\n",
        "for animal in animals:\n",
        "    print(animal)"
      ],
      "execution_count": 0,
      "outputs": [
        {
          "output_type": "stream",
          "text": [
            "cat\n",
            "dog\n",
            "monkey\n"
          ],
          "name": "stdout"
        }
      ]
    },
    {
      "cell_type": "code",
      "metadata": {
        "id": "1Kn7bndBNPBv",
        "colab_type": "code",
        "outputId": "8cba7db8-9f61-4563-eb78-b3658e5d7acb",
        "colab": {
          "base_uri": "https://localhost:8080/",
          "height": 71
        }
      },
      "source": [
        "animals = ['cat', 'dog', 'monkey']\n",
        "for idx, animal in enumerate(animals):\n",
        "    print('{}: {}'.format(idx + 1, animal))"
      ],
      "execution_count": 0,
      "outputs": [
        {
          "output_type": "stream",
          "text": [
            "1: cat\n",
            "2: dog\n",
            "3: monkey\n"
          ],
          "name": "stdout"
        }
      ]
    },
    {
      "cell_type": "markdown",
      "metadata": {
        "id": "ssqhuhXPNoKD",
        "colab_type": "text"
      },
      "source": [
        "## List comprehansion"
      ]
    },
    {
      "cell_type": "code",
      "metadata": {
        "id": "0RTcT9EONOlm",
        "colab_type": "code",
        "outputId": "76ea726f-e7ee-475e-fe78-e69bd1ed707d",
        "colab": {
          "base_uri": "https://localhost:8080/",
          "height": 35
        }
      },
      "source": [
        "nums = [0, 1, 2, 3, 4]\n",
        "squares = []\n",
        "for x in nums:\n",
        "    squares.append(x**2)        # x** 2 means x2 \n",
        "print(squares)"
      ],
      "execution_count": 0,
      "outputs": [
        {
          "output_type": "stream",
          "text": [
            "[0, 1, 4, 9, 16]\n"
          ],
          "name": "stdout"
        }
      ]
    },
    {
      "cell_type": "code",
      "metadata": {
        "id": "fuNog9N7Nuxd",
        "colab_type": "code",
        "outputId": "3d2af149-4846-41f4-dd93-8df73a1202b7",
        "colab": {
          "base_uri": "https://localhost:8080/",
          "height": 35
        }
      },
      "source": [
        "nums = [0, 1, 2, 3, 4]\n",
        "even_squares = [x ** 2 for x in nums if x % 2 == 0]\n",
        "print(even_squares)"
      ],
      "execution_count": 0,
      "outputs": [
        {
          "output_type": "stream",
          "text": [
            "[0, 4, 16]\n"
          ],
          "name": "stdout"
        }
      ]
    },
    {
      "cell_type": "markdown",
      "metadata": {
        "id": "ETi-Zbkcyu0v",
        "colab_type": "text"
      },
      "source": [
        "# Exercise problem: finding multiples of 3\n",
        "\n",
        "Find all multiples of 3 between 1 and 100 **using list comprehension**"
      ]
    },
    {
      "cell_type": "code",
      "metadata": {
        "id": "zXdUC015yN--",
        "colab_type": "code",
        "colab": {
          "base_uri": "https://localhost:8080/",
          "height": 35
        },
        "outputId": "c8c919da-2954-4cac-d173-2d3a5023d48a"
      },
      "source": [
        "multiples = [x for x in list(range(1, 101)) if x % 3 == 0]\n",
        "\n",
        "print(\"multiples of 3 = \", multiples)"
      ],
      "execution_count": 8,
      "outputs": [
        {
          "output_type": "stream",
          "text": [
            "multiples of 3 =  [3, 6, 9, 12, 15, 18, 21, 24, 27, 30, 33, 36, 39, 42, 45, 48, 51, 54, 57, 60, 63, 66, 69, 72, 75, 78, 81, 84, 87, 90, 93, 96, 99]\n"
          ],
          "name": "stdout"
        }
      ]
    },
    {
      "cell_type": "code",
      "metadata": {
        "id": "IMnvKzBqNtKT",
        "colab_type": "code",
        "colab": {}
      },
      "source": [
        ""
      ],
      "execution_count": 0,
      "outputs": []
    },
    {
      "cell_type": "markdown",
      "metadata": {
        "id": "YOYIaKdLJVff",
        "colab_type": "text"
      },
      "source": [
        "## 2D Lists"
      ]
    },
    {
      "cell_type": "code",
      "metadata": {
        "id": "BvgiglhZJUV8",
        "colab_type": "code",
        "outputId": "df70b3b9-6d97-4b6d-eac2-f336cb7c516f",
        "colab": {
          "base_uri": "https://localhost:8080/",
          "height": 53
        }
      },
      "source": [
        "list2D = [[1, 2, 3], [4, 5, 6]]          # creating a 2D list\n",
        "rows = len(list2D)                       # retrieving <# of rows> \n",
        "cols = len(list2D[0])                    # retrieving <# of columns>\n",
        "print(\"size of list2D = {} x {}\".format(rows, cols))\n",
        "print(list2D)"
      ],
      "execution_count": 0,
      "outputs": [
        {
          "output_type": "stream",
          "text": [
            "size of list2D = 2 x 3\n",
            "[[1, 2, 3], [4, 5, 6]]\n"
          ],
          "name": "stdout"
        }
      ]
    },
    {
      "cell_type": "code",
      "metadata": {
        "id": "jpBDwsLpJsgs",
        "colab_type": "code",
        "outputId": "32bb6adb-99cd-4c78-c192-160a5d473461",
        "colab": {
          "base_uri": "https://localhost:8080/",
          "height": 35
        }
      },
      "source": [
        "# accessing an element\n",
        "list2D[0][1]"
      ],
      "execution_count": 0,
      "outputs": [
        {
          "output_type": "execute_result",
          "data": {
            "text/plain": [
              "2"
            ]
          },
          "metadata": {
            "tags": []
          },
          "execution_count": 21
        }
      ]
    },
    {
      "cell_type": "code",
      "metadata": {
        "id": "fR3_GEF4Jx7V",
        "colab_type": "code",
        "outputId": "8824f4f4-f9e6-444b-932a-485933b892cf",
        "colab": {
          "base_uri": "https://localhost:8080/",
          "height": 35
        }
      },
      "source": [
        "# accessing a row\n",
        "list2D[1]"
      ],
      "execution_count": 0,
      "outputs": [
        {
          "output_type": "execute_result",
          "data": {
            "text/plain": [
              "[4, 5, 6]"
            ]
          },
          "metadata": {
            "tags": []
          },
          "execution_count": 22
        }
      ]
    },
    {
      "cell_type": "markdown",
      "metadata": {
        "id": "gLlue1Z-r_9h",
        "colab_type": "text"
      },
      "source": [
        "# Exercise problem: merging lists\n",
        "\n",
        "Merging two sotrted lists preserving ascending order\n",
        "\n",
        "\n",
        "1. Generate two lists (a = [1, 3, 5, ....., 29], b = [20, 22, 24, ... 50])\n",
        "\n",
        "1. Merge the two lists\n",
        "\n",
        " The merged list  should be as follows:\n",
        " \n",
        " [1, 3, 5, 7, 9, 11, 13, 15, 17, 19, 20, 21, 22, 23, 24, 25, 26, 27, 28, 29, 30, 32, 34, 36, 38, 40, 42, 44, 46, 48, 50])\n",
        "\n",
        "1. Print the merged list\n",
        "\n",
        "\n",
        "## Algorithm to merge two lists\n",
        "\n",
        "```\n",
        "initialize a_idx = 0, b_idx = 0, merged = []\n",
        "\n",
        "repeat (a_len + b_len)-times\n",
        "   if no more element in a   (a_idx >= a_len)\n",
        "       append all remaining elements of b to merged\n",
        "       terminate\n",
        "   \n",
        "   if no more element in b    (b_idx >= b_len)\n",
        "       append all remaining elements of a to merged\n",
        "       terminate\n",
        "       \n",
        "   if a[a_idx] <= b[b_idx]\n",
        "        append a[a_idx] to merged\n",
        "        increase a_idx\n",
        "   else\n",
        "      append b[b_idx] to merged\n",
        "      increase b_idx\n",
        "\n",
        "```"
      ]
    },
    {
      "cell_type": "code",
      "metadata": {
        "id": "dvOQZWXWp9hu",
        "colab_type": "code",
        "outputId": "a9079268-ccac-462a-95f5-006c9fa13c8d",
        "colab": {
          "base_uri": "https://localhost:8080/",
          "height": 53
        }
      },
      "source": [
        "a = list(range(1, 30, 2))\n",
        "b = list(range(20, 51, 2))\n",
        "a_len = len(a)\n",
        "b_len = len(b)\n",
        "\n",
        "print(\"a_len = {}, b_len = {}\".format(a_len, b_len))\n",
        "a_idx = 0\n",
        "b_idx = 0\n",
        "\n",
        "merged = []\n",
        "\n",
        "for n in range(a_len + b_len):\n",
        "  if a_idx >= a_len:             # no more element in a\n",
        "    merged = merged + b[b_idx:]\n",
        "    break\n",
        "  elif b_idx >= b_len:           # no more element in b\n",
        "    merged = merged + a[a_idx:]\n",
        "    break\n",
        "  else:   \n",
        "    if a[a_idx] <= b[b_idx]:\n",
        "      merged.append(a[a_idx])\n",
        "      a_idx += 1\n",
        "    else:\n",
        "      merged.append(b[b_idx])\n",
        "      b_idx += 1\n",
        "      \n",
        "print(\"merged = \", merged)"
      ],
      "execution_count": 0,
      "outputs": [
        {
          "output_type": "stream",
          "text": [
            "a_len = 15, b_len = 16\n",
            "merged =  [1, 3, 5, 7, 9, 11, 13, 15, 17, 19, 20, 21, 22, 23, 24, 25, 26, 27, 28, 29, 30, 32, 34, 36, 38, 40, 42, 44, 46, 48, 50]\n"
          ],
          "name": "stdout"
        }
      ]
    },
    {
      "cell_type": "markdown",
      "metadata": {
        "id": "PnN7xe2a4nOx",
        "colab_type": "text"
      },
      "source": [
        "# Tuples\n",
        "\n",
        "* Container of heterogeneous objects    \n",
        "\n",
        "* Immutable"
      ]
    },
    {
      "cell_type": "code",
      "metadata": {
        "id": "v4UVKjqL4mYQ",
        "colab_type": "code",
        "outputId": "494f1c6a-062e-4241-a3c1-c9f459285e20",
        "colab": {
          "base_uri": "https://localhost:8080/",
          "height": 35
        }
      },
      "source": [
        "# creating a tuple\n",
        "t = (5,'program', 1+3j)\n",
        "print(t)"
      ],
      "execution_count": 0,
      "outputs": [
        {
          "output_type": "stream",
          "text": [
            "(5, 'program', (1+3j))\n"
          ],
          "name": "stdout"
        }
      ]
    },
    {
      "cell_type": "code",
      "metadata": {
        "id": "qwi_ybso4pZL",
        "colab_type": "code",
        "outputId": "a682e18c-6c74-4ed2-d8eb-ac22ae7a2c34",
        "colab": {
          "base_uri": "https://localhost:8080/",
          "height": 53
        }
      },
      "source": [
        "# accessing elements\n",
        "\n",
        "print(\"t[1] = \", t[1])\n",
        "# t[1] = 'program'\n",
        "\n",
        "print(\"t[0:3] = \", t[0:3])\n",
        "# t[0:3] = (5, 'program', (1+3j))"
      ],
      "execution_count": 0,
      "outputs": [
        {
          "output_type": "stream",
          "text": [
            "t[1] =  program\n",
            "t[0:3] =  (5, 'program', (1+3j))\n"
          ],
          "name": "stdout"
        }
      ]
    },
    {
      "cell_type": "code",
      "metadata": {
        "id": "z6qrV3U28NG7",
        "colab_type": "code",
        "outputId": "072f7cbd-a953-491c-c7c0-d9d9f06b8c4f",
        "colab": {
          "base_uri": "https://localhost:8080/",
          "height": 172
        }
      },
      "source": [
        "# Tuples are immutable\n",
        "# The following code generates error\n",
        "t[0] = 10"
      ],
      "execution_count": 0,
      "outputs": [
        {
          "output_type": "error",
          "ename": "TypeError",
          "evalue": "ignored",
          "traceback": [
            "\u001b[0;31m---------------------------------------------------------------------------\u001b[0m",
            "\u001b[0;31mTypeError\u001b[0m                                 Traceback (most recent call last)",
            "\u001b[0;32m<ipython-input-25-88963aa635fa>\u001b[0m in \u001b[0;36m<module>\u001b[0;34m()\u001b[0m\n\u001b[0;32m----> 1\u001b[0;31m \u001b[0mt\u001b[0m\u001b[0;34m[\u001b[0m\u001b[0;36m0\u001b[0m\u001b[0;34m]\u001b[0m \u001b[0;34m=\u001b[0m \u001b[0;36m10\u001b[0m\u001b[0;34m\u001b[0m\u001b[0;34m\u001b[0m\u001b[0m\n\u001b[0m",
            "\u001b[0;31mTypeError\u001b[0m: 'tuple' object does not support item assignment"
          ]
        }
      ]
    },
    {
      "cell_type": "markdown",
      "metadata": {
        "id": "-YtIFKOON4yz",
        "colab_type": "text"
      },
      "source": [
        "# Dictionaries"
      ]
    },
    {
      "cell_type": "code",
      "metadata": {
        "id": "I3PGlQmdN6fZ",
        "colab_type": "code",
        "colab": {}
      },
      "source": [
        "d = {'cat':'cute', 'dog':'furry'}   # creates a new dictionary\n",
        "print(d['cat'])\n",
        "print('cat' in d)"
      ],
      "execution_count": 0,
      "outputs": []
    },
    {
      "cell_type": "code",
      "metadata": {
        "id": "fvJTCaNsOXyW",
        "colab_type": "code",
        "colab": {}
      },
      "source": [
        "d2 = {0:'hello', 1:'world'}\n",
        "print(d2[1])\n",
        "d3 = {'sbs':6, 'kbs2':7, 'kbs1':9, 'mbc':11}\n",
        "print(\"kbs1 =\", d3['kbs1'])"
      ],
      "execution_count": 0,
      "outputs": []
    },
    {
      "cell_type": "code",
      "metadata": {
        "id": "NkvloAnzOBLN",
        "colab_type": "code",
        "colab": {}
      },
      "source": [
        "d['fish'] = 'wet'    # set an entry in a dictionary\n",
        "print(d['fish'])"
      ],
      "execution_count": 0,
      "outputs": []
    },
    {
      "cell_type": "code",
      "metadata": {
        "id": "kes9hh_OO-4P",
        "colab_type": "code",
        "colab": {}
      },
      "source": [
        "# this code causes an error because there is no key 'chicken'\n",
        "print(d['chicken'])                 # ERROR"
      ],
      "execution_count": 0,
      "outputs": []
    },
    {
      "cell_type": "code",
      "metadata": {
        "id": "oyrNs_Q0OHA3",
        "colab_type": "code",
        "colab": {}
      },
      "source": [
        "print(d.get('monkey', 'N/A'))  # Get an element with a default; prints \"N/A\"\n",
        "del d['fish']         # remove an element from a dictionary\n",
        "print(d.get('fish', 'N/A')) # \"fish\" is no longer a key; prints \"N/A\""
      ],
      "execution_count": 0,
      "outputs": []
    },
    {
      "cell_type": "markdown",
      "metadata": {
        "id": "HCwwrT8Nsef3",
        "colab_type": "text"
      },
      "source": [
        "# Function"
      ]
    },
    {
      "cell_type": "code",
      "metadata": {
        "id": "42vld-6KpSqX",
        "colab_type": "code",
        "colab": {}
      },
      "source": [
        "def is_even(x):\n",
        "   if x % 2 == 0:\n",
        "      return True\n",
        "   else:\n",
        "      return False"
      ],
      "execution_count": 0,
      "outputs": []
    },
    {
      "cell_type": "code",
      "metadata": {
        "id": "_0Bee6LPsTVl",
        "colab_type": "code",
        "colab": {}
      },
      "source": [
        "print(\"is_even(20) = {}\".format(is_even(20)))\n",
        "print(\"is_even(35) = {}\".format(is_even(35)))"
      ],
      "execution_count": 0,
      "outputs": []
    },
    {
      "cell_type": "markdown",
      "metadata": {
        "id": "Ev2rm5PHvnqh",
        "colab_type": "text"
      },
      "source": [
        "# Class\n",
        "\n"
      ]
    },
    {
      "cell_type": "code",
      "metadata": {
        "id": "OuEe_PMfschP",
        "colab_type": "code",
        "colab": {}
      },
      "source": [
        "# defining a class\n",
        "class Hello:\n",
        "    def __init__(self, message):\n",
        "        self.mesg = message      \n",
        "      \n",
        "    def display(self):\n",
        "        print('=' * 20, end = '')\n",
        "        print(self.mesg, end = '')\n",
        "        print('=' * 20, end = '')\n",
        "        \n",
        "    def get_message(self):\n",
        "        return self.mesg"
      ],
      "execution_count": 0,
      "outputs": []
    },
    {
      "cell_type": "code",
      "metadata": {
        "id": "w1FAgPbnwL8m",
        "colab_type": "code",
        "colab": {}
      },
      "source": [
        "# creating a class object\n",
        "hello = Hello('nice to see you!')"
      ],
      "execution_count": 0,
      "outputs": []
    },
    {
      "cell_type": "code",
      "metadata": {
        "id": "OINhVC65wTLc",
        "colab_type": "code",
        "colab": {}
      },
      "source": [
        "# calling methods\n",
        "hello.display()\n",
        "print(\"message = \", hello.get_message())"
      ],
      "execution_count": 0,
      "outputs": []
    },
    {
      "cell_type": "markdown",
      "metadata": {
        "id": "sp1zL4lVsWWw",
        "colab_type": "text"
      },
      "source": [
        "# Exercises problem: Finding prime numbers\n",
        "\n",
        "Print all prime numbers between 1 and 100\n",
        "\n",
        "1. Define a function **is_prime(x)** that decides whether x is prime or not\n",
        "\n",
        "1. Test all numbers from 1 to 100, and put prime numbers into a list"
      ]
    },
    {
      "cell_type": "code",
      "metadata": {
        "id": "o9yU2wm6svv8",
        "colab_type": "code",
        "colab": {}
      },
      "source": [
        "def is_prime(x):\n",
        "  if x <= 1:\n",
        "    return False\n",
        "  \n",
        "  prime = True\n",
        "  for i in range(2, int(x/2)+1):\n",
        "    if x % i == 0:\n",
        "      prime = False;\n",
        "      break;\n",
        "  return prime"
      ],
      "execution_count": 0,
      "outputs": []
    },
    {
      "cell_type": "code",
      "metadata": {
        "id": "GFXGIl8xsVvd",
        "colab_type": "code",
        "outputId": "f24ff419-37fc-4035-85da-554a050442ea",
        "colab": {
          "base_uri": "https://localhost:8080/",
          "height": 35
        }
      },
      "source": [
        "# initialize prime by an empty list\n",
        "prime = []\n",
        "\n",
        "# put  all prime numbers between 1 and 100\n",
        "for i in range(1, 101):\n",
        "  if is_prime(i) == True:\n",
        "    prime.append(i)\n",
        "\n",
        "print(\"Prime number between 1 and 100: \", prime)"
      ],
      "execution_count": 0,
      "outputs": [
        {
          "output_type": "stream",
          "text": [
            "Prime number between 1 and 100:  [2, 3, 5, 7, 11, 13, 17, 19, 23, 29, 31, 37, 41, 43, 47, 53, 59, 61, 67, 71, 73, 79, 83, 89, 97]\n"
          ],
          "name": "stdout"
        }
      ]
    },
    {
      "cell_type": "markdown",
      "metadata": {
        "id": "7WW3KmtKPT-E",
        "colab_type": "text"
      },
      "source": [
        "# Numpy Arrays\n",
        "\n",
        "\n",
        "Methods of array\n",
        "\n",
        "* append()\tAdds an element at the end of the list\n",
        "* clear()\tRemoves all the elements from the list\n",
        "* copy()\tReturns a copy of the list\n",
        "* count()\tReturns the number of elements with the specified value\n",
        "* extend()\tAdd the elements of a list (or any iterable), to the end of the current list\n",
        "* index()\tReturns the index of the first element with the specified value\n",
        "* insert()\tAdds an element at the specified position\n",
        "* pop()\tRemoves the element at the specified position\n",
        "* remove()\tRemoves the first item with the specified value\n",
        "* reverse()\tReverses the order of the list\n",
        "* sort()\tSorts the list"
      ]
    },
    {
      "cell_type": "code",
      "metadata": {
        "id": "zAV8w3VcPfy7",
        "colab_type": "code",
        "colab": {}
      },
      "source": [
        "import numpy as np"
      ],
      "execution_count": 0,
      "outputs": []
    },
    {
      "cell_type": "code",
      "metadata": {
        "id": "SiyKRh1fxMEk",
        "colab_type": "code",
        "colab": {}
      },
      "source": [
        "a = np.array([1, 2, 3])\n",
        "print(type(a))\n",
        "print(a.shape)"
      ],
      "execution_count": 0,
      "outputs": []
    },
    {
      "cell_type": "code",
      "metadata": {
        "id": "HhMXUJCfPaIj",
        "colab_type": "code",
        "colab": {}
      },
      "source": [
        "print(a[0], a[1], a[2])\n",
        "a[0] = 5                  \t# Change an element of the array\n",
        "print(a)"
      ],
      "execution_count": 0,
      "outputs": []
    },
    {
      "cell_type": "markdown",
      "metadata": {
        "id": "eyAy1b6PPpA6",
        "colab_type": "text"
      },
      "source": [
        "## 2D array"
      ]
    },
    {
      "cell_type": "code",
      "metadata": {
        "id": "9kCEfPchPiEY",
        "colab_type": "code",
        "colab": {}
      },
      "source": [
        "b = np.array([[1,2,3],[4,5,6]])    # Create a 2D array\n",
        "print(b)\n",
        "print(b.shape)\n",
        "print(b[0, 0], b[0, 1], b[1, 0])"
      ],
      "execution_count": 0,
      "outputs": []
    },
    {
      "cell_type": "code",
      "metadata": {
        "id": "iE1ukmDBPr_f",
        "colab_type": "code",
        "colab": {}
      },
      "source": [
        "a = np.zeros((2,3))   # Create an array of all zeros\n",
        "print(a)\n",
        "\n",
        "b = np.ones((1,2))    # Create an array of all ones\n",
        "print(b)\n",
        "\n",
        "c = np.full((2,3), 7)  # Create a constant array\n",
        "print(c)\n",
        "\n",
        "d = np.eye(2)      # Create a 2x2 identity matrix\n",
        "print(d)\n",
        "\n",
        "e = np.random.random((2,2))  # Create an array filled with random values\n",
        "print(e)"
      ],
      "execution_count": 0,
      "outputs": []
    },
    {
      "cell_type": "markdown",
      "metadata": {
        "id": "P5N--eQSQKXb",
        "colab_type": "text"
      },
      "source": [
        "## array slicing"
      ]
    },
    {
      "cell_type": "code",
      "metadata": {
        "id": "mrMW-0GpP1jL",
        "colab_type": "code",
        "colab": {}
      },
      "source": [
        "# Create the following rank 2 array with shape (3, 4)\n",
        "a = np.array([[1,2,3,4], [5,6,7,8], [9,10,11,12]])\n",
        "print(a)"
      ],
      "execution_count": 0,
      "outputs": []
    },
    {
      "cell_type": "code",
      "metadata": {
        "id": "hwtMmzJ9QPRM",
        "colab_type": "code",
        "colab": {}
      },
      "source": [
        "b = a[:2, 1:3]\n",
        "print(b)"
      ],
      "execution_count": 0,
      "outputs": []
    },
    {
      "cell_type": "code",
      "metadata": {
        "id": "pZQdkaCiQRQ7",
        "colab_type": "code",
        "colab": {}
      },
      "source": [
        "# A slice of an array is a view into the same data, so modifying it will modify the original array.\n",
        "print(a[0, 1])\n",
        "b[0, 0] = 77                 # b[0, 0] is the same piece of data as a[0, 1]\n",
        "print(a[0, 1])"
      ],
      "execution_count": 0,
      "outputs": []
    },
    {
      "cell_type": "code",
      "metadata": {
        "id": "FM7CVbJjQU84",
        "colab_type": "code",
        "colab": {}
      },
      "source": [
        "row_r1 = a[1, :]             # Rank 1 view of the second row of a\n",
        "row_r2 = a[1:2, :]           # Rank 2 view of the second row of a\n",
        "print(row_r1, row_r1.shape)\n",
        "print(row_r2, row_r2.shape)"
      ],
      "execution_count": 0,
      "outputs": []
    },
    {
      "cell_type": "code",
      "metadata": {
        "id": "86SHMjnTQh2R",
        "colab_type": "code",
        "colab": {}
      },
      "source": [
        "col_r1 = a[:, 1]\n",
        "print(col_r1, col_r1.shape)\n",
        "col_r2 = a[:, 1:2]\n",
        "print(col_r2, col_r2.shape)"
      ],
      "execution_count": 0,
      "outputs": []
    },
    {
      "cell_type": "markdown",
      "metadata": {
        "id": "4SG7oafMQsZv",
        "colab_type": "text"
      },
      "source": [
        "## array broadcasting"
      ]
    },
    {
      "cell_type": "code",
      "metadata": {
        "id": "OamxEcBuQnW5",
        "colab_type": "code",
        "colab": {}
      },
      "source": [
        "# We will add the vector v to each row of the matrix x,\n",
        "# storing the result in the matrix y\n",
        "x = np.array([[1,2,3], [4,5,6], [7,8,9], [10, 11, 12]])\n",
        "v = np.array([1, 0, 1])\n",
        "y = x + v  # Add v to each row of x using broadcasting\n",
        "print(y)  "
      ],
      "execution_count": 0,
      "outputs": []
    },
    {
      "cell_type": "markdown",
      "metadata": {
        "id": "7Lz_7rjx4_VR",
        "colab_type": "text"
      },
      "source": [
        "## dot product and matrix multiplication"
      ]
    },
    {
      "cell_type": "code",
      "metadata": {
        "id": "lgOCspjH5ClO",
        "colab_type": "code",
        "colab": {
          "base_uri": "https://localhost:8080/",
          "height": 53
        },
        "outputId": "ad462eed-c4d2-4c0b-cbc2-d2bdafd551a1"
      },
      "source": [
        "# 1D arrays\n",
        "a = np.array([1, 0, 2, 5])\n",
        "b = np.array([4, 1, 3, 2])\n",
        "print(\"a = \", a)\n",
        "print(\"b = \", b)"
      ],
      "execution_count": 12,
      "outputs": [
        {
          "output_type": "stream",
          "text": [
            "a =  [1 0 2 5]\n",
            "b =  [4 1 3 2]\n"
          ],
          "name": "stdout"
        }
      ]
    },
    {
      "cell_type": "code",
      "metadata": {
        "id": "FjBXPNgp5QV5",
        "colab_type": "code",
        "colab": {
          "base_uri": "https://localhost:8080/",
          "height": 35
        },
        "outputId": "6af5c35d-3cb8-4c5b-e81c-c75bdd2974e2"
      },
      "source": [
        "# dot product\n",
        "print(\"np.dot(a, b) = \", np.dot(a, b))"
      ],
      "execution_count": 14,
      "outputs": [
        {
          "output_type": "stream",
          "text": [
            "np.dot(a, b) =  20\n"
          ],
          "name": "stdout"
        }
      ]
    },
    {
      "cell_type": "code",
      "metadata": {
        "id": "bbZ9wy9S5U1Q",
        "colab_type": "code",
        "colab": {}
      },
      "source": [
        "# 2D arrays\n",
        "a = np.array([[1, 0, 2],\n",
        "              [0, 1, 4]])\n",
        "b = np.array([[4, 1],\n",
        "              [2, 2],\n",
        "              [3, 5]])\n",
        "print(\"a = \", a)\n",
        "print(\"b = \", b)             "
      ],
      "execution_count": 0,
      "outputs": []
    },
    {
      "cell_type": "code",
      "metadata": {
        "id": "5jH-Tyj95U7C",
        "colab_type": "code",
        "colab": {}
      },
      "source": [
        "# matrix multiplication\n",
        "print(\"np.matmul(a, b) = \")\n",
        "print(np.matmul(a, b))\n",
        "print(\"np.matmul(b, a) = \")\n",
        "print(np.matmul(b, a))"
      ],
      "execution_count": 0,
      "outputs": []
    },
    {
      "cell_type": "markdown",
      "metadata": {
        "id": "MeDITU1hRFrL",
        "colab_type": "text"
      },
      "source": [
        "# matplotlib\n",
        "\n",
        "for detail, see https://matplotlib.org/api/_as_gen/matplotlib.pyplot.plot.html"
      ]
    },
    {
      "cell_type": "code",
      "metadata": {
        "id": "5PEVBpCVQy_Z",
        "colab_type": "code",
        "colab": {}
      },
      "source": [
        "import numpy as np\n",
        "import matplotlib.pyplot as plt"
      ],
      "execution_count": 0,
      "outputs": []
    },
    {
      "cell_type": "code",
      "metadata": {
        "id": "t6DT_s4oRKdm",
        "colab_type": "code",
        "colab": {}
      },
      "source": [
        "# Compute the x and y coordinates for points on sine and cosine curves\n",
        "x = np.arange(0, 3 * np.pi, 0.1)\n",
        "y_sin = np.sin(x)\n",
        "y_cos = np.cos(x)"
      ],
      "execution_count": 0,
      "outputs": []
    },
    {
      "cell_type": "code",
      "metadata": {
        "id": "7jYe5yOiROc4",
        "colab_type": "code",
        "colab": {}
      },
      "source": [
        "# Plot the points using matplotlib\n",
        "plt.plot(x, y_sin)\n",
        "plt.plot(x, y_cos)\n",
        "plt.xlabel('x axis label')\n",
        "plt.ylabel('y axis label')\n",
        "plt.title('Sine and Cosine')\n",
        "plt.legend(['Sine', 'Cosine'])\n",
        "plt.show()"
      ],
      "execution_count": 0,
      "outputs": []
    },
    {
      "cell_type": "code",
      "metadata": {
        "id": "LBhAhWSaRTYQ",
        "colab_type": "code",
        "colab": {}
      },
      "source": [
        "# Set up a subplot grid that has height 2 and width 1,\n",
        "# and set the first such subplot as active.\n",
        "plt.subplot(2, 1, 1)\n",
        "plt.plot(x, y_sin)\n",
        "plt.title('Sine')\n",
        "\n",
        "# Set the second subplot as active, and make the second plot.\n",
        "plt.subplot(2, 1, 2)\n",
        "plt.plot(x, y_cos)\n",
        "plt.title('Cosine')\n",
        "\n",
        "# Show the figure.\n",
        "plt.show()"
      ],
      "execution_count": 0,
      "outputs": []
    },
    {
      "cell_type": "code",
      "metadata": {
        "id": "vCc_SO4dRi8U",
        "colab_type": "code",
        "colab": {}
      },
      "source": [
        ""
      ],
      "execution_count": 0,
      "outputs": []
    }
  ]
}