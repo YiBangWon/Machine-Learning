{
  "nbformat": 4,
  "nbformat_minor": 0,
  "metadata": {
    "colab": {
      "name": "transfer learning (ants and bees).ipynb",
      "provenance": [],
      "collapsed_sections": [],
      "include_colab_link": true
    },
    "kernelspec": {
      "name": "python3",
      "display_name": "Python 3"
    },
    "accelerator": "GPU"
  },
  "cells": [
    {
      "cell_type": "markdown",
      "metadata": {
        "id": "view-in-github",
        "colab_type": "text"
      },
      "source": [
        "<a href=\"https://colab.research.google.com/github/callee2006/MachineLearning/blob/master/transfer_learning_(ants_and_bees).ipynb\" target=\"_parent\"><img src=\"https://colab.research.google.com/assets/colab-badge.svg\" alt=\"Open In Colab\"/></a>"
      ]
    },
    {
      "cell_type": "markdown",
      "metadata": {
        "id": "fn_uI6Bf9XIW",
        "colab_type": "text"
      },
      "source": [
        "# Transfer learning\n",
        "\n",
        "0. Get a model trained on a large-scale dataset.\n",
        "   (e.g. ILSVRC dataset)\n",
        "\n",
        "1. Take feature extraction layers of the pretrained model (Remove the classification layer and take only feature extraction layers)\n",
        "\n",
        "2. Add classification layer for the target task on top of the feature extraction layers.\n",
        "\n",
        "3. Learn the new classification layer on the target dataset.\n",
        "\n",
        "\n"
      ]
    },
    {
      "cell_type": "markdown",
      "metadata": {
        "id": "n1VSSgwlChE1",
        "colab_type": "text"
      },
      "source": [
        "# Classification of ant and bee images\n",
        "\n",
        "* Target dataset: ants and bees\n",
        "  - Two classes { ant, bee }\n",
        "  - train set: 123 ant images + 121 bee images \n",
        "  - validation set: 70 ant images + 83 bee imges\n",
        "\n",
        "* Dataset for pre-trining: ILSVRC (ImageNet Large-Scale Visual Recognition Challenge)\n",
        "  - 1000 object classes\n",
        "  - 1.3M training samples, 50K validation samples, 100k test samples\n",
        "\n",
        "\n",
        "\n",
        "출처 :\n",
        "- (Original) https://pytorch.org/tutorials/beginner/transfer_learning_tutorial.html\n",
        "\n",
        "- (Korean) https://blog.naver.com/PostView.nhn?blogId=ckdgus1433&logNo=221407059199&parentCategoryNo=&categoryNo=&viewDate=&isShowPopularPosts=false&from=postView"
      ]
    },
    {
      "cell_type": "code",
      "metadata": {
        "id": "SWafKax35FB4",
        "colab_type": "code",
        "colab": {}
      },
      "source": [
        "import torch\n",
        "import torch.nn as nn\n",
        "import torch.optim as optim\n",
        "from torch.optim import lr_scheduler\n",
        "import numpy as np\n",
        "import torchvision\n",
        "from torchvision import datasets, models, transforms\n",
        "import matplotlib.pyplot as plt\n",
        "import time\n",
        "import os\n",
        "import copy\n",
        "\n",
        "plt.ion()   # interactive mode"
      ],
      "execution_count": 0,
      "outputs": []
    },
    {
      "cell_type": "code",
      "metadata": {
        "id": "sRJY_9L3OL7m",
        "colab_type": "code",
        "outputId": "56a7364f-645e-4c05-bdbe-26bb5b7082bc",
        "colab": {
          "base_uri": "https://localhost:8080/",
          "height": 35
        }
      },
      "source": [
        "# download data from https://download.pytorch.org/tutorial/hymenoptera_data.zip\n",
        "# Run the following code just once.\n",
        "!wget https://download.pytorch.org/tutorial/hymenoptera_data.zip\n",
        "!unzip hymenoptera_data.zip"
      ],
      "execution_count": 0,
      "outputs": [
        {
          "output_type": "stream",
          "text": [
            "hymenoptera_data  hymenoptera_data.zip\tsample_data\n"
          ],
          "name": "stdout"
        }
      ]
    },
    {
      "cell_type": "code",
      "metadata": {
        "id": "M0W9UhfyEdqb",
        "colab_type": "code",
        "colab": {}
      },
      "source": [
        "!ls hymenoptera_data"
      ],
      "execution_count": 0,
      "outputs": []
    },
    {
      "cell_type": "code",
      "metadata": {
        "id": "5BOtGSOn8pbQ",
        "colab_type": "code",
        "outputId": "d6d15b62-4dac-4f3c-cbfd-100f7f313f7c",
        "colab": {
          "base_uri": "https://localhost:8080/",
          "height": 127
        }
      },
      "source": [
        "# from google.colab import drive\n",
        "# drive.mount('/gdrive', force_remount=True)"
      ],
      "execution_count": 0,
      "outputs": [
        {
          "output_type": "stream",
          "text": [
            "Go to this URL in a browser: https://accounts.google.com/o/oauth2/auth?client_id=947318989803-6bn6qk8qdgf4n4g3pfee6491hc0brc4i.apps.googleusercontent.com&redirect_uri=urn%3aietf%3awg%3aoauth%3a2.0%3aoob&response_type=code&scope=email%20https%3a%2f%2fwww.googleapis.com%2fauth%2fdocs.test%20https%3a%2f%2fwww.googleapis.com%2fauth%2fdrive%20https%3a%2f%2fwww.googleapis.com%2fauth%2fdrive.photos.readonly%20https%3a%2f%2fwww.googleapis.com%2fauth%2fpeopleapi.readonly\n",
            "\n",
            "Enter your authorization code:\n",
            "··········\n",
            "Mounted at /gdrive\n"
          ],
          "name": "stdout"
        }
      ]
    },
    {
      "cell_type": "markdown",
      "metadata": {
        "id": "_huwQ5yfLvqz",
        "colab_type": "text"
      },
      "source": [
        "## References\n",
        "\n",
        "* torchvision.datasets.ImageFolder class: https://pytorch.org/docs/stable/torchvision/datasets.html#imagefolder\n"
      ]
    },
    {
      "cell_type": "code",
      "metadata": {
        "id": "vieyQHbS5OAO",
        "colab_type": "code",
        "outputId": "c3adcf07-1e39-4a67-ee5c-5e38febe2154",
        "colab": {
          "base_uri": "https://localhost:8080/",
          "height": 71
        }
      },
      "source": [
        "# transform for data augmentation (data augmentation improves generalization)\n",
        "\n",
        "data_transforms = {\n",
        "    # transform for training\n",
        "    'train': transforms.Compose([\n",
        "        transforms.RandomResizedCrop(224),\n",
        "        transforms.RandomHorizontalFlip(),\n",
        "        transforms.ToTensor(),\n",
        "        transforms.Normalize([0.485, 0.456, 0.406], [0.229, 0.224, 0.225])\n",
        "    ]),\n",
        "\n",
        "    # transform for test\n",
        "    'val': transforms.Compose([\n",
        "        transforms.Resize(256),\n",
        "        transforms.CenterCrop(224),\n",
        "        transforms.ToTensor(),\n",
        "        transforms.Normalize([0.485, 0.456, 0.406], [0.229, 0.224, 0.225])\n",
        "    ]),\n",
        "}\n",
        "\n",
        "#data_dir = '/gdrive/My Drive/Colab Notebooks/hymenoptera_data'\n",
        "data_dir = 'hymenoptera_data'\n",
        "image_datasets = {x: datasets.ImageFolder(os.path.join(data_dir, x),\n",
        "                                          data_transforms[x])\n",
        "                  for x in ['train', 'val']}\n",
        "\n",
        "dataloaders = { 'train' : torch.utils.data.DataLoader(image_datasets['train'], batch_size=4,\n",
        "                                             shuffle=True, num_workers=4),\n",
        "                'val' : torch.utils.data.DataLoader(image_datasets['val'], batch_size=4,\n",
        "                                             shuffle=True, num_workers=4) }\n",
        "\n",
        "dataset_sizes = {x: len(image_datasets[x]) for x in ['train', 'val']}\n",
        "print(\"# of training samples: \", dataset_sizes['train'])\n",
        "print(\"# of test samples: \", dataset_sizes['val'])\n",
        "\n",
        "class_names = image_datasets['train'].classes\n",
        "print(\"class_names = \", class_names)"
      ],
      "execution_count": 0,
      "outputs": [
        {
          "output_type": "stream",
          "text": [
            "# of training samples:  244\n",
            "# of test samples:  153\n",
            "class_names =  ['ants', 'bees']\n"
          ],
          "name": "stdout"
        }
      ]
    },
    {
      "cell_type": "code",
      "metadata": {
        "id": "GDLO6j7yFuAO",
        "colab_type": "code",
        "outputId": "4bdd062d-00bf-442f-c2ff-e590b4e3b6e7",
        "colab": {
          "base_uri": "https://localhost:8080/",
          "height": 809
        }
      },
      "source": [
        "dir(image_datasets['train'])"
      ],
      "execution_count": 0,
      "outputs": [
        {
          "output_type": "execute_result",
          "data": {
            "text/plain": [
              "['__add__',\n",
              " '__class__',\n",
              " '__delattr__',\n",
              " '__dict__',\n",
              " '__dir__',\n",
              " '__doc__',\n",
              " '__eq__',\n",
              " '__format__',\n",
              " '__ge__',\n",
              " '__getattribute__',\n",
              " '__getitem__',\n",
              " '__gt__',\n",
              " '__hash__',\n",
              " '__init__',\n",
              " '__init_subclass__',\n",
              " '__le__',\n",
              " '__len__',\n",
              " '__lt__',\n",
              " '__module__',\n",
              " '__ne__',\n",
              " '__new__',\n",
              " '__reduce__',\n",
              " '__reduce_ex__',\n",
              " '__repr__',\n",
              " '__setattr__',\n",
              " '__sizeof__',\n",
              " '__str__',\n",
              " '__subclasshook__',\n",
              " '__weakref__',\n",
              " '_find_classes',\n",
              " '_format_transform_repr',\n",
              " '_repr_indent',\n",
              " 'class_to_idx',\n",
              " 'classes',\n",
              " 'extensions',\n",
              " 'extra_repr',\n",
              " 'imgs',\n",
              " 'loader',\n",
              " 'root',\n",
              " 'samples',\n",
              " 'target_transform',\n",
              " 'targets',\n",
              " 'transform',\n",
              " 'transforms']"
            ]
          },
          "metadata": {
            "tags": []
          },
          "execution_count": 53
        }
      ]
    },
    {
      "cell_type": "code",
      "metadata": {
        "id": "Ymkc-ow4LRjb",
        "colab_type": "code",
        "outputId": "308fa3dc-85ab-49ac-b86f-375a2fe8a56c",
        "colab": {
          "base_uri": "https://localhost:8080/",
          "height": 1000
        }
      },
      "source": [
        "image_datasets['train'].imgs"
      ],
      "execution_count": 0,
      "outputs": [
        {
          "output_type": "execute_result",
          "data": {
            "text/plain": [
              "[('hymenoptera_data/train/ants/0013035.jpg', 0),\n",
              " ('hymenoptera_data/train/ants/1030023514_aad5c608f9.jpg', 0),\n",
              " ('hymenoptera_data/train/ants/1095476100_3906d8afde.jpg', 0),\n",
              " ('hymenoptera_data/train/ants/1099452230_d1949d3250.jpg', 0),\n",
              " ('hymenoptera_data/train/ants/116570827_e9c126745d.jpg', 0),\n",
              " ('hymenoptera_data/train/ants/1225872729_6f0856588f.jpg', 0),\n",
              " ('hymenoptera_data/train/ants/1262877379_64fcada201.jpg', 0),\n",
              " ('hymenoptera_data/train/ants/1269756697_0bce92cdab.jpg', 0),\n",
              " ('hymenoptera_data/train/ants/1286984635_5119e80de1.jpg', 0),\n",
              " ('hymenoptera_data/train/ants/132478121_2a430adea2.jpg', 0),\n",
              " ('hymenoptera_data/train/ants/1360291657_dc248c5eea.jpg', 0),\n",
              " ('hymenoptera_data/train/ants/1368913450_e146e2fb6d.jpg', 0),\n",
              " ('hymenoptera_data/train/ants/1473187633_63ccaacea6.jpg', 0),\n",
              " ('hymenoptera_data/train/ants/148715752_302c84f5a4.jpg', 0),\n",
              " ('hymenoptera_data/train/ants/1489674356_09d48dde0a.jpg', 0),\n",
              " ('hymenoptera_data/train/ants/149244013_c529578289.jpg', 0),\n",
              " ('hymenoptera_data/train/ants/150801003_3390b73135.jpg', 0),\n",
              " ('hymenoptera_data/train/ants/150801171_cd86f17ed8.jpg', 0),\n",
              " ('hymenoptera_data/train/ants/154124431_65460430f2.jpg', 0),\n",
              " ('hymenoptera_data/train/ants/162603798_40b51f1654.jpg', 0),\n",
              " ('hymenoptera_data/train/ants/1660097129_384bf54490.jpg', 0),\n",
              " ('hymenoptera_data/train/ants/167890289_dd5ba923f3.jpg', 0),\n",
              " ('hymenoptera_data/train/ants/1693954099_46d4c20605.jpg', 0),\n",
              " ('hymenoptera_data/train/ants/175998972.jpg', 0),\n",
              " ('hymenoptera_data/train/ants/178538489_bec7649292.jpg', 0),\n",
              " ('hymenoptera_data/train/ants/1804095607_0341701e1c.jpg', 0),\n",
              " ('hymenoptera_data/train/ants/1808777855_2a895621d7.jpg', 0),\n",
              " ('hymenoptera_data/train/ants/188552436_605cc9b36b.jpg', 0),\n",
              " ('hymenoptera_data/train/ants/1917341202_d00a7f9af5.jpg', 0),\n",
              " ('hymenoptera_data/train/ants/1924473702_daa9aacdbe.jpg', 0),\n",
              " ('hymenoptera_data/train/ants/196057951_63bf063b92.jpg', 0),\n",
              " ('hymenoptera_data/train/ants/196757565_326437f5fe.jpg', 0),\n",
              " ('hymenoptera_data/train/ants/201558278_fe4caecc76.jpg', 0),\n",
              " ('hymenoptera_data/train/ants/201790779_527f4c0168.jpg', 0),\n",
              " ('hymenoptera_data/train/ants/2019439677_2db655d361.jpg', 0),\n",
              " ('hymenoptera_data/train/ants/207947948_3ab29d7207.jpg', 0),\n",
              " ('hymenoptera_data/train/ants/20935278_9190345f6b.jpg', 0),\n",
              " ('hymenoptera_data/train/ants/224655713_3956f7d39a.jpg', 0),\n",
              " ('hymenoptera_data/train/ants/2265824718_2c96f485da.jpg', 0),\n",
              " ('hymenoptera_data/train/ants/2265825502_fff99cfd2d.jpg', 0),\n",
              " ('hymenoptera_data/train/ants/226951206_d6bf946504.jpg', 0),\n",
              " ('hymenoptera_data/train/ants/2278278459_6b99605e50.jpg', 0),\n",
              " ('hymenoptera_data/train/ants/2288450226_a6e96e8fdf.jpg', 0),\n",
              " ('hymenoptera_data/train/ants/2288481644_83ff7e4572.jpg', 0),\n",
              " ('hymenoptera_data/train/ants/2292213964_ca51ce4bef.jpg', 0),\n",
              " ('hymenoptera_data/train/ants/24335309_c5ea483bb8.jpg', 0),\n",
              " ('hymenoptera_data/train/ants/245647475_9523dfd13e.jpg', 0),\n",
              " ('hymenoptera_data/train/ants/255434217_1b2b3fe0a4.jpg', 0),\n",
              " ('hymenoptera_data/train/ants/258217966_d9d90d18d3.jpg', 0),\n",
              " ('hymenoptera_data/train/ants/275429470_b2d7d9290b.jpg', 0),\n",
              " ('hymenoptera_data/train/ants/28847243_e79fe052cd.jpg', 0),\n",
              " ('hymenoptera_data/train/ants/318052216_84dff3f98a.jpg', 0),\n",
              " ('hymenoptera_data/train/ants/334167043_cbd1adaeb9.jpg', 0),\n",
              " ('hymenoptera_data/train/ants/339670531_94b75ae47a.jpg', 0),\n",
              " ('hymenoptera_data/train/ants/342438950_a3da61deab.jpg', 0),\n",
              " ('hymenoptera_data/train/ants/36439863_0bec9f554f.jpg', 0),\n",
              " ('hymenoptera_data/train/ants/374435068_7eee412ec4.jpg', 0),\n",
              " ('hymenoptera_data/train/ants/382971067_0bfd33afe0.jpg', 0),\n",
              " ('hymenoptera_data/train/ants/384191229_5779cf591b.jpg', 0),\n",
              " ('hymenoptera_data/train/ants/386190770_672743c9a7.jpg', 0),\n",
              " ('hymenoptera_data/train/ants/392382602_1b7bed32fa.jpg', 0),\n",
              " ('hymenoptera_data/train/ants/403746349_71384f5b58.jpg', 0),\n",
              " ('hymenoptera_data/train/ants/408393566_b5b694119b.jpg', 0),\n",
              " ('hymenoptera_data/train/ants/424119020_6d57481dab.jpg', 0),\n",
              " ('hymenoptera_data/train/ants/424873399_47658a91fb.jpg', 0),\n",
              " ('hymenoptera_data/train/ants/450057712_771b3bfc91.jpg', 0),\n",
              " ('hymenoptera_data/train/ants/45472593_bfd624f8dc.jpg', 0),\n",
              " ('hymenoptera_data/train/ants/459694881_ac657d3187.jpg', 0),\n",
              " ('hymenoptera_data/train/ants/460372577_f2f6a8c9fc.jpg', 0),\n",
              " ('hymenoptera_data/train/ants/460874319_0a45ab4d05.jpg', 0),\n",
              " ('hymenoptera_data/train/ants/466430434_4000737de9.jpg', 0),\n",
              " ('hymenoptera_data/train/ants/470127037_513711fd21.jpg', 0),\n",
              " ('hymenoptera_data/train/ants/474806473_ca6caab245.jpg', 0),\n",
              " ('hymenoptera_data/train/ants/475961153_b8c13fd405.jpg', 0),\n",
              " ('hymenoptera_data/train/ants/484293231_e53cfc0c89.jpg', 0),\n",
              " ('hymenoptera_data/train/ants/49375974_e28ba6f17e.jpg', 0),\n",
              " ('hymenoptera_data/train/ants/506249802_207cd979b4.jpg', 0),\n",
              " ('hymenoptera_data/train/ants/506249836_717b73f540.jpg', 0),\n",
              " ('hymenoptera_data/train/ants/512164029_c0a66b8498.jpg', 0),\n",
              " ('hymenoptera_data/train/ants/512863248_43c8ce579b.jpg', 0),\n",
              " ('hymenoptera_data/train/ants/518773929_734dbc5ff4.jpg', 0),\n",
              " ('hymenoptera_data/train/ants/522163566_fec115ca66.jpg', 0),\n",
              " ('hymenoptera_data/train/ants/522415432_2218f34bf8.jpg', 0),\n",
              " ('hymenoptera_data/train/ants/531979952_bde12b3bc0.jpg', 0),\n",
              " ('hymenoptera_data/train/ants/533848102_70a85ad6dd.jpg', 0),\n",
              " ('hymenoptera_data/train/ants/535522953_308353a07c.jpg', 0),\n",
              " ('hymenoptera_data/train/ants/540889389_48bb588b21.jpg', 0),\n",
              " ('hymenoptera_data/train/ants/541630764_dbd285d63c.jpg', 0),\n",
              " ('hymenoptera_data/train/ants/543417860_b14237f569.jpg', 0),\n",
              " ('hymenoptera_data/train/ants/560966032_988f4d7bc4.jpg', 0),\n",
              " ('hymenoptera_data/train/ants/5650366_e22b7e1065.jpg', 0),\n",
              " ('hymenoptera_data/train/ants/6240329_72c01e663e.jpg', 0),\n",
              " ('hymenoptera_data/train/ants/6240338_93729615ec.jpg', 0),\n",
              " ('hymenoptera_data/train/ants/649026570_e58656104b.jpg', 0),\n",
              " ('hymenoptera_data/train/ants/662541407_ff8db781e7.jpg', 0),\n",
              " ('hymenoptera_data/train/ants/67270775_e9fdf77e9d.jpg', 0),\n",
              " ('hymenoptera_data/train/ants/6743948_2b8c096dda.jpg', 0),\n",
              " ('hymenoptera_data/train/ants/684133190_35b62c0c1d.jpg', 0),\n",
              " ('hymenoptera_data/train/ants/69639610_95e0de17aa.jpg', 0),\n",
              " ('hymenoptera_data/train/ants/707895295_009cf23188.jpg', 0),\n",
              " ('hymenoptera_data/train/ants/7759525_1363d24e88.jpg', 0),\n",
              " ('hymenoptera_data/train/ants/795000156_a9900a4a71.jpg', 0),\n",
              " ('hymenoptera_data/train/ants/822537660_caf4ba5514.jpg', 0),\n",
              " ('hymenoptera_data/train/ants/82852639_52b7f7f5e3.jpg', 0),\n",
              " ('hymenoptera_data/train/ants/841049277_b28e58ad05.jpg', 0),\n",
              " ('hymenoptera_data/train/ants/886401651_f878e888cd.jpg', 0),\n",
              " ('hymenoptera_data/train/ants/892108839_f1aad4ca46.jpg', 0),\n",
              " ('hymenoptera_data/train/ants/938946700_ca1c669085.jpg', 0),\n",
              " ('hymenoptera_data/train/ants/957233405_25c1d1187b.jpg', 0),\n",
              " ('hymenoptera_data/train/ants/9715481_b3cb4114ff.jpg', 0),\n",
              " ('hymenoptera_data/train/ants/998118368_6ac1d91f81.jpg', 0),\n",
              " ('hymenoptera_data/train/ants/Ant_1.jpg', 0),\n",
              " ('hymenoptera_data/train/ants/MehdiabadiAnt2_600.jpg', 0),\n",
              " ('hymenoptera_data/train/ants/Nepenthes_rafflesiana_ant.jpg', 0),\n",
              " ('hymenoptera_data/train/ants/VietnameseAntMimicSpider.jpg', 0),\n",
              " ('hymenoptera_data/train/ants/ant photos.jpg', 0),\n",
              " ('hymenoptera_data/train/ants/army-ants-red-picture.jpg', 0),\n",
              " ('hymenoptera_data/train/ants/formica.jpeg', 0),\n",
              " ('hymenoptera_data/train/ants/hormiga_co_por.jpg', 0),\n",
              " ('hymenoptera_data/train/ants/kurokusa.jpg', 0),\n",
              " ('hymenoptera_data/train/ants/swiss-army-ant.jpg', 0),\n",
              " ('hymenoptera_data/train/ants/termite-vs-ant.jpg', 0),\n",
              " ('hymenoptera_data/train/ants/trap-jaw-ant-insect-bg.jpg', 0),\n",
              " ('hymenoptera_data/train/bees/1092977343_cb42b38d62.jpg', 1),\n",
              " ('hymenoptera_data/train/bees/1093831624_fb5fbe2308.jpg', 1),\n",
              " ('hymenoptera_data/train/bees/1097045929_1753d1c765.jpg', 1),\n",
              " ('hymenoptera_data/train/bees/1232245714_f862fbe385.jpg', 1),\n",
              " ('hymenoptera_data/train/bees/129236073_0985e91c7d.jpg', 1),\n",
              " ('hymenoptera_data/train/bees/1295655112_7813f37d21.jpg', 1),\n",
              " ('hymenoptera_data/train/bees/132511197_0b86ad0fff.jpg', 1),\n",
              " ('hymenoptera_data/train/bees/132826773_dbbcb117b9.jpg', 1),\n",
              " ('hymenoptera_data/train/bees/150013791_969d9a968b.jpg', 1),\n",
              " ('hymenoptera_data/train/bees/1508176360_2972117c9d.jpg', 1),\n",
              " ('hymenoptera_data/train/bees/154600396_53e1252e52.jpg', 1),\n",
              " ('hymenoptera_data/train/bees/16838648_415acd9e3f.jpg', 1),\n",
              " ('hymenoptera_data/train/bees/1691282715_0addfdf5e8.jpg', 1),\n",
              " ('hymenoptera_data/train/bees/17209602_fe5a5a746f.jpg', 1),\n",
              " ('hymenoptera_data/train/bees/174142798_e5ad6d76e0.jpg', 1),\n",
              " ('hymenoptera_data/train/bees/1799726602_8580867f71.jpg', 1),\n",
              " ('hymenoptera_data/train/bees/1807583459_4fe92b3133.jpg', 1),\n",
              " ('hymenoptera_data/train/bees/196430254_46bd129ae7.jpg', 1),\n",
              " ('hymenoptera_data/train/bees/196658222_3fffd79c67.jpg', 1),\n",
              " ('hymenoptera_data/train/bees/198508668_97d818b6c4.jpg', 1),\n",
              " ('hymenoptera_data/train/bees/2031225713_50ed499635.jpg', 1),\n",
              " ('hymenoptera_data/train/bees/2037437624_2d7bce461f.jpg', 1),\n",
              " ('hymenoptera_data/train/bees/2053200300_8911ef438a.jpg', 1),\n",
              " ('hymenoptera_data/train/bees/205835650_e6f2614bee.jpg', 1),\n",
              " ('hymenoptera_data/train/bees/208702903_42fb4d9748.jpg', 1),\n",
              " ('hymenoptera_data/train/bees/21399619_3e61e5bb6f.jpg', 1),\n",
              " ('hymenoptera_data/train/bees/2227611847_ec72d40403.jpg', 1),\n",
              " ('hymenoptera_data/train/bees/2321139806_d73d899e66.jpg', 1),\n",
              " ('hymenoptera_data/train/bees/2330918208_8074770c20.jpg', 1),\n",
              " ('hymenoptera_data/train/bees/2345177635_caf07159b3.jpg', 1),\n",
              " ('hymenoptera_data/train/bees/2358061370_9daabbd9ac.jpg', 1),\n",
              " ('hymenoptera_data/train/bees/2364597044_3c3e3fc391.jpg', 1),\n",
              " ('hymenoptera_data/train/bees/2384149906_2cd8b0b699.jpg', 1),\n",
              " ('hymenoptera_data/train/bees/2397446847_04ef3cd3e1.jpg', 1),\n",
              " ('hymenoptera_data/train/bees/2405441001_b06c36fa72.jpg', 1),\n",
              " ('hymenoptera_data/train/bees/2445215254_51698ff797.jpg', 1),\n",
              " ('hymenoptera_data/train/bees/2452236943_255bfd9e58.jpg', 1),\n",
              " ('hymenoptera_data/train/bees/2467959963_a7831e9ff0.jpg', 1),\n",
              " ('hymenoptera_data/train/bees/2470492904_837e97800d.jpg', 1),\n",
              " ('hymenoptera_data/train/bees/2477324698_3d4b1b1cab.jpg', 1),\n",
              " ('hymenoptera_data/train/bees/2477349551_e75c97cf4d.jpg', 1),\n",
              " ('hymenoptera_data/train/bees/2486729079_62df0920be.jpg', 1),\n",
              " ('hymenoptera_data/train/bees/2486746709_c43cec0e42.jpg', 1),\n",
              " ('hymenoptera_data/train/bees/2493379287_4100e1dacc.jpg', 1),\n",
              " ('hymenoptera_data/train/bees/2495722465_879acf9d85.jpg', 1),\n",
              " ('hymenoptera_data/train/bees/2528444139_fa728b0f5b.jpg', 1),\n",
              " ('hymenoptera_data/train/bees/2538361678_9da84b77e3.jpg', 1),\n",
              " ('hymenoptera_data/train/bees/2551813042_8a070aeb2b.jpg', 1),\n",
              " ('hymenoptera_data/train/bees/2580598377_a4caecdb54.jpg', 1),\n",
              " ('hymenoptera_data/train/bees/2601176055_8464e6aa71.jpg', 1),\n",
              " ('hymenoptera_data/train/bees/2610833167_79bf0bcae5.jpg', 1),\n",
              " ('hymenoptera_data/train/bees/2610838525_fe8e3cae47.jpg', 1),\n",
              " ('hymenoptera_data/train/bees/2617161745_fa3ebe85b4.jpg', 1),\n",
              " ('hymenoptera_data/train/bees/2625499656_e3415e374d.jpg', 1),\n",
              " ('hymenoptera_data/train/bees/2634617358_f32fd16bea.jpg', 1),\n",
              " ('hymenoptera_data/train/bees/2638074627_6b3ae746a0.jpg', 1),\n",
              " ('hymenoptera_data/train/bees/2645107662_b73a8595cc.jpg', 1),\n",
              " ('hymenoptera_data/train/bees/2651621464_a2fa8722eb.jpg', 1),\n",
              " ('hymenoptera_data/train/bees/2652877533_a564830cbf.jpg', 1),\n",
              " ('hymenoptera_data/train/bees/266644509_d30bb16a1b.jpg', 1),\n",
              " ('hymenoptera_data/train/bees/2683605182_9d2a0c66cf.jpg', 1),\n",
              " ('hymenoptera_data/train/bees/2704348794_eb5d5178c2.jpg', 1),\n",
              " ('hymenoptera_data/train/bees/2707440199_cd170bd512.jpg', 1),\n",
              " ('hymenoptera_data/train/bees/2710368626_cb42882dc8.jpg', 1),\n",
              " ('hymenoptera_data/train/bees/2722592222_258d473e17.jpg', 1),\n",
              " ('hymenoptera_data/train/bees/2728759455_ce9bb8cd7a.jpg', 1),\n",
              " ('hymenoptera_data/train/bees/2756397428_1d82a08807.jpg', 1),\n",
              " ('hymenoptera_data/train/bees/2765347790_da6cf6cb40.jpg', 1),\n",
              " ('hymenoptera_data/train/bees/2781170484_5d61835d63.jpg', 1),\n",
              " ('hymenoptera_data/train/bees/279113587_b4843db199.jpg', 1),\n",
              " ('hymenoptera_data/train/bees/2792000093_e8ae0718cf.jpg', 1),\n",
              " ('hymenoptera_data/train/bees/2801728106_833798c909.jpg', 1),\n",
              " ('hymenoptera_data/train/bees/2822388965_f6dca2a275.jpg', 1),\n",
              " ('hymenoptera_data/train/bees/2861002136_52c7c6f708.jpg', 1),\n",
              " ('hymenoptera_data/train/bees/2908916142_a7ac8b57a8.jpg', 1),\n",
              " ('hymenoptera_data/train/bees/29494643_e3410f0d37.jpg', 1),\n",
              " ('hymenoptera_data/train/bees/2959730355_416a18c63c.jpg', 1),\n",
              " ('hymenoptera_data/train/bees/2962405283_22718d9617.jpg', 1),\n",
              " ('hymenoptera_data/train/bees/3006264892_30e9cced70.jpg', 1),\n",
              " ('hymenoptera_data/train/bees/3030189811_01d095b793.jpg', 1),\n",
              " ('hymenoptera_data/train/bees/3030772428_8578335616.jpg', 1),\n",
              " ('hymenoptera_data/train/bees/3044402684_3853071a87.jpg', 1),\n",
              " ('hymenoptera_data/train/bees/3074585407_9854eb3153.jpg', 1),\n",
              " ('hymenoptera_data/train/bees/3079610310_ac2d0ae7bc.jpg', 1),\n",
              " ('hymenoptera_data/train/bees/3090975720_71f12e6de4.jpg', 1),\n",
              " ('hymenoptera_data/train/bees/3100226504_c0d4f1e3f1.jpg', 1),\n",
              " ('hymenoptera_data/train/bees/342758693_c56b89b6b6.jpg', 1),\n",
              " ('hymenoptera_data/train/bees/354167719_22dca13752.jpg', 1),\n",
              " ('hymenoptera_data/train/bees/359928878_b3b418c728.jpg', 1),\n",
              " ('hymenoptera_data/train/bees/365759866_b15700c59b.jpg', 1),\n",
              " ('hymenoptera_data/train/bees/36900412_92b81831ad.jpg', 1),\n",
              " ('hymenoptera_data/train/bees/39672681_1302d204d1.jpg', 1),\n",
              " ('hymenoptera_data/train/bees/39747887_42df2855ee.jpg', 1),\n",
              " ('hymenoptera_data/train/bees/421515404_e87569fd8b.jpg', 1),\n",
              " ('hymenoptera_data/train/bees/444532809_9e931e2279.jpg', 1),\n",
              " ('hymenoptera_data/train/bees/446296270_d9e8b93ecf.jpg', 1),\n",
              " ('hymenoptera_data/train/bees/452462677_7be43af8ff.jpg', 1),\n",
              " ('hymenoptera_data/train/bees/452462695_40a4e5b559.jpg', 1),\n",
              " ('hymenoptera_data/train/bees/457457145_5f86eb7e9c.jpg', 1),\n",
              " ('hymenoptera_data/train/bees/465133211_80e0c27f60.jpg', 1),\n",
              " ('hymenoptera_data/train/bees/469333327_358ba8fe8a.jpg', 1),\n",
              " ('hymenoptera_data/train/bees/472288710_2abee16fa0.jpg', 1),\n",
              " ('hymenoptera_data/train/bees/473618094_8ffdcab215.jpg', 1),\n",
              " ('hymenoptera_data/train/bees/476347960_52edd72b06.jpg', 1),\n",
              " ('hymenoptera_data/train/bees/478701318_bbd5e557b8.jpg', 1),\n",
              " ('hymenoptera_data/train/bees/507288830_f46e8d4cb2.jpg', 1),\n",
              " ('hymenoptera_data/train/bees/509247772_2db2d01374.jpg', 1),\n",
              " ('hymenoptera_data/train/bees/513545352_fd3e7c7c5d.jpg', 1),\n",
              " ('hymenoptera_data/train/bees/522104315_5d3cb2758e.jpg', 1),\n",
              " ('hymenoptera_data/train/bees/537309131_532bfa59ea.jpg', 1),\n",
              " ('hymenoptera_data/train/bees/586041248_3032e277a9.jpg', 1),\n",
              " ('hymenoptera_data/train/bees/760526046_547e8b381f.jpg', 1),\n",
              " ('hymenoptera_data/train/bees/760568592_45a52c847f.jpg', 1),\n",
              " ('hymenoptera_data/train/bees/774440991_63a4aa0cbe.jpg', 1),\n",
              " ('hymenoptera_data/train/bees/85112639_6e860b0469.jpg', 1),\n",
              " ('hymenoptera_data/train/bees/873076652_eb098dab2d.jpg', 1),\n",
              " ('hymenoptera_data/train/bees/90179376_abc234e5f4.jpg', 1),\n",
              " ('hymenoptera_data/train/bees/92663402_37f379e57a.jpg', 1),\n",
              " ('hymenoptera_data/train/bees/95238259_98470c5b10.jpg', 1),\n",
              " ('hymenoptera_data/train/bees/969455125_58c797ef17.jpg', 1),\n",
              " ('hymenoptera_data/train/bees/98391118_bdb1e80cce.jpg', 1)]"
            ]
          },
          "metadata": {
            "tags": []
          },
          "execution_count": 52
        }
      ]
    },
    {
      "cell_type": "code",
      "metadata": {
        "id": "lCsXh3m7NLRS",
        "colab_type": "code",
        "outputId": "56df5012-441f-4f96-c10d-c269f3bf10bc",
        "colab": {
          "base_uri": "https://localhost:8080/",
          "height": 55
        }
      },
      "source": [
        "print(image_datasets['train'].targets)"
      ],
      "execution_count": 0,
      "outputs": [
        {
          "output_type": "stream",
          "text": [
            "[0, 0, 0, 0, 0, 0, 0, 0, 0, 0, 0, 0, 0, 0, 0, 0, 0, 0, 0, 0, 0, 0, 0, 0, 0, 0, 0, 0, 0, 0, 0, 0, 0, 0, 0, 0, 0, 0, 0, 0, 0, 0, 0, 0, 0, 0, 0, 0, 0, 0, 0, 0, 0, 0, 0, 0, 0, 0, 0, 0, 0, 0, 0, 0, 0, 0, 0, 0, 0, 0, 0, 0, 0, 0, 0, 0, 0, 0, 0, 0, 0, 0, 0, 0, 0, 0, 0, 0, 0, 0, 0, 0, 0, 0, 0, 0, 0, 0, 0, 0, 0, 0, 0, 0, 0, 0, 0, 0, 0, 0, 0, 0, 0, 0, 0, 0, 0, 0, 0, 0, 0, 0, 0, 1, 1, 1, 1, 1, 1, 1, 1, 1, 1, 1, 1, 1, 1, 1, 1, 1, 1, 1, 1, 1, 1, 1, 1, 1, 1, 1, 1, 1, 1, 1, 1, 1, 1, 1, 1, 1, 1, 1, 1, 1, 1, 1, 1, 1, 1, 1, 1, 1, 1, 1, 1, 1, 1, 1, 1, 1, 1, 1, 1, 1, 1, 1, 1, 1, 1, 1, 1, 1, 1, 1, 1, 1, 1, 1, 1, 1, 1, 1, 1, 1, 1, 1, 1, 1, 1, 1, 1, 1, 1, 1, 1, 1, 1, 1, 1, 1, 1, 1, 1, 1, 1, 1, 1, 1, 1, 1, 1, 1, 1, 1, 1, 1, 1, 1, 1, 1, 1, 1, 1, 1]\n"
          ],
          "name": "stdout"
        }
      ]
    },
    {
      "cell_type": "code",
      "metadata": {
        "id": "dDmHGFIIG1gi",
        "colab_type": "code",
        "outputId": "7e97d169-74f3-4348-96e0-d9597fadb308",
        "colab": {
          "base_uri": "https://localhost:8080/",
          "height": 35
        }
      },
      "source": [
        "# count # of samples in each class\n",
        "from collections import Counter\n",
        "class_counts = { 'train':dict(Counter(sample_tup[1] for sample_tup in image_datasets['train'].imgs)),\n",
        "                 'val':dict(Counter(sample_tup[1] for sample_tup in image_datasets['val'].imgs))}\n",
        "print(class_counts)"
      ],
      "execution_count": 0,
      "outputs": [
        {
          "output_type": "stream",
          "text": [
            "{'train': {0: 123, 1: 121}, 'val': {0: 70, 1: 83}}\n"
          ],
          "name": "stdout"
        }
      ]
    },
    {
      "cell_type": "code",
      "metadata": {
        "id": "KJ11z7c8Fdtz",
        "colab_type": "code",
        "outputId": "fb0fffb6-ef11-4648-f204-0281f23e4783",
        "colab": {
          "base_uri": "https://localhost:8080/",
          "height": 35
        }
      },
      "source": [
        "# check if GPU is available\n",
        "device = torch.device(\"cuda:0\" if torch.cuda.is_available() else \"cpu\")\n",
        "print(device)"
      ],
      "execution_count": 0,
      "outputs": [
        {
          "output_type": "stream",
          "text": [
            "cuda:0\n"
          ],
          "name": "stdout"
        }
      ]
    },
    {
      "cell_type": "code",
      "metadata": {
        "id": "6D-lQ5Sm91JS",
        "colab_type": "code",
        "outputId": "5b10c198-fa11-4072-d32d-51602149ba0b",
        "colab": {
          "base_uri": "https://localhost:8080/",
          "height": 184
        }
      },
      "source": [
        "def imshow(inp, title=None):\n",
        "    \"\"\"Imshow for Tensor.\"\"\"\n",
        "\n",
        "    print(\"shape before transpose: \", inp.shape)\n",
        "    inp = inp.numpy().transpose((1, 2, 0))    # (channel, height, width) --> (height, width, channel)\n",
        "    print(\"shape after transpose: \", inp.shape)\n",
        "\n",
        "    mean = np.array([0.485, 0.456, 0.406])\n",
        "    std = np.array([0.229, 0.224, 0.225])\n",
        "    inp = std * inp + mean   # reverse normalization\n",
        "    inp = np.clip(inp, 0, 1)\n",
        "    plt.imshow(inp)\n",
        "    if title is not None:\n",
        "        plt.title(title)\n",
        "    plt.pause(0.001)\n",
        "\n",
        "\n",
        "# load a batch\n",
        "inputs, classes = next(iter(dataloaders['train']))\n",
        "\n",
        "# put the images into the grid\n",
        "out = torchvision.utils.make_grid(inputs)\n",
        "\n",
        "# display the images with their class names as titles\n",
        "imshow(out, title=[class_names[x] for x in classes])"
      ],
      "execution_count": 0,
      "outputs": [
        {
          "output_type": "stream",
          "text": [
            "shape before transpose:  torch.Size([3, 228, 906])\n",
            "shape after transpose:  (228, 906, 3)\n"
          ],
          "name": "stdout"
        },
        {
          "output_type": "display_data",
          "data": {
            "image/png": "[encoded data removed]",
            "text/plain": [
              "<Figure size 432x288 with 1 Axes>"
            ]
          },
          "metadata": {
            "tags": []
          }
        }
      ]
    },
    {
      "cell_type": "markdown",
      "metadata": {
        "id": "AHqT9qHaPFTJ",
        "colab_type": "text"
      },
      "source": [
        "## Transfer the knowledge from the reset18 model pretrained on ImageNet dataset"
      ]
    },
    {
      "cell_type": "markdown",
      "metadata": {
        "id": "C8GrNR_eSs_p",
        "colab_type": "text"
      },
      "source": [
        "## Fine tuning ENABLED"
      ]
    },
    {
      "cell_type": "code",
      "metadata": {
        "id": "lqqNe5SJ-DAN",
        "colab_type": "code",
        "colab": {}
      },
      "source": [
        "# transfer feature extraction layers from ResNet18 trained on ImageNet dataset\n",
        "model_ft = models.resnet18(pretrained=True) # get pretrained model\n",
        "\n",
        "# freeze the feature extraction layer (uncomment the following two lines to freeze feature extraction layers)\n",
        "# for param in model_ft.parameters():\n",
        "#     param.requires_grad = False\n",
        "\n",
        "num_ftrs = model_ft.fc.in_features          # retrieve feature extraction layers of resnet18\n",
        "                                            # model_ft.fc: the fully-connection layer of resnet18\n",
        "                                            # model_ft.fc.in_features: input layer of model_ft.fc\n",
        "\n",
        "model_ft.fc = nn.Linear(num_ftrs, 2)        # replace the fc layer to classify ants and bees\n",
        "\n",
        "model_ft = model_ft.to(device)              # load the model on GPU"
      ],
      "execution_count": 0,
      "outputs": []
    },
    {
      "cell_type": "markdown",
      "metadata": {
        "id": "nhORHaXyPDOq",
        "colab_type": "text"
      },
      "source": [
        "## Train the model on the target dataset"
      ]
    },
    {
      "cell_type": "code",
      "metadata": {
        "id": "A6zXyNKG-K4q",
        "colab_type": "code",
        "colab": {}
      },
      "source": [
        "criterion = nn.CrossEntropyLoss()\n",
        "\n",
        "# Observe that all parameters are being optimized\n",
        "optimizer_ft = optim.SGD(model_ft.parameters(), lr=0.001, momentum=0.9)\n",
        "\n",
        "# Decay LR by a factor of 0.1 every 7 epochs\n",
        "#   see https://pytorch.org/docs/stable/optim.html for torch.optim.lr_scheduler.StepLR\n",
        "exp_lr_scheduler = lr_scheduler.StepLR(optimizer_ft, step_size=7, gamma=0.1)\n"
      ],
      "execution_count": 0,
      "outputs": []
    },
    {
      "cell_type": "code",
      "metadata": {
        "id": "U2SyhG7E-W9K",
        "colab_type": "code",
        "colab": {}
      },
      "source": [
        "def train_model(model, criterion, optimizer, scheduler, num_epochs=25):\n",
        "    since = time.time() #시작 시간을 기록(총 소요 시간 계산을 위해)\n",
        "\n",
        "    best_model_wts = copy.deepcopy(model.state_dict())\n",
        "    best_acc = 0.0\n",
        "\n",
        "    for epoch in range(num_epochs):\n",
        "        print('Epoch {}/{}'.format(epoch, num_epochs - 1)) #epoch를 카운트\n",
        "        print('-' * 10)\n",
        "\n",
        "        # Each epoch has a training and validation phase\n",
        "        for phase in ['train', 'val']:  #train mode와 validation mode 순으로 진행\n",
        "            if phase == 'train':\n",
        "                scheduler.step()\n",
        "                model.train()  # Set model to training mode\n",
        "            else:\n",
        "                model.eval()   # Set model to evaluate mode\n",
        "\n",
        "            running_loss = 0.0\n",
        "            running_corrects = 0\n",
        "\n",
        "            # Iterate over data.\n",
        "            for inputs, labels in dataloaders[phase]: #dataloader로부터 dataset과 그에 해당되는 label을 불러옴\n",
        "                inputs = inputs.to(device) #GPU로 입력데이터를 올림\n",
        "                labels = labels.to(device) #GPU로 label을 올림\n",
        "\n",
        "                # zero the parameter gradients\n",
        "                optimizer.zero_grad() #Gradient를 0으로 초기화\n",
        "\n",
        "                # forward\n",
        "                # track history if only in train\n",
        "                with torch.set_grad_enabled(phase == 'train'):  # torch.set_grad_enabled(True or False): enable or disable gradient calculation                \n",
        "                    outputs = model(inputs)\n",
        "                    _, preds = torch.max(outputs, 1) # 마지막 layer에서 가장 값이 큰 1개의 class를 예측 값으로 지정\n",
        "                    loss = criterion(outputs, labels) \n",
        "\n",
        "                    # backward + optimize only if in training phase\n",
        "                    if phase == 'train': # training 모드에서는 weight를 update한다.\n",
        "                        loss.backward() #backward\n",
        "                        optimizer.step()\n",
        "\n",
        "                # statistics\n",
        "                running_loss += loss.item() * inputs.size(0)\n",
        "                running_corrects += torch.sum(preds == labels.data)\n",
        "\n",
        "            epoch_loss = running_loss / dataset_sizes[phase]\n",
        "            epoch_acc = running_corrects.double() / dataset_sizes[phase]\n",
        "\n",
        "            print('{} Loss: {:.4f} Acc: {:.4f}'.format(\n",
        "                phase, epoch_loss, epoch_acc))\n",
        "\n",
        "            # deep copy the model\n",
        "            if phase == 'val' and epoch_acc > best_acc:\n",
        "                best_acc = epoch_acc\n",
        "                best_model_wts = copy.deepcopy(model.state_dict())\n",
        "\n",
        "        print()\n",
        "\n",
        "    time_elapsed = time.time() - since\n",
        "    print('Training complete in {:.0f}m {:.0f}s'.format(\n",
        "        time_elapsed // 60, time_elapsed % 60))\n",
        "    print('Best val Acc: {:4f}'.format(best_acc))\n",
        "\n",
        "    # load best model weights\n",
        "    model.load_state_dict(best_model_wts)\n",
        "    return model"
      ],
      "execution_count": 0,
      "outputs": []
    },
    {
      "cell_type": "code",
      "metadata": {
        "id": "8KpLCHw1_GaN",
        "colab_type": "code",
        "colab": {}
      },
      "source": [
        "def visualize_model(model, num_images=6):\n",
        "    was_training = model.training\n",
        "    model.eval()\n",
        "    images_so_far = 0\n",
        "    fig = plt.figure()\n",
        "\n",
        "    with torch.no_grad():\n",
        "        for i, (inputs, labels) in enumerate(dataloaders['val']):\n",
        "            inputs = inputs.to(device)\n",
        "            labels = labels.to(device)\n",
        "\n",
        "            outputs = model(inputs)\n",
        "            _, preds = torch.max(outputs, 1)\n",
        "\n",
        "            for j in range(inputs.size()[0]):\n",
        "                images_so_far += 1\n",
        "                ax = plt.subplot(num_images//2, 2, images_so_far)\n",
        "                ax.axis('off')\n",
        "                ax.set_title('predicted: {}'.format(class_names[preds[j]]))\n",
        "                imshow(inputs.cpu().data[j])\n",
        "\n",
        "                if images_so_far == num_images:\n",
        "                    model.train(mode=was_training)\n",
        "                    return\n",
        "        model.train(mode=was_training)\n"
      ],
      "execution_count": 0,
      "outputs": []
    },
    {
      "cell_type": "code",
      "metadata": {
        "id": "55yO2OMNSnzi",
        "colab_type": "code",
        "outputId": "ef2355dc-a87a-4c09-fd87-41bec8a84ef6",
        "colab": {
          "base_uri": "https://localhost:8080/",
          "height": 1000
        }
      },
      "source": [
        "model_ft = train_model(model_ft, criterion, optimizer_ft, exp_lr_scheduler,\n",
        "                       num_epochs=25)"
      ],
      "execution_count": 0,
      "outputs": [
        {
          "output_type": "stream",
          "text": [
            "Epoch 0/24\n",
            "----------\n"
          ],
          "name": "stdout"
        },
        {
          "output_type": "stream",
          "text": [
            "/usr/local/lib/python3.6/dist-packages/torch/optim/lr_scheduler.py:100: UserWarning: Detected call of `lr_scheduler.step()` before `optimizer.step()`. In PyTorch 1.1.0 and later, you should call them in the opposite order: `optimizer.step()` before `lr_scheduler.step()`.  Failure to do this will result in PyTorch skipping the first value of the learning rate schedule.See more details at https://pytorch.org/docs/stable/optim.html#how-to-adjust-learning-rate\n",
            "  \"https://pytorch.org/docs/stable/optim.html#how-to-adjust-learning-rate\", UserWarning)\n"
          ],
          "name": "stderr"
        },
        {
          "output_type": "stream",
          "text": [
            "train Loss: 0.6191 Acc: 0.6967\n",
            "val Loss: 0.1809 Acc: 0.9216\n",
            "\n",
            "Epoch 1/24\n",
            "----------\n",
            "train Loss: 0.4970 Acc: 0.7787\n",
            "val Loss: 0.3482 Acc: 0.8366\n",
            "\n",
            "Epoch 2/24\n",
            "----------\n",
            "train Loss: 0.3521 Acc: 0.8525\n",
            "val Loss: 0.2147 Acc: 0.9150\n",
            "\n",
            "Epoch 3/24\n",
            "----------\n",
            "train Loss: 0.3681 Acc: 0.8525\n",
            "val Loss: 0.2939 Acc: 0.8889\n",
            "\n",
            "Epoch 4/24\n",
            "----------\n",
            "train Loss: 0.3479 Acc: 0.8730\n",
            "val Loss: 0.3002 Acc: 0.8889\n",
            "\n",
            "Epoch 5/24\n",
            "----------\n",
            "train Loss: 0.4994 Acc: 0.7951\n",
            "val Loss: 0.2595 Acc: 0.9216\n",
            "\n",
            "Epoch 6/24\n",
            "----------\n",
            "train Loss: 0.3219 Acc: 0.8566\n",
            "val Loss: 0.1842 Acc: 0.9150\n",
            "\n",
            "Epoch 7/24\n",
            "----------\n",
            "train Loss: 0.2628 Acc: 0.8893\n",
            "val Loss: 0.1698 Acc: 0.9346\n",
            "\n",
            "Epoch 8/24\n",
            "----------\n",
            "train Loss: 0.2715 Acc: 0.8934\n",
            "val Loss: 0.1735 Acc: 0.9346\n",
            "\n",
            "Epoch 9/24\n",
            "----------\n",
            "train Loss: 0.2326 Acc: 0.8852\n",
            "val Loss: 0.1673 Acc: 0.9281\n",
            "\n",
            "Epoch 10/24\n",
            "----------\n",
            "train Loss: 0.2476 Acc: 0.9180\n",
            "val Loss: 0.1665 Acc: 0.9281\n",
            "\n",
            "Epoch 11/24\n",
            "----------\n",
            "train Loss: 0.3607 Acc: 0.8402\n",
            "val Loss: 0.1873 Acc: 0.9020\n",
            "\n",
            "Epoch 12/24\n",
            "----------\n",
            "train Loss: 0.2969 Acc: 0.8648\n",
            "val Loss: 0.1647 Acc: 0.9281\n",
            "\n",
            "Epoch 13/24\n",
            "----------\n",
            "train Loss: 0.2518 Acc: 0.8852\n",
            "val Loss: 0.1579 Acc: 0.9412\n",
            "\n",
            "Epoch 14/24\n",
            "----------\n",
            "train Loss: 0.2258 Acc: 0.9016\n",
            "val Loss: 0.1487 Acc: 0.9412\n",
            "\n",
            "Epoch 15/24\n",
            "----------\n",
            "train Loss: 0.3064 Acc: 0.8852\n",
            "val Loss: 0.1517 Acc: 0.9412\n",
            "\n",
            "Epoch 16/24\n",
            "----------\n",
            "train Loss: 0.2896 Acc: 0.8566\n",
            "val Loss: 0.1620 Acc: 0.9281\n",
            "\n",
            "Epoch 17/24\n",
            "----------\n",
            "train Loss: 0.3029 Acc: 0.8648\n",
            "val Loss: 0.1469 Acc: 0.9477\n",
            "\n",
            "Epoch 18/24\n",
            "----------\n",
            "train Loss: 0.3349 Acc: 0.8443\n",
            "val Loss: 0.1570 Acc: 0.9346\n",
            "\n",
            "Epoch 19/24\n",
            "----------\n",
            "train Loss: 0.2291 Acc: 0.8934\n",
            "val Loss: 0.2061 Acc: 0.9020\n",
            "\n",
            "Epoch 20/24\n",
            "----------\n",
            "train Loss: 0.2179 Acc: 0.9180\n",
            "val Loss: 0.1605 Acc: 0.9346\n",
            "\n",
            "Epoch 21/24\n",
            "----------\n",
            "train Loss: 0.1947 Acc: 0.9262\n",
            "val Loss: 0.1629 Acc: 0.9281\n",
            "\n",
            "Epoch 22/24\n",
            "----------\n",
            "train Loss: 0.2467 Acc: 0.9057\n",
            "val Loss: 0.1795 Acc: 0.9216\n",
            "\n",
            "Epoch 23/24\n",
            "----------\n",
            "train Loss: 0.2729 Acc: 0.8893\n",
            "val Loss: 0.1740 Acc: 0.9281\n",
            "\n",
            "Epoch 24/24\n",
            "----------\n",
            "train Loss: 0.2652 Acc: 0.8770\n",
            "val Loss: 0.1635 Acc: 0.9281\n",
            "\n",
            "Training complete in 1m 23s\n",
            "Best val Acc: 0.947712\n"
          ],
          "name": "stdout"
        }
      ]
    },
    {
      "cell_type": "markdown",
      "metadata": {
        "id": "nqbHf40QTR66",
        "colab_type": "text"
      },
      "source": [
        "## Fine tuning DISABLED\n",
        "Feature extraction layers are freezed!"
      ]
    },
    {
      "cell_type": "code",
      "metadata": {
        "id": "dz2Lrllp_L96",
        "colab_type": "code",
        "colab": {}
      },
      "source": [
        "model_ft = models.resnet18(pretrained=True)\n",
        "\n",
        "# freeze the feature extraction layer (uncomment the following two lines to freeze feature extraction layers)\n",
        "for param in model_ft.parameters():\n",
        "   param.requires_grad = False\n",
        "\n",
        "num_ftrs = model_ft.fc.in_features\n",
        "model_ft.fc = nn.Linear(num_ftrs, 2)\n",
        "\n",
        "model_ft = model_ft.to(device)\n",
        "\n",
        "criterion = nn.CrossEntropyLoss()\n",
        "\n",
        "# Observe that all parameters are being optimized\n",
        "optimizer_ft = optim.SGD(model_ft.parameters(), lr=0.001, momentum=0.9)\n",
        "\n",
        "# Decay LR by a factor of 0.1 every 7 epochs\n",
        "exp_lr_scheduler = lr_scheduler.StepLR(optimizer_ft, step_size=7, gamma=0.1)\n"
      ],
      "execution_count": 0,
      "outputs": []
    },
    {
      "cell_type": "code",
      "metadata": {
        "id": "eOR5NlWi_THS",
        "colab_type": "code",
        "outputId": "808cf1b5-c0b7-4708-839d-149fe896884b",
        "colab": {
          "base_uri": "https://localhost:8080/",
          "height": 1000
        }
      },
      "source": [
        "model_ft = train_model(model_ft, criterion, optimizer_ft, exp_lr_scheduler,\n",
        "                       num_epochs=25)"
      ],
      "execution_count": 0,
      "outputs": [
        {
          "output_type": "stream",
          "text": [
            "Epoch 0/24\n",
            "----------\n"
          ],
          "name": "stdout"
        },
        {
          "output_type": "stream",
          "text": [
            "/usr/local/lib/python3.6/dist-packages/torch/optim/lr_scheduler.py:100: UserWarning: Detected call of `lr_scheduler.step()` before `optimizer.step()`. In PyTorch 1.1.0 and later, you should call them in the opposite order: `optimizer.step()` before `lr_scheduler.step()`.  Failure to do this will result in PyTorch skipping the first value of the learning rate schedule.See more details at https://pytorch.org/docs/stable/optim.html#how-to-adjust-learning-rate\n",
            "  \"https://pytorch.org/docs/stable/optim.html#how-to-adjust-learning-rate\", UserWarning)\n"
          ],
          "name": "stderr"
        },
        {
          "output_type": "stream",
          "text": [
            "train Loss: 0.7941 Acc: 0.6311\n",
            "val Loss: 0.3866 Acc: 0.8235\n",
            "\n",
            "Epoch 1/24\n",
            "----------\n",
            "train Loss: 0.6044 Acc: 0.7459\n",
            "val Loss: 0.1634 Acc: 0.9477\n",
            "\n",
            "Epoch 2/24\n",
            "----------\n",
            "train Loss: 0.4608 Acc: 0.7951\n",
            "val Loss: 0.1952 Acc: 0.9216\n",
            "\n",
            "Epoch 3/24\n",
            "----------\n",
            "train Loss: 0.4501 Acc: 0.7828\n",
            "val Loss: 0.3733 Acc: 0.8758\n",
            "\n",
            "Epoch 4/24\n",
            "----------\n",
            "train Loss: 0.3748 Acc: 0.8402\n",
            "val Loss: 0.1982 Acc: 0.9346\n",
            "\n",
            "Epoch 5/24\n",
            "----------\n",
            "train Loss: 0.4510 Acc: 0.8033\n",
            "val Loss: 0.1771 Acc: 0.9477\n",
            "\n",
            "Epoch 6/24\n",
            "----------\n",
            "train Loss: 0.4451 Acc: 0.8197\n",
            "val Loss: 0.1836 Acc: 0.9477\n",
            "\n",
            "Epoch 7/24\n",
            "----------\n",
            "train Loss: 0.3900 Acc: 0.8361\n",
            "val Loss: 0.1912 Acc: 0.9346\n",
            "\n",
            "Epoch 8/24\n",
            "----------\n",
            "train Loss: 0.2989 Acc: 0.8525\n",
            "val Loss: 0.1769 Acc: 0.9477\n",
            "\n",
            "Epoch 9/24\n",
            "----------\n",
            "train Loss: 0.3227 Acc: 0.8607\n",
            "val Loss: 0.1699 Acc: 0.9477\n",
            "\n",
            "Epoch 10/24\n",
            "----------\n",
            "train Loss: 0.3324 Acc: 0.8484\n",
            "val Loss: 0.2005 Acc: 0.9281\n",
            "\n",
            "Epoch 11/24\n",
            "----------\n",
            "train Loss: 0.3316 Acc: 0.8443\n",
            "val Loss: 0.1777 Acc: 0.9542\n",
            "\n",
            "Epoch 12/24\n",
            "----------\n",
            "train Loss: 0.3738 Acc: 0.8320\n",
            "val Loss: 0.1869 Acc: 0.9412\n",
            "\n",
            "Epoch 13/24\n",
            "----------\n",
            "train Loss: 0.3960 Acc: 0.8279\n",
            "val Loss: 0.1924 Acc: 0.9477\n",
            "\n",
            "Epoch 14/24\n",
            "----------\n",
            "train Loss: 0.3065 Acc: 0.8893\n",
            "val Loss: 0.1841 Acc: 0.9412\n",
            "\n",
            "Epoch 15/24\n",
            "----------\n",
            "train Loss: 0.3165 Acc: 0.8648\n",
            "val Loss: 0.1816 Acc: 0.9412\n",
            "\n",
            "Epoch 16/24\n",
            "----------\n",
            "train Loss: 0.3213 Acc: 0.8402\n",
            "val Loss: 0.1991 Acc: 0.9346\n",
            "\n",
            "Epoch 17/24\n",
            "----------\n",
            "train Loss: 0.3219 Acc: 0.8443\n",
            "val Loss: 0.1741 Acc: 0.9412\n",
            "\n",
            "Epoch 18/24\n",
            "----------\n",
            "train Loss: 0.3017 Acc: 0.8730\n",
            "val Loss: 0.1983 Acc: 0.9477\n",
            "\n",
            "Epoch 19/24\n",
            "----------\n",
            "train Loss: 0.2771 Acc: 0.8811\n",
            "val Loss: 0.1807 Acc: 0.9477\n",
            "\n",
            "Epoch 20/24\n",
            "----------\n",
            "train Loss: 0.2997 Acc: 0.8730\n",
            "val Loss: 0.1768 Acc: 0.9477\n",
            "\n",
            "Epoch 21/24\n",
            "----------\n",
            "train Loss: 0.3683 Acc: 0.8361\n",
            "val Loss: 0.2041 Acc: 0.9281\n",
            "\n",
            "Epoch 22/24\n",
            "----------\n",
            "train Loss: 0.2761 Acc: 0.8852\n",
            "val Loss: 0.1814 Acc: 0.9412\n",
            "\n",
            "Epoch 23/24\n",
            "----------\n",
            "train Loss: 0.3039 Acc: 0.8689\n",
            "val Loss: 0.1783 Acc: 0.9412\n",
            "\n",
            "Epoch 24/24\n",
            "----------\n",
            "train Loss: 0.2955 Acc: 0.8811\n",
            "val Loss: 0.2081 Acc: 0.9281\n",
            "\n",
            "Training complete in 1m 15s\n",
            "Best val Acc: 0.954248\n"
          ],
          "name": "stdout"
        }
      ]
    },
    {
      "cell_type": "markdown",
      "metadata": {
        "id": "VQSiOiTLUEMt",
        "colab_type": "text"
      },
      "source": [
        "## Training from scratch\n",
        "Feature extraction layers are randomly initialized"
      ]
    },
    {
      "cell_type": "code",
      "metadata": {
        "id": "Ulz_4ubtTyVq",
        "colab_type": "code",
        "colab": {}
      },
      "source": [
        "model_ft = models.resnet18(pretrained=False)\n",
        "\n",
        "# freeze the feature extraction layer (uncomment the following two lines to freeze feature extraction layers)\n",
        "# for param in model_ft.parameters():\n",
        "#    param.requires_grad = False\n",
        "\n",
        "num_ftrs = model_ft.fc.in_features\n",
        "model_ft.fc = nn.Linear(num_ftrs, 2)\n",
        "\n",
        "model_ft = model_ft.to(device)\n",
        "\n",
        "criterion = nn.CrossEntropyLoss()\n",
        "\n",
        "# Observe that all parameters are being optimized\n",
        "optimizer_ft = optim.SGD(model_ft.parameters(), lr=0.001, momentum=0.9)\n",
        "\n",
        "# Decay LR by a factor of 0.1 every 7 epochs\n",
        "exp_lr_scheduler = lr_scheduler.StepLR(optimizer_ft, step_size=7, gamma=0.1)\n"
      ],
      "execution_count": 0,
      "outputs": []
    },
    {
      "cell_type": "code",
      "metadata": {
        "id": "pCa1XTrBT1kj",
        "colab_type": "code",
        "outputId": "e0fb3d30-a9a3-42fe-f6c6-69b6e3c1ef36",
        "colab": {
          "base_uri": "https://localhost:8080/",
          "height": 1000
        }
      },
      "source": [
        "model_ft = train_model(model_ft, criterion, optimizer_ft, exp_lr_scheduler,\n",
        "                       num_epochs=25)"
      ],
      "execution_count": 0,
      "outputs": [
        {
          "output_type": "stream",
          "text": [
            "Epoch 0/24\n",
            "----------\n"
          ],
          "name": "stdout"
        },
        {
          "output_type": "stream",
          "text": [
            "/usr/local/lib/python3.6/dist-packages/torch/optim/lr_scheduler.py:100: UserWarning: Detected call of `lr_scheduler.step()` before `optimizer.step()`. In PyTorch 1.1.0 and later, you should call them in the opposite order: `optimizer.step()` before `lr_scheduler.step()`.  Failure to do this will result in PyTorch skipping the first value of the learning rate schedule.See more details at https://pytorch.org/docs/stable/optim.html#how-to-adjust-learning-rate\n",
            "  \"https://pytorch.org/docs/stable/optim.html#how-to-adjust-learning-rate\", UserWarning)\n"
          ],
          "name": "stderr"
        },
        {
          "output_type": "stream",
          "text": [
            "train Loss: 0.9117 Acc: 0.4959\n",
            "val Loss: 0.6777 Acc: 0.5882\n",
            "\n",
            "Epoch 1/24\n",
            "----------\n",
            "train Loss: 0.6998 Acc: 0.5984\n",
            "val Loss: 0.8216 Acc: 0.5817\n",
            "\n",
            "Epoch 2/24\n",
            "----------\n",
            "train Loss: 0.8106 Acc: 0.5656\n",
            "val Loss: 0.8663 Acc: 0.5294\n",
            "\n",
            "Epoch 3/24\n",
            "----------\n",
            "train Loss: 0.8024 Acc: 0.5492\n",
            "val Loss: 0.8662 Acc: 0.5882\n",
            "\n",
            "Epoch 4/24\n",
            "----------\n",
            "train Loss: 0.7411 Acc: 0.5902\n",
            "val Loss: 0.8067 Acc: 0.5490\n",
            "\n",
            "Epoch 5/24\n",
            "----------\n",
            "train Loss: 0.7500 Acc: 0.5492\n",
            "val Loss: 0.6437 Acc: 0.5817\n",
            "\n",
            "Epoch 6/24\n",
            "----------\n",
            "train Loss: 0.6118 Acc: 0.6762\n",
            "val Loss: 0.5523 Acc: 0.7059\n",
            "\n",
            "Epoch 7/24\n",
            "----------\n",
            "train Loss: 0.5974 Acc: 0.6639\n",
            "val Loss: 0.5799 Acc: 0.6863\n",
            "\n",
            "Epoch 8/24\n",
            "----------\n",
            "train Loss: 0.6229 Acc: 0.6352\n",
            "val Loss: 0.6330 Acc: 0.6340\n",
            "\n",
            "Epoch 9/24\n",
            "----------\n",
            "train Loss: 0.6041 Acc: 0.6721\n",
            "val Loss: 0.6154 Acc: 0.6863\n",
            "\n",
            "Epoch 10/24\n",
            "----------\n",
            "train Loss: 0.5759 Acc: 0.7049\n",
            "val Loss: 0.5729 Acc: 0.6928\n",
            "\n",
            "Epoch 11/24\n",
            "----------\n",
            "train Loss: 0.5709 Acc: 0.6967\n",
            "val Loss: 0.5996 Acc: 0.6863\n",
            "\n",
            "Epoch 12/24\n",
            "----------\n",
            "train Loss: 0.6160 Acc: 0.6639\n",
            "val Loss: 0.6616 Acc: 0.6471\n",
            "\n",
            "Epoch 13/24\n",
            "----------\n",
            "train Loss: 0.6043 Acc: 0.6803\n",
            "val Loss: 0.6512 Acc: 0.6667\n",
            "\n",
            "Epoch 14/24\n",
            "----------\n",
            "train Loss: 0.5624 Acc: 0.6967\n"
          ],
          "name": "stdout"
        }
      ]
    }
  ]
}