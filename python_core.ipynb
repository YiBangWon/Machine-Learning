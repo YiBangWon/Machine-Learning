{
  "nbformat": 4,
  "nbformat_minor": 0,
  "metadata": {
    "colab": {
      "name": "python_core.ipynb",
      "version": "0.3.2",
      "provenance": [],
      "collapsed_sections": [],
      "include_colab_link": true
    },
    "kernelspec": {
      "name": "python3",
      "display_name": "Python 3"
    }
  },
  "cells": [
    {
      "cell_type": "markdown",
      "metadata": {
        "id": "view-in-github",
        "colab_type": "text"
      },
      "source": [
        "<a href=\"https://colab.research.google.com/github/callee2006/MachineLearning/blob/master/python_core.ipynb\" target=\"_parent\"><img src=\"https://colab.research.google.com/assets/colab-badge.svg\" alt=\"Open In Colab\"/></a>"
      ]
    },
    {
      "cell_type": "code",
      "metadata": {
        "id": "kfqNWrFEr2hd",
        "colab_type": "code",
        "colab": {}
      },
      "source": [
        "import numpy as np"
      ],
      "execution_count": 0,
      "outputs": []
    },
    {
      "cell_type": "markdown",
      "metadata": {
        "id": "p3GZN4NGslWM",
        "colab_type": "text"
      },
      "source": [
        "# int and float types"
      ]
    },
    {
      "cell_type": "code",
      "metadata": {
        "id": "xt4GL6DlofE7",
        "colab_type": "code",
        "outputId": "77261b4b-d9f6-48b9-9bf0-fd802c6b24f7",
        "colab": {
          "base_uri": "https://localhost:8080/",
          "height": 35
        }
      },
      "source": [
        "a = 5\n",
        "type(a)"
      ],
      "execution_count": 0,
      "outputs": [
        {
          "output_type": "execute_result",
          "data": {
            "text/plain": [
              "int"
            ]
          },
          "metadata": {
            "tags": []
          },
          "execution_count": 1
        }
      ]
    },
    {
      "cell_type": "code",
      "metadata": {
        "id": "wk0NXRfbohxr",
        "colab_type": "code",
        "outputId": "83f52d0f-f936-4ca4-a1a9-aa4228909374",
        "colab": {
          "base_uri": "https://localhost:8080/",
          "height": 35
        }
      },
      "source": [
        "a = 2.0\n",
        "type(a)"
      ],
      "execution_count": 1,
      "outputs": [
        {
          "output_type": "execute_result",
          "data": {
            "text/plain": [
              "float"
            ]
          },
          "metadata": {
            "tags": []
          },
          "execution_count": 1
        }
      ]
    },
    {
      "cell_type": "markdown",
      "metadata": {
        "id": "i7ljhEufoWHW",
        "colab_type": "text"
      },
      "source": [
        "# input and output"
      ]
    },
    {
      "cell_type": "code",
      "metadata": {
        "id": "7j7vBjB-n5jl",
        "colab_type": "code",
        "colab": {
          "base_uri": "https://localhost:8080/",
          "height": 107
        },
        "outputId": "243aed46-699c-46c9-9f91-d55ac5ca9147"
      },
      "source": [
        "print(\"Input a: \")\n",
        "a = int(input())\n",
        "\n",
        "print(\"Input b: \")\n",
        "b = int(input())\n",
        "\n",
        "c = a + b\n",
        "print(\"{} + {} = {}\".format(a, b, c))"
      ],
      "execution_count": 3,
      "outputs": [
        {
          "output_type": "stream",
          "text": [
            "Input a: \n",
            "10\n",
            "Input b: \n",
            "20\n",
            "10 + 20 = 30\n"
          ],
          "name": "stdout"
        }
      ]
    },
    {
      "cell_type": "markdown",
      "metadata": {
        "id": "Xt2TKs8Zsq2j",
        "colab_type": "text"
      },
      "source": [
        "# for - Loop"
      ]
    },
    {
      "cell_type": "code",
      "metadata": {
        "id": "J-IH-6sBooYn",
        "colab_type": "code",
        "outputId": "19b85c9f-26d9-4152-837f-d64852b68192",
        "colab": {
          "base_uri": "https://localhost:8080/",
          "height": 107
        }
      },
      "source": [
        "# repeating 5 times\n",
        "for i in range(5):\n",
        "   print(\"i = \", i)"
      ],
      "execution_count": 0,
      "outputs": [
        {
          "output_type": "stream",
          "text": [
            "i =  0\n",
            "i =  1\n",
            "i =  2\n",
            "i =  3\n",
            "i =  4\n"
          ],
          "name": "stdout"
        }
      ]
    },
    {
      "cell_type": "code",
      "metadata": {
        "id": "omN7_F-JrKf5",
        "colab_type": "code",
        "outputId": "40e9c4b0-28f8-447b-8293-391b6f0f305e",
        "colab": {
          "base_uri": "https://localhost:8080/",
          "height": 161
        }
      },
      "source": [
        "# repeating from 20 to 200, stop = 10\n",
        "for i in range(20, 100, 10):         # start = 20, end = 100, step = 10\n",
        "   print(\"i = \", i)"
      ],
      "execution_count": 0,
      "outputs": [
        {
          "output_type": "stream",
          "text": [
            "i =  20\n",
            "i =  30\n",
            "i =  40\n",
            "i =  50\n",
            "i =  60\n",
            "i =  70\n",
            "i =  80\n",
            "i =  90\n"
          ],
          "name": "stdout"
        }
      ]
    },
    {
      "cell_type": "markdown",
      "metadata": {
        "id": "mpYCCGcjvXgI",
        "colab_type": "text"
      },
      "source": [
        "# Lists\n",
        "\n",
        "* Container of heterogeneous objects\n",
        "    \n",
        "* Flexible (e.g. a list  can contain another list)\n",
        "\n",
        "* Designed for efficient insertion / deletion\n",
        "\n"
      ]
    },
    {
      "cell_type": "code",
      "metadata": {
        "id": "wrQLfW1Cs8S1",
        "colab_type": "code",
        "outputId": "272fbf00-fa1d-4600-b7cf-3af19c853615",
        "colab": {
          "base_uri": "https://localhost:8080/",
          "height": 35
        }
      },
      "source": [
        "# creating a list\n",
        "a = [5,10,15,20,25,30,35,40]\n",
        "print(a)"
      ],
      "execution_count": 0,
      "outputs": [
        {
          "output_type": "stream",
          "text": [
            "[5, 10, 15, 20, 25, 30, 35, 40]\n"
          ],
          "name": "stdout"
        }
      ]
    },
    {
      "cell_type": "code",
      "metadata": {
        "id": "mNMcB6p29M1n",
        "colab_type": "code",
        "outputId": "06d746d6-b6af-43c8-e2f1-b013e56b7958",
        "colab": {
          "base_uri": "https://localhost:8080/",
          "height": 35
        }
      },
      "source": [
        "\n",
        "b = [3.14, 100, 'hello', a]\n",
        "print(b)"
      ],
      "execution_count": 0,
      "outputs": [
        {
          "output_type": "stream",
          "text": [
            "[3.14, 100, 'hello', [5, 10, 15, 20, 25, 30, 35, 40]]\n"
          ],
          "name": "stdout"
        }
      ]
    },
    {
      "cell_type": "code",
      "metadata": {
        "id": "HHrAvT7QvdZq",
        "colab_type": "code",
        "outputId": "aedb8d94-dcfc-4896-f613-295c392be4ac",
        "colab": {
          "base_uri": "https://localhost:8080/",
          "height": 35
        }
      },
      "source": [
        "# element access\n",
        "print(\"a[2] = \", a[2])"
      ],
      "execution_count": 0,
      "outputs": [
        {
          "output_type": "stream",
          "text": [
            "a[2] =  15\n"
          ],
          "name": "stdout"
        }
      ]
    },
    {
      "cell_type": "code",
      "metadata": {
        "id": "gMEWuYgBo0dj",
        "colab_type": "code",
        "outputId": "82d8c941-60c7-4de3-d037-d4a92e3fada8",
        "colab": {
          "base_uri": "https://localhost:8080/",
          "height": 35
        }
      },
      "source": [
        "# slicing from 0 to 3 (exclusively)\n",
        "print(\"a[0:3] = \", a[0:3])"
      ],
      "execution_count": 0,
      "outputs": [
        {
          "output_type": "stream",
          "text": [
            "a[0:3] =  [5, 10, 15]\n"
          ],
          "name": "stdout"
        }
      ]
    },
    {
      "cell_type": "code",
      "metadata": {
        "id": "W_HAWol8vV_s",
        "colab_type": "code",
        "outputId": "7a20b17a-56b8-4516-c953-608952ec5eec",
        "colab": {
          "base_uri": "https://localhost:8080/",
          "height": 35
        }
      },
      "source": [
        "# slicing from 5 to the end of the list\n",
        "print(\"a[5:] = \", a[5:])"
      ],
      "execution_count": 0,
      "outputs": [
        {
          "output_type": "stream",
          "text": [
            "a[5:] =  [30, 35, 40]\n"
          ],
          "name": "stdout"
        }
      ]
    },
    {
      "cell_type": "markdown",
      "metadata": {
        "id": "PnN7xe2a4nOx",
        "colab_type": "text"
      },
      "source": [
        "# Tuples\n",
        "\n",
        "* Container of heterogeneous objects    \n",
        "\n",
        "* Immutable"
      ]
    },
    {
      "cell_type": "code",
      "metadata": {
        "id": "v4UVKjqL4mYQ",
        "colab_type": "code",
        "outputId": "48229023-ab0f-4198-cb4a-e4576e0abce4",
        "colab": {
          "base_uri": "https://localhost:8080/",
          "height": 35
        }
      },
      "source": [
        "# creating a tuple\n",
        "t = (5,'program', 1+3j)\n",
        "print(t)"
      ],
      "execution_count": 0,
      "outputs": [
        {
          "output_type": "stream",
          "text": [
            "(5, 'program', (1+3j))\n"
          ],
          "name": "stdout"
        }
      ]
    },
    {
      "cell_type": "code",
      "metadata": {
        "id": "qwi_ybso4pZL",
        "colab_type": "code",
        "outputId": "d08cb184-845d-4a44-d581-352073852943",
        "colab": {
          "base_uri": "https://localhost:8080/",
          "height": 53
        }
      },
      "source": [
        "# accessing elements\n",
        "\n",
        "print(\"t[1] = \", t[1])\n",
        "# t[1] = 'program'\n",
        "\n",
        "print(\"t[0:3] = \", t[0:3])\n",
        "# t[0:3] = (5, 'program', (1+3j))"
      ],
      "execution_count": 0,
      "outputs": [
        {
          "output_type": "stream",
          "text": [
            "t[1] =  program\n",
            "t[0:3] =  (5, 'program', (1+3j))\n"
          ],
          "name": "stdout"
        }
      ]
    },
    {
      "cell_type": "code",
      "metadata": {
        "id": "z6qrV3U28NG7",
        "colab_type": "code",
        "outputId": "2a2dbdcb-0dfb-4f25-95c0-25d89624d2b7",
        "colab": {
          "base_uri": "https://localhost:8080/",
          "height": 172
        }
      },
      "source": [
        "# Tuples are immutable\n",
        "# The following code generates error\n",
        "t[0] = 10"
      ],
      "execution_count": 0,
      "outputs": [
        {
          "output_type": "error",
          "ename": "TypeError",
          "evalue": "ignored",
          "traceback": [
            "\u001b[0;31m---------------------------------------------------------------------------\u001b[0m",
            "\u001b[0;31mTypeError\u001b[0m                                 Traceback (most recent call last)",
            "\u001b[0;32m<ipython-input-6-88963aa635fa>\u001b[0m in \u001b[0;36m<module>\u001b[0;34m()\u001b[0m\n\u001b[0;32m----> 1\u001b[0;31m \u001b[0mt\u001b[0m\u001b[0;34m[\u001b[0m\u001b[0;36m0\u001b[0m\u001b[0;34m]\u001b[0m \u001b[0;34m=\u001b[0m \u001b[0;36m10\u001b[0m\u001b[0;34m\u001b[0m\u001b[0;34m\u001b[0m\u001b[0m\n\u001b[0m",
            "\u001b[0;31mTypeError\u001b[0m: 'tuple' object does not support item assignment"
          ]
        }
      ]
    },
    {
      "cell_type": "markdown",
      "metadata": {
        "id": "HCwwrT8Nsef3",
        "colab_type": "text"
      },
      "source": [
        "# Function"
      ]
    },
    {
      "cell_type": "code",
      "metadata": {
        "id": "42vld-6KpSqX",
        "colab_type": "code",
        "colab": {}
      },
      "source": [
        "def is_even(x):\n",
        "   if x % 2 == 0:\n",
        "      return True\n",
        "   else:\n",
        "      return False"
      ],
      "execution_count": 0,
      "outputs": []
    },
    {
      "cell_type": "code",
      "metadata": {
        "id": "_0Bee6LPsTVl",
        "colab_type": "code",
        "outputId": "f9bb2d44-3503-4cd6-9540-d5e399941038",
        "colab": {
          "base_uri": "https://localhost:8080/",
          "height": 53
        }
      },
      "source": [
        "print(\"is_even(20) = {}\".format(is_even(20)))\n",
        "print(\"is_even(35) = {}\".format(is_even(35)))"
      ],
      "execution_count": 0,
      "outputs": [
        {
          "output_type": "stream",
          "text": [
            "is_even(20) = True\n",
            "is_even(35) = False\n"
          ],
          "name": "stdout"
        }
      ]
    },
    {
      "cell_type": "markdown",
      "metadata": {
        "id": "Ev2rm5PHvnqh",
        "colab_type": "text"
      },
      "source": [
        "# Class\n",
        "\n"
      ]
    },
    {
      "cell_type": "code",
      "metadata": {
        "id": "OuEe_PMfschP",
        "colab_type": "code",
        "colab": {}
      },
      "source": [
        "# defining a class\n",
        "class Hello:\n",
        "    def __init__(self, message):\n",
        "        self.mesg = message      \n",
        "      \n",
        "    def display(self):\n",
        "        print('=' * 20, end = '')\n",
        "        print(self.mesg, end = '')\n",
        "        print('=' * 20, end = '')\n",
        "        \n",
        "    def get_message(self):\n",
        "        return self.mesg"
      ],
      "execution_count": 0,
      "outputs": []
    },
    {
      "cell_type": "code",
      "metadata": {
        "id": "w1FAgPbnwL8m",
        "colab_type": "code",
        "colab": {}
      },
      "source": [
        "# creating a class object\n",
        "hello = Hello('nice to see you!')"
      ],
      "execution_count": 0,
      "outputs": []
    },
    {
      "cell_type": "code",
      "metadata": {
        "id": "OINhVC65wTLc",
        "colab_type": "code",
        "outputId": "1fdda1bb-cc6b-4160-e28f-02cf9d65ebc3",
        "colab": {
          "base_uri": "https://localhost:8080/",
          "height": 35
        }
      },
      "source": [
        "# calling methods\n",
        "hello.display()\n",
        "print(\"message = \", hello.get_message())"
      ],
      "execution_count": 0,
      "outputs": [
        {
          "output_type": "stream",
          "text": [
            "====================nice to see you!====================message =  nice to see you!\n"
          ],
          "name": "stdout"
        }
      ]
    },
    {
      "cell_type": "code",
      "metadata": {
        "id": "SiyKRh1fxMEk",
        "colab_type": "code",
        "colab": {}
      },
      "source": [
        ""
      ],
      "execution_count": 0,
      "outputs": []
    }
  ]
}