{
  "nbformat": 4,
  "nbformat_minor": 0,
  "metadata": {
    "colab": {
      "name": "sequence_prediction (RNN).ipynb",
      "provenance": [],
      "collapsed_sections": [],
      "include_colab_link": true
    },
    "kernelspec": {
      "name": "python3",
      "display_name": "Python 3"
    },
    "accelerator": "GPU"
  },
  "cells": [
    {
      "cell_type": "markdown",
      "metadata": {
        "id": "view-in-github",
        "colab_type": "text"
      },
      "source": [
        "<a href=\"https://colab.research.google.com/github/callee2006/MachineLearning/blob/master/sequence_prediction%20(RNN).ipynb\" target=\"_parent\"><img src=\"https://colab.research.google.com/assets/colab-badge.svg\" alt=\"Open In Colab\"/></a>"
      ]
    },
    {
      "cell_type": "code",
      "metadata": {
        "id": "aI4mTQQQhirT",
        "colab_type": "code",
        "colab": {}
      },
      "source": [
        "import numpy as np\n",
        "import matplotlib.pyplot as plt\n",
        "import torch\n",
        "import torch.nn as nn"
      ],
      "execution_count": 0,
      "outputs": []
    },
    {
      "cell_type": "code",
      "metadata": {
        "id": "BLAtcwZ3D-qn",
        "colab_type": "code",
        "colab": {}
      },
      "source": [
        "#MODEL_NAME = 'RNN'\n",
        "#DEVICE = torch.device(\"cuda\" if torch.cuda.is_available() else \"cpu\")\n",
        "#print(\"MODEL_NAME = {}, DEVICE = {}\".format(MODEL_NAME, DEVICE))"
      ],
      "execution_count": 0,
      "outputs": []
    },
    {
      "cell_type": "markdown",
      "metadata": {
        "id": "NbXrwjD5wKZV",
        "colab_type": "text"
      },
      "source": [
        "# Generate data\n",
        "\n",
        "This is a toy example to predict a sequence with RNN.\n",
        "In this example, Y is a sequence of 2D vectors (sin(x), cos(x)) for x in [-3.14, +3.14]\n",
        "\n",
        "In practical applications, replace Y with the sequence to predict"
      ]
    },
    {
      "cell_type": "code",
      "metadata": {
        "id": "aiVYziFcjeWn",
        "colab_type": "code",
        "colab": {}
      },
      "source": [
        "# range of the data\n",
        "X = np.linspace(-3.14 * 2, 3.14 * 2, 100)"
      ],
      "execution_count": 0,
      "outputs": []
    },
    {
      "cell_type": "code",
      "metadata": {
        "id": "ee-Cz7kpj9rM",
        "colab_type": "code",
        "outputId": "56cb0ff8-f53a-425e-c931-175c2aa6a912",
        "colab": {
          "base_uri": "https://localhost:8080/",
          "height": 197
        }
      },
      "source": [
        "#Y = np.array([(np.sin(x), np.cos(x)) for x in X])\n",
        "Y = np.array([(np.sin(x) + np.random.normal(0, 0.1), np.cos(x) + np.random.normal(0, 0.1)) for x in X])\n",
        "Y[:10]"
      ],
      "execution_count": 3,
      "outputs": [
        {
          "output_type": "execute_result",
          "data": {
            "text/plain": [
              "array([[0.05190287, 1.0847361 ],\n",
              "       [0.1656199 , 0.9680282 ],\n",
              "       [0.20852577, 0.99013124],\n",
              "       [0.40080829, 0.93932601],\n",
              "       [0.63003734, 0.7932626 ],\n",
              "       [0.73727632, 0.73207735],\n",
              "       [0.6040032 , 0.51987857],\n",
              "       [0.70968566, 0.55598757],\n",
              "       [0.7625294 , 0.50407891],\n",
              "       [0.80947848, 0.24755719]])"
            ]
          },
          "metadata": {
            "tags": []
          },
          "execution_count": 3
        }
      ]
    },
    {
      "cell_type": "code",
      "metadata": {
        "id": "2EGIkmgjkZK2",
        "colab_type": "code",
        "outputId": "183dce1b-713a-4264-fe94-01e599f17526",
        "colab": {
          "base_uri": "https://localhost:8080/",
          "height": 283
        }
      },
      "source": [
        "plt.plot(X, Y[:,0], label=\"sin\", marker=\"o\")\n",
        "plt.plot(X, Y[:,1], label=\"cos\", marker='*')\n",
        "plt.legend()"
      ],
      "execution_count": 4,
      "outputs": [
        {
          "output_type": "execute_result",
          "data": {
            "text/plain": [
              "<matplotlib.legend.Legend at 0x7f1657db41d0>"
            ]
          },
          "metadata": {
            "tags": []
          },
          "execution_count": 4
        },
        {
          "output_type": "display_data",
          "data": {
            "image/png": "[encoded data removed]",
            "text/plain": [
              "<Figure size 432x288 with 1 Axes>"
            ]
          },
          "metadata": {
            "tags": []
          }
        }
      ]
    },
    {
      "cell_type": "markdown",
      "metadata": {
        "id": "2PKODGpWr7fq",
        "colab_type": "text"
      },
      "source": [
        "# Convert numpy array to torch.Tensor"
      ]
    },
    {
      "cell_type": "code",
      "metadata": {
        "id": "qKpvmfsTkkyZ",
        "colab_type": "code",
        "outputId": "4dcc9029-3ede-4cf3-c7bc-215cb72215e8",
        "colab": {
          "base_uri": "https://localhost:8080/",
          "height": 35
        }
      },
      "source": [
        "# convert Y into input tensors\n",
        "#input_tensor = torch.tensor(Y, dtype=torch.float32).to(DEVICE)\n",
        "input_tensor = torch.tensor(Y, dtype=torch.float32)\n",
        "input_tensor.shape"
      ],
      "execution_count": 5,
      "outputs": [
        {
          "output_type": "execute_result",
          "data": {
            "text/plain": [
              "torch.Size([100, 2])"
            ]
          },
          "metadata": {
            "tags": []
          },
          "execution_count": 5
        }
      ]
    },
    {
      "cell_type": "code",
      "metadata": {
        "id": "wxdoLAURrAcp",
        "colab_type": "code",
        "outputId": "5a796eef-8153-4e45-c504-94fb4c5328b3",
        "colab": {
          "base_uri": "https://localhost:8080/",
          "height": 197
        }
      },
      "source": [
        "# check input_tensor\n",
        "input_tensor[:10]"
      ],
      "execution_count": 6,
      "outputs": [
        {
          "output_type": "execute_result",
          "data": {
            "text/plain": [
              "tensor([[0.0519, 1.0847],\n",
              "        [0.1656, 0.9680],\n",
              "        [0.2085, 0.9901],\n",
              "        [0.4008, 0.9393],\n",
              "        [0.6300, 0.7933],\n",
              "        [0.7373, 0.7321],\n",
              "        [0.6040, 0.5199],\n",
              "        [0.7097, 0.5560],\n",
              "        [0.7625, 0.5041],\n",
              "        [0.8095, 0.2476]])"
            ]
          },
          "metadata": {
            "tags": []
          },
          "execution_count": 6
        }
      ]
    },
    {
      "cell_type": "code",
      "metadata": {
        "id": "LnncsVsGrRpD",
        "colab_type": "code",
        "outputId": "d1808318-4a69-438b-80f5-6f94aa7ff143",
        "colab": {
          "base_uri": "https://localhost:8080/",
          "height": 197
        }
      },
      "source": [
        "# make target_tensor by rotating input_tensor\n",
        "# target_tensor = torch.cat((input_tensor[1:], input_tensor[0:1]), 0).to(DEVICE)\n",
        "target_tensor = torch.cat((input_tensor[1:], input_tensor[0:1]), 0)\n",
        "target_tensor[:10]"
      ],
      "execution_count": 7,
      "outputs": [
        {
          "output_type": "execute_result",
          "data": {
            "text/plain": [
              "tensor([[0.1656, 0.9680],\n",
              "        [0.2085, 0.9901],\n",
              "        [0.4008, 0.9393],\n",
              "        [0.6300, 0.7933],\n",
              "        [0.7373, 0.7321],\n",
              "        [0.6040, 0.5199],\n",
              "        [0.7097, 0.5560],\n",
              "        [0.7625, 0.5041],\n",
              "        [0.8095, 0.2476],\n",
              "        [0.8997, 0.3615]])"
            ]
          },
          "metadata": {
            "tags": []
          },
          "execution_count": 7
        }
      ]
    },
    {
      "cell_type": "code",
      "metadata": {
        "id": "ppFN7K-MrN00",
        "colab_type": "code",
        "outputId": "756ad5f5-7471-41c0-8a9d-87763c9f7544",
        "colab": {
          "base_uri": "https://localhost:8080/",
          "height": 197
        }
      },
      "source": [
        "# check the input and target tensors\n",
        "print(torch.cat((input_tensor, target_tensor), 1)[:10])"
      ],
      "execution_count": 8,
      "outputs": [
        {
          "output_type": "stream",
          "text": [
            "tensor([[0.0519, 1.0847, 0.1656, 0.9680],\n",
            "        [0.1656, 0.9680, 0.2085, 0.9901],\n",
            "        [0.2085, 0.9901, 0.4008, 0.9393],\n",
            "        [0.4008, 0.9393, 0.6300, 0.7933],\n",
            "        [0.6300, 0.7933, 0.7373, 0.7321],\n",
            "        [0.7373, 0.7321, 0.6040, 0.5199],\n",
            "        [0.6040, 0.5199, 0.7097, 0.5560],\n",
            "        [0.7097, 0.5560, 0.7625, 0.5041],\n",
            "        [0.7625, 0.5041, 0.8095, 0.2476],\n",
            "        [0.8095, 0.2476, 0.8997, 0.3615]])\n"
          ],
          "name": "stdout"
        }
      ]
    },
    {
      "cell_type": "markdown",
      "metadata": {
        "id": "2pi4nsq8wM9D",
        "colab_type": "text"
      },
      "source": [
        "# Create RNN Class"
      ]
    },
    {
      "cell_type": "code",
      "metadata": {
        "id": "9XH10b8zkbSc",
        "colab_type": "code",
        "colab": {}
      },
      "source": [
        "import torch\n",
        "import torch.nn as nn\n",
        "\n",
        "\n",
        "# RNN to predict the sequence\n",
        "\n",
        "class RNN(nn.Module):\n",
        "    def __init__(self, input_size, hidden_size, output_size):\n",
        "        super(RNN, self).__init__()\n",
        "        self.hidden_size = hidden_size\n",
        "        \n",
        "        self.i2h = nn.Linear(input_size + hidden_size, hidden_size)\n",
        "        self.h2o = nn.Linear(hidden_size, output_size)\n",
        "\n",
        "    def forward(self, input, hidden):\n",
        "#        print(\"shape = {}, {}\".format(input.shape, hidden.shape))\n",
        "#        print(\"input = {}\".format(input))\n",
        "#        print(\"hidden = {}\".format(hidden))\n",
        "      \n",
        "        input_combined = torch.cat((input, hidden), -1)\n",
        "        \n",
        "#        print(\"combined = {}\".format(input_combined))\n",
        "        \n",
        "        hidden = self.i2h(input_combined)\n",
        "        output = self.h2o(hidden)\n",
        "        return output, hidden\n",
        "\n",
        "    def initHidden(self):\n",
        "        return torch.zeros(1, self.hidden_size)"
      ],
      "execution_count": 0,
      "outputs": []
    },
    {
      "cell_type": "code",
      "metadata": {
        "id": "E8GVwLnhHYGP",
        "colab_type": "code",
        "colab": {}
      },
      "source": [
        "#rnn = RNN(2, 32, 2).to(DEVICE)\n",
        "rnn = RNN(2, 32, 2)"
      ],
      "execution_count": 0,
      "outputs": []
    },
    {
      "cell_type": "markdown",
      "metadata": {
        "id": "r9updpNBwG4O",
        "colab_type": "text"
      },
      "source": [
        "# Train RNN"
      ]
    },
    {
      "cell_type": "code",
      "metadata": {
        "id": "r3Cb9HV2ulVc",
        "colab_type": "code",
        "colab": {}
      },
      "source": [
        "# select loss function\n",
        "criterion = nn.MSELoss()\n",
        "\n",
        "# learning rate\n",
        "learning_rate = 0.0005\n",
        "\n",
        "# set optimilzer\n",
        "optimizer = torch.optim.Adam(rnn.parameters(), lr = learning_rate)"
      ],
      "execution_count": 0,
      "outputs": []
    },
    {
      "cell_type": "code",
      "metadata": {
        "id": "2l6rEvogrUQi",
        "colab_type": "code",
        "colab": {}
      },
      "source": [
        "# define train function that trains for one step\n",
        "def train(input_tensor, target_tensor):\n",
        "#    hidden = rnn.initHidden().to(DEVICE)\n",
        "    hidden = rnn.initHidden()\n",
        "\n",
        "    rnn.zero_grad()\n",
        "\n",
        "    loss = 0\n",
        "\n",
        "    for i in range(input_tensor.size(0)):\n",
        "#        print(\"Input = {}, hidden = {}\".format(input_tensor[i], hidden))\n",
        "        output, hidden = rnn(input_tensor[i:i+1], hidden)\n",
        "#        print(\"output = {}, target = {}\".format(output, target_tensor[i:i+1]))\n",
        "        l = criterion(output, target_tensor[i:i+1])\n",
        "        loss += l\n",
        "\n",
        "    loss.backward()\n",
        "\n",
        "    optimizer.step()    \n",
        "#    for p in rnn.parameters():\n",
        "#        p.data.add_(-learning_rate, p.grad.data)\n",
        "\n",
        "    return output, loss.item() / input_tensor.size(0)"
      ],
      "execution_count": 0,
      "outputs": []
    },
    {
      "cell_type": "markdown",
      "metadata": {
        "id": "Z2V3abRiAzZR",
        "colab_type": "text"
      },
      "source": [
        "### Note that pytorch modules inputs a batch rather than a vector!"
      ]
    },
    {
      "cell_type": "code",
      "metadata": {
        "id": "7J1qe7VRsuBy",
        "colab_type": "code",
        "outputId": "7c459eb2-74d9-4f83-8102-67f3068d7c80",
        "colab": {
          "base_uri": "https://localhost:8080/",
          "height": 35
        }
      },
      "source": [
        "# input_tensor[0].shape = torch.Size([2])\n",
        "input_tensor[0]"
      ],
      "execution_count": 13,
      "outputs": [
        {
          "output_type": "execute_result",
          "data": {
            "text/plain": [
              "tensor([0.0519, 1.0847])"
            ]
          },
          "metadata": {
            "tags": []
          },
          "execution_count": 13
        }
      ]
    },
    {
      "cell_type": "code",
      "metadata": {
        "id": "2gT2Mxvn5DJp",
        "colab_type": "code",
        "outputId": "ebd15b63-9911-4e4f-f50a-c5b3e3c5cc12",
        "colab": {
          "base_uri": "https://localhost:8080/",
          "height": 35
        }
      },
      "source": [
        "# input_tensor[0:1].shape = torch.Size([1, 2])\n",
        "input_tensor[0:1]"
      ],
      "execution_count": 14,
      "outputs": [
        {
          "output_type": "execute_result",
          "data": {
            "text/plain": [
              "tensor([[0.0519, 1.0847]])"
            ]
          },
          "metadata": {
            "tags": []
          },
          "execution_count": 14
        }
      ]
    },
    {
      "cell_type": "code",
      "metadata": {
        "id": "AF_MsFrNtV4V",
        "colab_type": "code",
        "colab": {}
      },
      "source": [
        "# utility function to measure time\n",
        "import time\n",
        "import math\n",
        "\n",
        "def timeSince(since):\n",
        "    now = time.time()\n",
        "    s = now - since\n",
        "    m = math.floor(s / 60)\n",
        "    s -= m * 60\n",
        "    return '%dm %ds' % (m, s)"
      ],
      "execution_count": 0,
      "outputs": []
    },
    {
      "cell_type": "code",
      "metadata": {
        "id": "44PwYJp2Tsx7",
        "colab_type": "code",
        "colab": {}
      },
      "source": [
        "def get_data(X):\n",
        "#    X = np.linspace(-3.14 * 2, 3.14 * 2, 100)\n",
        "    Y = np.array([(np.sin(x) + np.random.normal(0, 0.1), np.cos(x) + np.random.normal(0, 0.1)) for x in X])\n",
        "#    input_tensor = torch.tensor(Y, dtype=torch.float32).to(DEVICE)\n",
        "    input_tensor = torch.tensor(Y, dtype=torch.float32)\n",
        "  \n",
        "#    target_tensor = torch.cat((input_tensor[1:], input_tensor[0:1]), 0).to(DEVICE)\n",
        "    target_tensor = torch.cat((input_tensor[1:], input_tensor[0:1]), 0)\n",
        "    \n",
        "    return input_tensor, target_tensor"
      ],
      "execution_count": 0,
      "outputs": []
    },
    {
      "cell_type": "code",
      "metadata": {
        "id": "2-yeJaeEBiT0",
        "colab_type": "code",
        "colab": {}
      },
      "source": [
        "# reset loss history\n",
        "all_losses = []"
      ],
      "execution_count": 0,
      "outputs": []
    },
    {
      "cell_type": "code",
      "metadata": {
        "id": "xT1BccAauPnj",
        "colab_type": "code",
        "outputId": "880cbd46-b228-42bc-f5fd-235e8f37bc0d",
        "colab": {
          "base_uri": "https://localhost:8080/",
          "height": 467
        }
      },
      "source": [
        "n_iters = 5000\n",
        "print_every = 200\n",
        "plot_every = 200\n",
        "total_loss = 0 # Reset every plot_every iters\n",
        "\n",
        "start = time.time()\n",
        "\n",
        "for iter in range(1, n_iters + 1):\n",
        "    input_tensor, target_tensor = get_data(X)\n",
        "    output, loss = train(input_tensor, target_tensor)\n",
        "    total_loss += loss\n",
        "\n",
        "    if iter % print_every == 0:\n",
        "        print('%s (%d %d%%) %.4f' % (timeSince(start), iter, iter / n_iters * 100, loss))\n",
        "\n",
        "    if iter % plot_every == 0:\n",
        "        all_losses.append(total_loss / plot_every)\n",
        "        total_loss = 0"
      ],
      "execution_count": 18,
      "outputs": [
        {
          "output_type": "stream",
          "text": [
            "0m 3s (200 4%) 0.0159\n",
            "0m 6s (400 8%) 0.0116\n",
            "0m 10s (600 12%) 0.0117\n",
            "0m 13s (800 16%) 0.0109\n",
            "0m 17s (1000 20%) 0.0132\n",
            "0m 20s (1200 24%) 0.0124\n",
            "0m 23s (1400 28%) 0.0128\n",
            "0m 27s (1600 32%) 0.0106\n",
            "0m 31s (1800 36%) 0.0116\n",
            "0m 34s (2000 40%) 0.0099\n",
            "0m 38s (2200 44%) 0.0108\n",
            "0m 41s (2400 48%) 0.0090\n",
            "0m 45s (2600 52%) 0.0110\n",
            "0m 49s (2800 56%) 0.0110\n",
            "0m 52s (3000 60%) 0.0102\n",
            "0m 56s (3200 64%) 0.0102\n",
            "0m 59s (3400 68%) 0.0093\n",
            "1m 3s (3600 72%) 0.0111\n",
            "1m 6s (3800 76%) 0.0091\n",
            "1m 10s (4000 80%) 0.0106\n",
            "1m 13s (4200 84%) 0.0107\n",
            "1m 16s (4400 88%) 0.0114\n",
            "1m 20s (4600 92%) 0.0096\n",
            "1m 24s (4800 96%) 0.0125\n",
            "1m 27s (5000 100%) 0.0100\n"
          ],
          "name": "stdout"
        }
      ]
    },
    {
      "cell_type": "code",
      "metadata": {
        "id": "qfOh_r9q8mjI",
        "colab_type": "code",
        "outputId": "d287671f-cc58-480e-fa54-1d27abb2d114",
        "colab": {
          "base_uri": "https://localhost:8080/",
          "height": 283
        }
      },
      "source": [
        "import matplotlib.pyplot as plt\n",
        "import matplotlib.ticker as ticker\n",
        "\n",
        "plt.figure()\n",
        "plt.plot(all_losses)"
      ],
      "execution_count": 19,
      "outputs": [
        {
          "output_type": "execute_result",
          "data": {
            "text/plain": [
              "[<matplotlib.lines.Line2D at 0x7f165791bd68>]"
            ]
          },
          "metadata": {
            "tags": []
          },
          "execution_count": 19
        },
        {
          "output_type": "display_data",
          "data": {
            "image/png": "[encoded data removed]",
            "text/plain": [
              "<Figure size 432x288 with 1 Axes>"
            ]
          },
          "metadata": {
            "tags": []
          }
        }
      ]
    },
    {
      "cell_type": "code",
      "metadata": {
        "id": "QhLvC2JNy1zl",
        "colab_type": "code",
        "outputId": "6145b042-ab94-4e1b-fecc-2a3017171afd",
        "colab": {
          "base_uri": "https://localhost:8080/",
          "height": 35
        }
      },
      "source": [
        "predict_tensor = torch.tensor([[np.sin(X[0]), np.cos(X[0])]])\n",
        "predict_tensor"
      ],
      "execution_count": 20,
      "outputs": [
        {
          "output_type": "execute_result",
          "data": {
            "text/plain": [
              "tensor([[0.0032, 1.0000]])"
            ]
          },
          "metadata": {
            "tags": []
          },
          "execution_count": 20
        }
      ]
    },
    {
      "cell_type": "code",
      "metadata": {
        "id": "RUlq27zI6NZ1",
        "colab_type": "code",
        "colab": {}
      },
      "source": [
        "hidden = rnn.initHidden();\n",
        "\n",
        "for i in range(1,len(X)):\n",
        "#  print(\"input = {}\".format(predict[-1:]))\n",
        "#  print(\"hidden = {}\".format(hidden))\n",
        "  output, hidden = rnn(predict_tensor[-1:], hidden)\n",
        "  predict_tensor = torch.cat((predict_tensor, output), 0)\n",
        "#  print(\"predict = {}\".format(predict))"
      ],
      "execution_count": 0,
      "outputs": []
    },
    {
      "cell_type": "code",
      "metadata": {
        "id": "P-1-2h226XgR",
        "colab_type": "code",
        "outputId": "133aac21-103f-4e03-8fdf-fa2d3f8d2a52",
        "colab": {
          "base_uri": "https://localhost:8080/",
          "height": 197
        }
      },
      "source": [
        "predict_tensor[:10]"
      ],
      "execution_count": 22,
      "outputs": [
        {
          "output_type": "execute_result",
          "data": {
            "text/plain": [
              "tensor([[0.0032, 1.0000],\n",
              "        [0.1327, 0.9791],\n",
              "        [0.2506, 0.9745],\n",
              "        [0.3827, 0.9271],\n",
              "        [0.4793, 0.8797],\n",
              "        [0.5919, 0.8111],\n",
              "        [0.6939, 0.7328],\n",
              "        [0.7796, 0.6398],\n",
              "        [0.8546, 0.5369],\n",
              "        [0.9146, 0.4260]], grad_fn=<SliceBackward>)"
            ]
          },
          "metadata": {
            "tags": []
          },
          "execution_count": 22
        }
      ]
    },
    {
      "cell_type": "code",
      "metadata": {
        "id": "GxZ8Dik68dHl",
        "colab_type": "code",
        "outputId": "778b1a1b-c56d-4fd4-ec03-5cd2d8d7c765",
        "colab": {
          "base_uri": "https://localhost:8080/",
          "height": 283
        }
      },
      "source": [
        "predict = predict_tensor.detach().numpy()\n",
        "plt.plot (X, predict[:,0])\n",
        "plt.plot (X, predict[:,1])"
      ],
      "execution_count": 23,
      "outputs": [
        {
          "output_type": "execute_result",
          "data": {
            "text/plain": [
              "[<matplotlib.lines.Line2D at 0x7f1650510b70>]"
            ]
          },
          "metadata": {
            "tags": []
          },
          "execution_count": 23
        },
        {
          "output_type": "display_data",
          "data": {
            "image/png": "[encoded data removed]",
            "text/plain": [
              "<Figure size 432x288 with 1 Axes>"
            ]
          },
          "metadata": {
            "tags": []
          }
        }
      ]
    },
    {
      "cell_type": "code",
      "metadata": {
        "id": "FHfXtXOo9J5K",
        "colab_type": "code",
        "colab": {}
      },
      "source": [
        ""
      ],
      "execution_count": 0,
      "outputs": []
    }
  ]
}